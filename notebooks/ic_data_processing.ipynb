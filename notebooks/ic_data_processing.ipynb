{
 "cells": [
  {
   "cell_type": "markdown",
   "source": [
    "***\n",
    "## __Imports__\n",
    "***"
   ],
   "metadata": {
    "collapsed": false,
    "pycharm": {
     "name": "#%% md\n"
    }
   }
  },
  {
   "cell_type": "code",
   "execution_count": 35,
   "metadata": {
    "collapsed": true
   },
   "outputs": [],
   "source": [
    "# -*- coding: utf-8 -*-\n",
    "import os\n",
    "\n",
    "import pandas as pd\n",
    "\n",
    "from aqmd_pylib.aqmd_lib import data_toolkit as dtk\n",
    "from aqmd_pylib.aqmd_lib import util\n",
    "from aqmd_pylib.aqmd_lib.util import nLoop\n",
    "\n",
    "from PyScripts import InnovCorridor_CodeKit as ic"
   ]
  },
  {
   "cell_type": "markdown",
   "source": [
    "***\n",
    "## __Settings and File Paths__\n",
    "***"
   ],
   "metadata": {
    "collapsed": false,
    "pycharm": {
     "name": "#%% md\n"
    }
   }
  },
  {
   "cell_type": "code",
   "execution_count": 36,
   "outputs": [],
   "source": [
    "SAVE_TABLES = True\n",
    "SAVE_GRAPHS = False\n",
    "\n",
    "fPath_carb = r'../data/~originals/CARB/RUBIDOUX_PM25HR_PICKDATA_2021-10-31.csv'\n",
    "fPath_historicalClarity = r'../data/~originals/Clarity_Originals/historical_pm25cal_highres.csv'\n",
    "fPath_metadata = r'../data/metadata/metadata.xlsx'\n",
    "fPath_weatherData = r'..\\data\\~originals\\OpenWeather Data\\OpenWeather_September_2020_to_September_2021.csv'\n",
    "fpath_no2 = r'../data/~originals/Clarity_Originals/ucr_no2_unaveraged.csv'\n",
    "\n",
    "FPath_analysis = r'..\\Analysis'\n",
    "FPath_travelTime_csv = r'..\\data\\~originals\\travel_time_csv'\n",
    "FPath_clarity_originals_HighRes = r'../data/~originals/Clarity_Originals/HighRes'\n",
    "FPath_clarity_originals_hourly = r'../data/~originals/Clarity_Originals/Hourly'\n",
    "FPath_PEMS = '../data/~originals/pems_freeway/'\n",
    "FPath_GridSmart_csv = '../data/~originals/Gridsmart_originals/gridsmart_csv/'\n",
    "\n",
    "pd.set_option('display.max_columns', None)\n",
    "pd.set_option('display.width', None)\n",
    "pd.set_option('display.max_colwidth', None)"
   ],
   "metadata": {
    "collapsed": false,
    "pycharm": {
     "name": "#%%\n"
    }
   }
  },
  {
   "cell_type": "markdown",
   "source": [
    "***\n",
    "## __Metadata__\n",
    "***"
   ],
   "metadata": {
    "collapsed": false,
    "pycharm": {
     "name": "#%% md\n"
    }
   }
  },
  {
   "cell_type": "code",
   "execution_count": 37,
   "outputs": [
    {
     "data": {
      "text/plain": "   sensorID  nickname          Cross Streets   Latitude   Longitude  \\\n0  ARHF78W6  Magnolia       Magnolia & Tyler  33.911928 -117.461394   \n1  AY3HFT4R      Iowa      Iowa & University  33.975591 -117.339897   \n2  AGJ1PPLJ   Chicago   Chicago & University  33.975566 -117.348524   \n3  A4T789S6  Cranford  Cranford & University  33.975624 -117.344182   \n\n   Cardinal Relation  \n0                NaN  \n1                NaN  \n2                NaN  \n3                NaN  ",
      "text/html": "<div>\n<style scoped>\n    .dataframe tbody tr th:only-of-type {\n        vertical-align: middle;\n    }\n\n    .dataframe tbody tr th {\n        vertical-align: top;\n    }\n\n    .dataframe thead th {\n        text-align: right;\n    }\n</style>\n<table border=\"1\" class=\"dataframe\">\n  <thead>\n    <tr style=\"text-align: right;\">\n      <th></th>\n      <th>sensorID</th>\n      <th>nickname</th>\n      <th>Cross Streets</th>\n      <th>Latitude</th>\n      <th>Longitude</th>\n      <th>Cardinal Relation</th>\n    </tr>\n  </thead>\n  <tbody>\n    <tr>\n      <th>0</th>\n      <td>ARHF78W6</td>\n      <td>Magnolia</td>\n      <td>Magnolia &amp; Tyler</td>\n      <td>33.911928</td>\n      <td>-117.461394</td>\n      <td>NaN</td>\n    </tr>\n    <tr>\n      <th>1</th>\n      <td>AY3HFT4R</td>\n      <td>Iowa</td>\n      <td>Iowa &amp; University</td>\n      <td>33.975591</td>\n      <td>-117.339897</td>\n      <td>NaN</td>\n    </tr>\n    <tr>\n      <th>2</th>\n      <td>AGJ1PPLJ</td>\n      <td>Chicago</td>\n      <td>Chicago &amp; University</td>\n      <td>33.975566</td>\n      <td>-117.348524</td>\n      <td>NaN</td>\n    </tr>\n    <tr>\n      <th>3</th>\n      <td>A4T789S6</td>\n      <td>Cranford</td>\n      <td>Cranford &amp; University</td>\n      <td>33.975624</td>\n      <td>-117.344182</td>\n      <td>NaN</td>\n    </tr>\n  </tbody>\n</table>\n</div>"
     },
     "execution_count": 37,
     "metadata": {},
     "output_type": "execute_result"
    }
   ],
   "source": [
    "clarity_metadata = pd.read_excel(fPath_metadata, sheet_name='ClaritySensors', header=0)\n",
    "clarity_metadata"
   ],
   "metadata": {
    "collapsed": false,
    "pycharm": {
     "name": "#%%\n"
    }
   }
  },
  {
   "cell_type": "code",
   "execution_count": 38,
   "outputs": [
    {
     "data": {
      "text/plain": "   pathID      Name  Distance(m) Start Node  \\\n0    HEW1   Local 1          836         H6   \n1    HEW2   Local 2          893         H5   \n2    HEW3   Local 3          829         H4   \n3    HEW4   Local 4          490         H3   \n4    HEW5   Local 5          929         H2   \n5    HWE1   Local 6          931         H1   \n6    HWE2   Local 7          491         H2   \n7    HWE3   Local 8          808         H3   \n8    HWE4   Local 9          918         H4   \n9    HWE5  Local 10          836         H5   \n10   FEW1     Fwy 1         2326         F1   \n11   FWE1     Fwy 2         2508         F3   \n12   FEW2     Fwy 3         2651         F2   \n13   FWE2     Fwy 4         2450         F4   \n\n                                                        Start Addreess  \\\n0                              948 University Ave, Riverside, CA 92507   \n1                             1426 University Ave, Riverside, CA 92507   \n2                     1889 University Ave STE 109, Riverside, CA 92507   \n3                             2460 University Ave, Riverside, CA 92507   \n4                             2980 University Ave, Riverside, CA 92507   \n5   Cesar E. Chavez Memorial, 3746 University Ave, Riverside, CA 92501   \n6                             2980 University Ave, Riverside, CA 92507   \n7                             2460 University Ave, Riverside, CA 92507   \n8                     1889 University Ave STE 109, Riverside, CA 92507   \n9                             1426 University Ave, Riverside, CA 92507   \n10                    888 Martin Luther King Blvd, Riverside, CA 92507   \n11                                 3219 Spruce St, Riverside, CA 92501   \n12                         ARCO, 1360 W Blaine St, Riverside, CA 92507   \n13                            Subway, 3315 14th St, Riverside CA 92501   \n\n    Start Latitude  Start Longitude End Node  \\\n0         33.97580       -117.33385       H5   \n1         33.97570       -117.34262       H4   \n2         33.97614       -117.35254       H3   \n3         33.97574       -117.35254       H2   \n4         33.97768       -117.36593       H1   \n5         33.98211       -117.37477       H2   \n6         33.97768       -117.36593       H3   \n7         33.97574       -117.35254       H4   \n8         33.97614       -117.35254       H5   \n9         33.97570       -117.34262       H6   \n10        33.96839       -117.33035       F3   \n11        33.99191       -117.36048       F1   \n12        33.98279       -117.34147       F4   \n13        33.97471       -117.37386       F2   \n\n                                                           End Address  \\\n0                             1426 University Ave, Riverside, CA 92507   \n1                     1889 University Ave STE 109, Riverside, CA 92507   \n2                             2460 University Ave, Riverside, CA 92507   \n3                             2980 University Ave, Riverside, CA 92507   \n4   Cesar E. Chavez Memorial, 3746 University Ave, Riverside, CA 92501   \n5                             2980 University Ave, Riverside, CA 92507   \n6                             2460 University Ave, Riverside, CA 92507   \n7                     1889 University Ave STE 109, Riverside, CA 92507   \n8                             1426 University Ave, Riverside, CA 92507   \n9                              948 University Ave, Riverside, CA 92507   \n10                                 3219 Spruce St, Riverside, CA 92501   \n11                    888 Martin Luther King Blvd, Riverside, CA 92507   \n12                            Subway, 3315 14th St, Riverside CA 92501   \n13                         ARCO, 1360 W Blaine St, Riverside, CA 92507   \n\n    End Latitude  End Longitude                Path Info  Cardinal Relation  \n0       33.97570     -117.34262   WB Innovation Corridor                NaN  \n1       33.97614     -117.35254   WB Innovation Corridor                NaN  \n2       33.97574     -117.35254   WB Innovation Corridor                NaN  \n3       33.97768     -117.36593   WB Innovation Corridor                NaN  \n4       33.98211     -117.37477   WB Innovation Corridor                NaN  \n5       33.97768     -117.36593  EB Innnovation Corridor                NaN  \n6       33.97574     -117.35254  EB Innnovation Corridor                NaN  \n7       33.97614     -117.35254  EB Innnovation Corridor                NaN  \n8       33.97570     -117.34262  EB Innnovation Corridor                NaN  \n9       33.97580     -117.33385  EB Innnovation Corridor                NaN  \n10      33.99191     -117.36048                 NB I-215                NaN  \n11      33.96839     -117.33035                 91 E Fwy                NaN  \n12      33.97471            NaN                 SB I-215                NaN  \n13      33.98279     -117.34147                 91 W Fwy                NaN  ",
      "text/html": "<div>\n<style scoped>\n    .dataframe tbody tr th:only-of-type {\n        vertical-align: middle;\n    }\n\n    .dataframe tbody tr th {\n        vertical-align: top;\n    }\n\n    .dataframe thead th {\n        text-align: right;\n    }\n</style>\n<table border=\"1\" class=\"dataframe\">\n  <thead>\n    <tr style=\"text-align: right;\">\n      <th></th>\n      <th>pathID</th>\n      <th>Name</th>\n      <th>Distance(m)</th>\n      <th>Start Node</th>\n      <th>Start Addreess</th>\n      <th>Start Latitude</th>\n      <th>Start Longitude</th>\n      <th>End Node</th>\n      <th>End Address</th>\n      <th>End Latitude</th>\n      <th>End Longitude</th>\n      <th>Path Info</th>\n      <th>Cardinal Relation</th>\n    </tr>\n  </thead>\n  <tbody>\n    <tr>\n      <th>0</th>\n      <td>HEW1</td>\n      <td>Local 1</td>\n      <td>836</td>\n      <td>H6</td>\n      <td>948 University Ave, Riverside, CA 92507</td>\n      <td>33.97580</td>\n      <td>-117.33385</td>\n      <td>H5</td>\n      <td>1426 University Ave, Riverside, CA 92507</td>\n      <td>33.97570</td>\n      <td>-117.34262</td>\n      <td>WB Innovation Corridor</td>\n      <td>NaN</td>\n    </tr>\n    <tr>\n      <th>1</th>\n      <td>HEW2</td>\n      <td>Local 2</td>\n      <td>893</td>\n      <td>H5</td>\n      <td>1426 University Ave, Riverside, CA 92507</td>\n      <td>33.97570</td>\n      <td>-117.34262</td>\n      <td>H4</td>\n      <td>1889 University Ave STE 109, Riverside, CA 92507</td>\n      <td>33.97614</td>\n      <td>-117.35254</td>\n      <td>WB Innovation Corridor</td>\n      <td>NaN</td>\n    </tr>\n    <tr>\n      <th>2</th>\n      <td>HEW3</td>\n      <td>Local 3</td>\n      <td>829</td>\n      <td>H4</td>\n      <td>1889 University Ave STE 109, Riverside, CA 92507</td>\n      <td>33.97614</td>\n      <td>-117.35254</td>\n      <td>H3</td>\n      <td>2460 University Ave, Riverside, CA 92507</td>\n      <td>33.97574</td>\n      <td>-117.35254</td>\n      <td>WB Innovation Corridor</td>\n      <td>NaN</td>\n    </tr>\n    <tr>\n      <th>3</th>\n      <td>HEW4</td>\n      <td>Local 4</td>\n      <td>490</td>\n      <td>H3</td>\n      <td>2460 University Ave, Riverside, CA 92507</td>\n      <td>33.97574</td>\n      <td>-117.35254</td>\n      <td>H2</td>\n      <td>2980 University Ave, Riverside, CA 92507</td>\n      <td>33.97768</td>\n      <td>-117.36593</td>\n      <td>WB Innovation Corridor</td>\n      <td>NaN</td>\n    </tr>\n    <tr>\n      <th>4</th>\n      <td>HEW5</td>\n      <td>Local 5</td>\n      <td>929</td>\n      <td>H2</td>\n      <td>2980 University Ave, Riverside, CA 92507</td>\n      <td>33.97768</td>\n      <td>-117.36593</td>\n      <td>H1</td>\n      <td>Cesar E. Chavez Memorial, 3746 University Ave, Riverside, CA 92501</td>\n      <td>33.98211</td>\n      <td>-117.37477</td>\n      <td>WB Innovation Corridor</td>\n      <td>NaN</td>\n    </tr>\n    <tr>\n      <th>5</th>\n      <td>HWE1</td>\n      <td>Local 6</td>\n      <td>931</td>\n      <td>H1</td>\n      <td>Cesar E. Chavez Memorial, 3746 University Ave, Riverside, CA 92501</td>\n      <td>33.98211</td>\n      <td>-117.37477</td>\n      <td>H2</td>\n      <td>2980 University Ave, Riverside, CA 92507</td>\n      <td>33.97768</td>\n      <td>-117.36593</td>\n      <td>EB Innnovation Corridor</td>\n      <td>NaN</td>\n    </tr>\n    <tr>\n      <th>6</th>\n      <td>HWE2</td>\n      <td>Local 7</td>\n      <td>491</td>\n      <td>H2</td>\n      <td>2980 University Ave, Riverside, CA 92507</td>\n      <td>33.97768</td>\n      <td>-117.36593</td>\n      <td>H3</td>\n      <td>2460 University Ave, Riverside, CA 92507</td>\n      <td>33.97574</td>\n      <td>-117.35254</td>\n      <td>EB Innnovation Corridor</td>\n      <td>NaN</td>\n    </tr>\n    <tr>\n      <th>7</th>\n      <td>HWE3</td>\n      <td>Local 8</td>\n      <td>808</td>\n      <td>H3</td>\n      <td>2460 University Ave, Riverside, CA 92507</td>\n      <td>33.97574</td>\n      <td>-117.35254</td>\n      <td>H4</td>\n      <td>1889 University Ave STE 109, Riverside, CA 92507</td>\n      <td>33.97614</td>\n      <td>-117.35254</td>\n      <td>EB Innnovation Corridor</td>\n      <td>NaN</td>\n    </tr>\n    <tr>\n      <th>8</th>\n      <td>HWE4</td>\n      <td>Local 9</td>\n      <td>918</td>\n      <td>H4</td>\n      <td>1889 University Ave STE 109, Riverside, CA 92507</td>\n      <td>33.97614</td>\n      <td>-117.35254</td>\n      <td>H5</td>\n      <td>1426 University Ave, Riverside, CA 92507</td>\n      <td>33.97570</td>\n      <td>-117.34262</td>\n      <td>EB Innnovation Corridor</td>\n      <td>NaN</td>\n    </tr>\n    <tr>\n      <th>9</th>\n      <td>HWE5</td>\n      <td>Local 10</td>\n      <td>836</td>\n      <td>H5</td>\n      <td>1426 University Ave, Riverside, CA 92507</td>\n      <td>33.97570</td>\n      <td>-117.34262</td>\n      <td>H6</td>\n      <td>948 University Ave, Riverside, CA 92507</td>\n      <td>33.97580</td>\n      <td>-117.33385</td>\n      <td>EB Innnovation Corridor</td>\n      <td>NaN</td>\n    </tr>\n    <tr>\n      <th>10</th>\n      <td>FEW1</td>\n      <td>Fwy 1</td>\n      <td>2326</td>\n      <td>F1</td>\n      <td>888 Martin Luther King Blvd, Riverside, CA 92507</td>\n      <td>33.96839</td>\n      <td>-117.33035</td>\n      <td>F3</td>\n      <td>3219 Spruce St, Riverside, CA 92501</td>\n      <td>33.99191</td>\n      <td>-117.36048</td>\n      <td>NB I-215</td>\n      <td>NaN</td>\n    </tr>\n    <tr>\n      <th>11</th>\n      <td>FWE1</td>\n      <td>Fwy 2</td>\n      <td>2508</td>\n      <td>F3</td>\n      <td>3219 Spruce St, Riverside, CA 92501</td>\n      <td>33.99191</td>\n      <td>-117.36048</td>\n      <td>F1</td>\n      <td>888 Martin Luther King Blvd, Riverside, CA 92507</td>\n      <td>33.96839</td>\n      <td>-117.33035</td>\n      <td>91 E Fwy</td>\n      <td>NaN</td>\n    </tr>\n    <tr>\n      <th>12</th>\n      <td>FEW2</td>\n      <td>Fwy 3</td>\n      <td>2651</td>\n      <td>F2</td>\n      <td>ARCO, 1360 W Blaine St, Riverside, CA 92507</td>\n      <td>33.98279</td>\n      <td>-117.34147</td>\n      <td>F4</td>\n      <td>Subway, 3315 14th St, Riverside CA 92501</td>\n      <td>33.97471</td>\n      <td>NaN</td>\n      <td>SB I-215</td>\n      <td>NaN</td>\n    </tr>\n    <tr>\n      <th>13</th>\n      <td>FWE2</td>\n      <td>Fwy 4</td>\n      <td>2450</td>\n      <td>F4</td>\n      <td>Subway, 3315 14th St, Riverside CA 92501</td>\n      <td>33.97471</td>\n      <td>-117.37386</td>\n      <td>F2</td>\n      <td>ARCO, 1360 W Blaine St, Riverside, CA 92507</td>\n      <td>33.98279</td>\n      <td>-117.34147</td>\n      <td>91 W Fwy</td>\n      <td>NaN</td>\n    </tr>\n  </tbody>\n</table>\n</div>"
     },
     "execution_count": 38,
     "metadata": {},
     "output_type": "execute_result"
    }
   ],
   "source": [
    "travelPath_metadata = pd.read_excel(fPath_metadata, sheet_name='TravelPaths', header=0)\n",
    "travelPath_metadata"
   ],
   "metadata": {
    "collapsed": false,
    "pycharm": {
     "name": "#%%\n"
    }
   }
  },
  {
   "cell_type": "code",
   "execution_count": 39,
   "outputs": [
    {
     "data": {
      "text/plain": "  nodeID                                                             Address  \\\n0     H1  Cesar E. Chavez Memorial, 3746 University Ave, Riverside, CA 92501   \n1     H2                            2980 University Ave, Riverside, CA 92507   \n2     H3                            2460 University Ave, Riverside, CA 92507   \n3     H4                    1889 University Ave STE 109, Riverside, CA 92507   \n4     H5                            1426 University Ave, Riverside, CA 92507   \n5     H6                             948 University Ave, Riverside, CA 92507   \n6     F1                    888 Martin Luther King Blvd, Riverside, CA 92507   \n7     F2                         ARCO, 1360 W Blaine St, Riverside, CA 92507   \n8     F3                                 3219 Spruce St, Riverside, CA 92501   \n9     F4                            Subway, 3315 14th St, Riverside CA 92501   \n\n   Latitude  Longitude  \n0  33.98211 -117.37477  \n1  33.97768 -117.36593  \n2  33.97574 -117.35254  \n3  33.97614 -117.35254  \n4  33.97570 -117.34262  \n5  33.97580 -117.33385  \n6  33.96839 -117.33035  \n7  33.98279 -117.34147  \n8  33.99191 -117.36048  \n9  33.97471 -117.37386  ",
      "text/html": "<div>\n<style scoped>\n    .dataframe tbody tr th:only-of-type {\n        vertical-align: middle;\n    }\n\n    .dataframe tbody tr th {\n        vertical-align: top;\n    }\n\n    .dataframe thead th {\n        text-align: right;\n    }\n</style>\n<table border=\"1\" class=\"dataframe\">\n  <thead>\n    <tr style=\"text-align: right;\">\n      <th></th>\n      <th>nodeID</th>\n      <th>Address</th>\n      <th>Latitude</th>\n      <th>Longitude</th>\n    </tr>\n  </thead>\n  <tbody>\n    <tr>\n      <th>0</th>\n      <td>H1</td>\n      <td>Cesar E. Chavez Memorial, 3746 University Ave, Riverside, CA 92501</td>\n      <td>33.98211</td>\n      <td>-117.37477</td>\n    </tr>\n    <tr>\n      <th>1</th>\n      <td>H2</td>\n      <td>2980 University Ave, Riverside, CA 92507</td>\n      <td>33.97768</td>\n      <td>-117.36593</td>\n    </tr>\n    <tr>\n      <th>2</th>\n      <td>H3</td>\n      <td>2460 University Ave, Riverside, CA 92507</td>\n      <td>33.97574</td>\n      <td>-117.35254</td>\n    </tr>\n    <tr>\n      <th>3</th>\n      <td>H4</td>\n      <td>1889 University Ave STE 109, Riverside, CA 92507</td>\n      <td>33.97614</td>\n      <td>-117.35254</td>\n    </tr>\n    <tr>\n      <th>4</th>\n      <td>H5</td>\n      <td>1426 University Ave, Riverside, CA 92507</td>\n      <td>33.97570</td>\n      <td>-117.34262</td>\n    </tr>\n    <tr>\n      <th>5</th>\n      <td>H6</td>\n      <td>948 University Ave, Riverside, CA 92507</td>\n      <td>33.97580</td>\n      <td>-117.33385</td>\n    </tr>\n    <tr>\n      <th>6</th>\n      <td>F1</td>\n      <td>888 Martin Luther King Blvd, Riverside, CA 92507</td>\n      <td>33.96839</td>\n      <td>-117.33035</td>\n    </tr>\n    <tr>\n      <th>7</th>\n      <td>F2</td>\n      <td>ARCO, 1360 W Blaine St, Riverside, CA 92507</td>\n      <td>33.98279</td>\n      <td>-117.34147</td>\n    </tr>\n    <tr>\n      <th>8</th>\n      <td>F3</td>\n      <td>3219 Spruce St, Riverside, CA 92501</td>\n      <td>33.99191</td>\n      <td>-117.36048</td>\n    </tr>\n    <tr>\n      <th>9</th>\n      <td>F4</td>\n      <td>Subway, 3315 14th St, Riverside CA 92501</td>\n      <td>33.97471</td>\n      <td>-117.37386</td>\n    </tr>\n  </tbody>\n</table>\n</div>"
     },
     "execution_count": 39,
     "metadata": {},
     "output_type": "execute_result"
    }
   ],
   "source": [
    "travelNode_metadata = pd.read_excel(fPath_metadata, sheet_name='TravelNodes', header=0)\n",
    "travelNode_metadata"
   ],
   "metadata": {
    "collapsed": false,
    "pycharm": {
     "name": "#%%\n"
    }
   }
  },
  {
   "cell_type": "markdown",
   "source": [],
   "metadata": {
    "collapsed": false
   }
  },
  {
   "cell_type": "markdown",
   "source": [
    "***\n",
    "# __Background Concentration__\n",
    "***"
   ],
   "metadata": {
    "collapsed": false,
    "pycharm": {
     "name": "#%% md\n"
    }
   }
  },
  {
   "cell_type": "markdown",
   "source": [
    "***\n",
    "> ## __CARB Data__\n",
    "***"
   ],
   "metadata": {
    "collapsed": false,
    "pycharm": {
     "name": "#%% md\n"
    }
   }
  },
  {
   "cell_type": "code",
   "execution_count": 40,
   "outputs": [
    {
     "name": "stdout",
     "output_type": "stream",
     "text": [
      "<class 'pandas.core.frame.DataFrame'>\n",
      "DatetimeIndex: 6662 entries, 2021-01-01 00:00:00-08:00 to 2021-10-31 23:00:00-07:00\n",
      "Data columns (total 1 columns):\n",
      " #   Column                    Non-Null Count  Dtype  \n",
      "---  ------                    --------------  -----  \n",
      " 0   PM2.5 Background [ug/m3]  6662 non-null   float64\n",
      "dtypes: float64(1)\n",
      "memory usage: 104.1 KB\n"
     ]
    },
    {
     "data": {
      "text/plain": "                              PM2.5 Background [ug/m3]\ndatetime-America/Los_Angeles                          \n2021-01-01 00:00:00-08:00                          2.0\n2021-01-01 01:00:00-08:00                          1.0\n2021-01-01 02:00:00-08:00                         -2.0\n2021-01-01 03:00:00-08:00                         -1.0\n2021-01-01 04:00:00-08:00                          1.0\n...                                                ...\n2021-10-31 19:00:00-07:00                          8.0\n2021-10-31 20:00:00-07:00                         17.0\n2021-10-31 21:00:00-07:00                         19.0\n2021-10-31 22:00:00-07:00                         16.0\n2021-10-31 23:00:00-07:00                         19.0\n\n[6662 rows x 1 columns]",
      "text/html": "<div>\n<style scoped>\n    .dataframe tbody tr th:only-of-type {\n        vertical-align: middle;\n    }\n\n    .dataframe tbody tr th {\n        vertical-align: top;\n    }\n\n    .dataframe thead th {\n        text-align: right;\n    }\n</style>\n<table border=\"1\" class=\"dataframe\">\n  <thead>\n    <tr style=\"text-align: right;\">\n      <th></th>\n      <th>PM2.5 Background [ug/m3]</th>\n    </tr>\n    <tr>\n      <th>datetime-America/Los_Angeles</th>\n      <th></th>\n    </tr>\n  </thead>\n  <tbody>\n    <tr>\n      <th>2021-01-01 00:00:00-08:00</th>\n      <td>2.0</td>\n    </tr>\n    <tr>\n      <th>2021-01-01 01:00:00-08:00</th>\n      <td>1.0</td>\n    </tr>\n    <tr>\n      <th>2021-01-01 02:00:00-08:00</th>\n      <td>-2.0</td>\n    </tr>\n    <tr>\n      <th>2021-01-01 03:00:00-08:00</th>\n      <td>-1.0</td>\n    </tr>\n    <tr>\n      <th>2021-01-01 04:00:00-08:00</th>\n      <td>1.0</td>\n    </tr>\n    <tr>\n      <th>...</th>\n      <td>...</td>\n    </tr>\n    <tr>\n      <th>2021-10-31 19:00:00-07:00</th>\n      <td>8.0</td>\n    </tr>\n    <tr>\n      <th>2021-10-31 20:00:00-07:00</th>\n      <td>17.0</td>\n    </tr>\n    <tr>\n      <th>2021-10-31 21:00:00-07:00</th>\n      <td>19.0</td>\n    </tr>\n    <tr>\n      <th>2021-10-31 22:00:00-07:00</th>\n      <td>16.0</td>\n    </tr>\n    <tr>\n      <th>2021-10-31 23:00:00-07:00</th>\n      <td>19.0</td>\n    </tr>\n  </tbody>\n</table>\n<p>6662 rows × 1 columns</p>\n</div>"
     },
     "execution_count": 40,
     "metadata": {},
     "output_type": "execute_result"
    }
   ],
   "source": [
    "carb_pm25 = pd.read_csv(fPath_carb)\n",
    "carb_pm25 = ic.carb_PM25(carb_pm25)\n",
    "carb_pm25_data = carb_pm25.get_data()\n",
    "\n",
    "carb_pm25_data.info()\n",
    "carb_pm25_data"
   ],
   "metadata": {
    "collapsed": false,
    "pycharm": {
     "name": "#%%\n"
    }
   }
  },
  {
   "cell_type": "code",
   "execution_count": 41,
   "outputs": [
    {
     "data": {
      "text/plain": "<pandas.core.resample.DatetimeIndexResampler object at 0x0000015F09ACF1F0>"
     },
     "execution_count": 41,
     "metadata": {},
     "output_type": "execute_result"
    }
   ],
   "source": [
    "carb_pm25_data_interp = carb_pm25_data.resample('15T')\n",
    "carb_pm25_data_interp"
   ],
   "metadata": {
    "collapsed": false,
    "pycharm": {
     "name": "#%%\n"
    }
   }
  },
  {
   "cell_type": "code",
   "execution_count": 42,
   "outputs": [
    {
     "name": "stdout",
     "output_type": "stream",
     "text": [
      "<class 'pandas.core.frame.DataFrame'>\n",
      "DatetimeIndex: 29177 entries, 2021-01-01 00:00:00-08:00 to 2021-10-31 23:00:00-07:00\n",
      "Freq: 15T\n",
      "Data columns (total 1 columns):\n",
      " #   Column                    Non-Null Count  Dtype  \n",
      "---  ------                    --------------  -----  \n",
      " 0   PM2.5 Background [ug/m3]  29177 non-null  float64\n",
      "dtypes: float64(1)\n",
      "memory usage: 455.9 KB\n"
     ]
    },
    {
     "data": {
      "text/plain": "                              PM2.5 Background [ug/m3]\ndatetime-America/Los_Angeles                          \n2021-01-01 00:00:00-08:00                          2.0\n2021-01-01 00:15:00-08:00                          2.0\n2021-01-01 00:30:00-08:00                          2.0\n2021-01-01 00:45:00-08:00                          2.0\n2021-01-01 01:00:00-08:00                          1.0\n...                                                ...\n2021-10-31 22:00:00-07:00                         16.0\n2021-10-31 22:15:00-07:00                         16.0\n2021-10-31 22:30:00-07:00                         16.0\n2021-10-31 22:45:00-07:00                         16.0\n2021-10-31 23:00:00-07:00                         19.0\n\n[29177 rows x 1 columns]",
      "text/html": "<div>\n<style scoped>\n    .dataframe tbody tr th:only-of-type {\n        vertical-align: middle;\n    }\n\n    .dataframe tbody tr th {\n        vertical-align: top;\n    }\n\n    .dataframe thead th {\n        text-align: right;\n    }\n</style>\n<table border=\"1\" class=\"dataframe\">\n  <thead>\n    <tr style=\"text-align: right;\">\n      <th></th>\n      <th>PM2.5 Background [ug/m3]</th>\n    </tr>\n    <tr>\n      <th>datetime-America/Los_Angeles</th>\n      <th></th>\n    </tr>\n  </thead>\n  <tbody>\n    <tr>\n      <th>2021-01-01 00:00:00-08:00</th>\n      <td>2.0</td>\n    </tr>\n    <tr>\n      <th>2021-01-01 00:15:00-08:00</th>\n      <td>2.0</td>\n    </tr>\n    <tr>\n      <th>2021-01-01 00:30:00-08:00</th>\n      <td>2.0</td>\n    </tr>\n    <tr>\n      <th>2021-01-01 00:45:00-08:00</th>\n      <td>2.0</td>\n    </tr>\n    <tr>\n      <th>2021-01-01 01:00:00-08:00</th>\n      <td>1.0</td>\n    </tr>\n    <tr>\n      <th>...</th>\n      <td>...</td>\n    </tr>\n    <tr>\n      <th>2021-10-31 22:00:00-07:00</th>\n      <td>16.0</td>\n    </tr>\n    <tr>\n      <th>2021-10-31 22:15:00-07:00</th>\n      <td>16.0</td>\n    </tr>\n    <tr>\n      <th>2021-10-31 22:30:00-07:00</th>\n      <td>16.0</td>\n    </tr>\n    <tr>\n      <th>2021-10-31 22:45:00-07:00</th>\n      <td>16.0</td>\n    </tr>\n    <tr>\n      <th>2021-10-31 23:00:00-07:00</th>\n      <td>19.0</td>\n    </tr>\n  </tbody>\n</table>\n<p>29177 rows × 1 columns</p>\n</div>"
     },
     "execution_count": 42,
     "metadata": {},
     "output_type": "execute_result"
    }
   ],
   "source": [
    "carb_pm25_data_interp = carb_pm25_data_interp.ffill()\n",
    "carb_pm25_data_interp = carb_pm25_data_interp[~carb_pm25_data_interp.index.duplicated()]\n",
    "if SAVE_TABLES:\n",
    "    carb_pm25_data_interp.to_csv('../data/CARB/Rubidoux_Background_pm25.csv')\n",
    "carb_pm25_data_interp.info()\n",
    "carb_pm25_data_interp.head(len(carb_pm25_data_interp))"
   ],
   "metadata": {
    "collapsed": false,
    "pycharm": {
     "name": "#%%\n"
    }
   }
  },
  {
   "cell_type": "markdown",
   "source": [
    "***\n",
    "# Hyperlocals Emmissions (Clarity)__\n",
    "***"
   ],
   "metadata": {
    "collapsed": false,
    "pycharm": {
     "name": "#%% md\n"
    }
   }
  },
  {
   "cell_type": "markdown",
   "source": [
    "***\n",
    "> ### __Historical Data__\n",
    "***"
   ],
   "metadata": {
    "collapsed": false
   }
  },
  {
   "cell_type": "code",
   "execution_count": 43,
   "outputs": [
    {
     "name": "stdout",
     "output_type": "stream",
     "text": [
      "<class 'pandas.core.frame.DataFrame'>\n",
      "DatetimeIndex: 88847 entries, 2020-09-29 12:05:00-07:00 to 2021-06-22 23:58:00-07:00\n",
      "Data columns (total 9 columns):\n",
      " #   Column                                                          Non-Null Count  Dtype  \n",
      "---  ------                                                          --------------  -----  \n",
      " 0   Sensor Name                                                     88847 non-null  object \n",
      " 1   Intersection                                                    88847 non-null  object \n",
      " 2   Device ID                                                       88847 non-null  object \n",
      " 3   Date                                                            88847 non-null  object \n",
      " 4   PM2.5 Highest Resolution Mass Concentration Calibrated [ug/m3]  88847 non-null  float64\n",
      " 5   Rel. Humidity Internal Highest Resolution [%]                   88847 non-null  float64\n",
      " 6   Temperature Internal Highest Resolution [degC]                  88847 non-null  float64\n",
      " 7   Latitude                                                        88847 non-null  float64\n",
      " 8   Longitude                                                       88847 non-null  float64\n",
      "dtypes: float64(5), object(4)\n",
      "memory usage: 6.8+ MB\n"
     ]
    },
    {
     "data": {
      "text/plain": "                             Sensor Name           Intersection Device ID  \\\ndatetime-America/Los_Angeles                                                \n2020-09-29 12:05:00-07:00       Magnolia       Magnolia & Tyler  ARHF78W6   \n2020-09-29 13:06:00-07:00       Magnolia       Magnolia & Tyler  ARHF78W6   \n2020-09-29 13:24:00-07:00       Magnolia       Magnolia & Tyler  ARHF78W6   \n2020-09-29 13:41:00-07:00       Magnolia       Magnolia & Tyler  ARHF78W6   \n2020-09-29 13:58:00-07:00       Magnolia       Magnolia & Tyler  ARHF78W6   \n...                                  ...                    ...       ...   \n2021-06-22 23:40:00-07:00        Chicago   Chicago & University  AGJ1PPLJ   \n2021-06-22 23:44:00-07:00       Magnolia       Magnolia & Tyler  ARHF78W6   \n2021-06-22 23:50:00-07:00           Iowa      Iowa & University  AY3HFT4R   \n2021-06-22 23:57:00-07:00       Cranford  Cranford & University  A4T789S6   \n2021-06-22 23:58:00-07:00        Chicago   Chicago & University  AGJ1PPLJ   \n\n                                         Date  \\\ndatetime-America/Los_Angeles                    \n2020-09-29 12:05:00-07:00     9/29/2020 12:05   \n2020-09-29 13:06:00-07:00     9/29/2020 13:06   \n2020-09-29 13:24:00-07:00     9/29/2020 13:24   \n2020-09-29 13:41:00-07:00     9/29/2020 13:41   \n2020-09-29 13:58:00-07:00     9/29/2020 13:58   \n...                                       ...   \n2021-06-22 23:40:00-07:00     6/22/2021 23:40   \n2021-06-22 23:44:00-07:00     6/22/2021 23:44   \n2021-06-22 23:50:00-07:00     6/22/2021 23:50   \n2021-06-22 23:57:00-07:00     6/22/2021 23:57   \n2021-06-22 23:58:00-07:00     6/22/2021 23:58   \n\n                              PM2.5 Highest Resolution Mass Concentration Calibrated [ug/m3]  \\\ndatetime-America/Los_Angeles                                                                   \n2020-09-29 12:05:00-07:00                                                           3.573135   \n2020-09-29 13:06:00-07:00                                                           2.654986   \n2020-09-29 13:24:00-07:00                                                           2.318490   \n2020-09-29 13:41:00-07:00                                                           2.023389   \n2020-09-29 13:58:00-07:00                                                           1.755854   \n...                                                                                      ...   \n2021-06-22 23:40:00-07:00                                                           7.240612   \n2021-06-22 23:44:00-07:00                                                           6.212309   \n2021-06-22 23:50:00-07:00                                                           6.210450   \n2021-06-22 23:57:00-07:00                                                           6.478580   \n2021-06-22 23:58:00-07:00                                                           7.816707   \n\n                              Rel. Humidity Internal Highest Resolution [%]  \\\ndatetime-America/Los_Angeles                                                  \n2020-09-29 12:05:00-07:00                                         25.265888   \n2020-09-29 13:06:00-07:00                                         22.885481   \n2020-09-29 13:24:00-07:00                                         22.088961   \n2020-09-29 13:41:00-07:00                                         23.118944   \n2020-09-29 13:58:00-07:00                                         21.947052   \n...                                                                     ...   \n2021-06-22 23:40:00-07:00                                         52.887772   \n2021-06-22 23:44:00-07:00                                         56.778820   \n2021-06-22 23:50:00-07:00                                         52.457466   \n2021-06-22 23:57:00-07:00                                         53.345539   \n2021-06-22 23:58:00-07:00                                         53.968109   \n\n                              Temperature Internal Highest Resolution [degC]  \\\ndatetime-America/Los_Angeles                                                   \n2020-09-29 12:05:00-07:00                                          34.912262   \n2020-09-29 13:06:00-07:00                                          38.290230   \n2020-09-29 13:24:00-07:00                                          38.768219   \n2020-09-29 13:41:00-07:00                                          38.981842   \n2020-09-29 13:58:00-07:00                                          39.166092   \n...                                                                      ...   \n2021-06-22 23:40:00-07:00                                          23.197525   \n2021-06-22 23:44:00-07:00                                          22.420464   \n2021-06-22 23:50:00-07:00                                          23.152130   \n2021-06-22 23:57:00-07:00                                          22.794312   \n2021-06-22 23:58:00-07:00                                          22.730217   \n\n                               Latitude   Longitude  \ndatetime-America/Los_Angeles                         \n2020-09-29 12:05:00-07:00     33.911928 -117.461394  \n2020-09-29 13:06:00-07:00     33.911928 -117.461394  \n2020-09-29 13:24:00-07:00     33.911928 -117.461394  \n2020-09-29 13:41:00-07:00     33.911928 -117.461394  \n2020-09-29 13:58:00-07:00     33.911928 -117.461394  \n...                                 ...         ...  \n2021-06-22 23:40:00-07:00     33.975566 -117.348524  \n2021-06-22 23:44:00-07:00     33.911928 -117.461394  \n2021-06-22 23:50:00-07:00     33.975591 -117.339897  \n2021-06-22 23:57:00-07:00     33.975624 -117.344182  \n2021-06-22 23:58:00-07:00     33.975566 -117.348524  \n\n[88847 rows x 9 columns]",
      "text/html": "<div>\n<style scoped>\n    .dataframe tbody tr th:only-of-type {\n        vertical-align: middle;\n    }\n\n    .dataframe tbody tr th {\n        vertical-align: top;\n    }\n\n    .dataframe thead th {\n        text-align: right;\n    }\n</style>\n<table border=\"1\" class=\"dataframe\">\n  <thead>\n    <tr style=\"text-align: right;\">\n      <th></th>\n      <th>Sensor Name</th>\n      <th>Intersection</th>\n      <th>Device ID</th>\n      <th>Date</th>\n      <th>PM2.5 Highest Resolution Mass Concentration Calibrated [ug/m3]</th>\n      <th>Rel. Humidity Internal Highest Resolution [%]</th>\n      <th>Temperature Internal Highest Resolution [degC]</th>\n      <th>Latitude</th>\n      <th>Longitude</th>\n    </tr>\n    <tr>\n      <th>datetime-America/Los_Angeles</th>\n      <th></th>\n      <th></th>\n      <th></th>\n      <th></th>\n      <th></th>\n      <th></th>\n      <th></th>\n      <th></th>\n      <th></th>\n    </tr>\n  </thead>\n  <tbody>\n    <tr>\n      <th>2020-09-29 12:05:00-07:00</th>\n      <td>Magnolia</td>\n      <td>Magnolia &amp; Tyler</td>\n      <td>ARHF78W6</td>\n      <td>9/29/2020 12:05</td>\n      <td>3.573135</td>\n      <td>25.265888</td>\n      <td>34.912262</td>\n      <td>33.911928</td>\n      <td>-117.461394</td>\n    </tr>\n    <tr>\n      <th>2020-09-29 13:06:00-07:00</th>\n      <td>Magnolia</td>\n      <td>Magnolia &amp; Tyler</td>\n      <td>ARHF78W6</td>\n      <td>9/29/2020 13:06</td>\n      <td>2.654986</td>\n      <td>22.885481</td>\n      <td>38.290230</td>\n      <td>33.911928</td>\n      <td>-117.461394</td>\n    </tr>\n    <tr>\n      <th>2020-09-29 13:24:00-07:00</th>\n      <td>Magnolia</td>\n      <td>Magnolia &amp; Tyler</td>\n      <td>ARHF78W6</td>\n      <td>9/29/2020 13:24</td>\n      <td>2.318490</td>\n      <td>22.088961</td>\n      <td>38.768219</td>\n      <td>33.911928</td>\n      <td>-117.461394</td>\n    </tr>\n    <tr>\n      <th>2020-09-29 13:41:00-07:00</th>\n      <td>Magnolia</td>\n      <td>Magnolia &amp; Tyler</td>\n      <td>ARHF78W6</td>\n      <td>9/29/2020 13:41</td>\n      <td>2.023389</td>\n      <td>23.118944</td>\n      <td>38.981842</td>\n      <td>33.911928</td>\n      <td>-117.461394</td>\n    </tr>\n    <tr>\n      <th>2020-09-29 13:58:00-07:00</th>\n      <td>Magnolia</td>\n      <td>Magnolia &amp; Tyler</td>\n      <td>ARHF78W6</td>\n      <td>9/29/2020 13:58</td>\n      <td>1.755854</td>\n      <td>21.947052</td>\n      <td>39.166092</td>\n      <td>33.911928</td>\n      <td>-117.461394</td>\n    </tr>\n    <tr>\n      <th>...</th>\n      <td>...</td>\n      <td>...</td>\n      <td>...</td>\n      <td>...</td>\n      <td>...</td>\n      <td>...</td>\n      <td>...</td>\n      <td>...</td>\n      <td>...</td>\n    </tr>\n    <tr>\n      <th>2021-06-22 23:40:00-07:00</th>\n      <td>Chicago</td>\n      <td>Chicago &amp; University</td>\n      <td>AGJ1PPLJ</td>\n      <td>6/22/2021 23:40</td>\n      <td>7.240612</td>\n      <td>52.887772</td>\n      <td>23.197525</td>\n      <td>33.975566</td>\n      <td>-117.348524</td>\n    </tr>\n    <tr>\n      <th>2021-06-22 23:44:00-07:00</th>\n      <td>Magnolia</td>\n      <td>Magnolia &amp; Tyler</td>\n      <td>ARHF78W6</td>\n      <td>6/22/2021 23:44</td>\n      <td>6.212309</td>\n      <td>56.778820</td>\n      <td>22.420464</td>\n      <td>33.911928</td>\n      <td>-117.461394</td>\n    </tr>\n    <tr>\n      <th>2021-06-22 23:50:00-07:00</th>\n      <td>Iowa</td>\n      <td>Iowa &amp; University</td>\n      <td>AY3HFT4R</td>\n      <td>6/22/2021 23:50</td>\n      <td>6.210450</td>\n      <td>52.457466</td>\n      <td>23.152130</td>\n      <td>33.975591</td>\n      <td>-117.339897</td>\n    </tr>\n    <tr>\n      <th>2021-06-22 23:57:00-07:00</th>\n      <td>Cranford</td>\n      <td>Cranford &amp; University</td>\n      <td>A4T789S6</td>\n      <td>6/22/2021 23:57</td>\n      <td>6.478580</td>\n      <td>53.345539</td>\n      <td>22.794312</td>\n      <td>33.975624</td>\n      <td>-117.344182</td>\n    </tr>\n    <tr>\n      <th>2021-06-22 23:58:00-07:00</th>\n      <td>Chicago</td>\n      <td>Chicago &amp; University</td>\n      <td>AGJ1PPLJ</td>\n      <td>6/22/2021 23:58</td>\n      <td>7.816707</td>\n      <td>53.968109</td>\n      <td>22.730217</td>\n      <td>33.975566</td>\n      <td>-117.348524</td>\n    </tr>\n  </tbody>\n</table>\n<p>88847 rows × 9 columns</p>\n</div>"
     },
     "execution_count": 43,
     "metadata": {},
     "output_type": "execute_result"
    }
   ],
   "source": [
    "historical_clarity = pd.read_csv(fPath_historicalClarity)\n",
    "historical_clarity = ic.clarity_historical(historical_clarity)\n",
    "historical_clarity_data = historical_clarity.get_data()\n",
    "\n",
    "historical_clarity_data.info()\n",
    "historical_clarity_data.head(len(historical_clarity_data))"
   ],
   "metadata": {
    "collapsed": false,
    "pycharm": {
     "name": "#%%\n"
    }
   }
  },
  {
   "cell_type": "markdown",
   "source": [
    "***\n",
    "> ### __Original Clarity Data__\n",
    "***"
   ],
   "metadata": {
    "collapsed": false,
    "pycharm": {
     "name": "#%% md\n"
    }
   }
  },
  {
   "cell_type": "code",
   "execution_count": 44,
   "outputs": [
    {
     "name": "stdout",
     "output_type": "stream",
     "text": [
      "<class 'pandas.core.frame.DataFrame'>\n",
      "DatetimeIndex: 83608 entries, 2021-01-01 00:07:14.361000-08:00 to 2021-07-10 23:58:39.211000-07:00\n",
      "Data columns (total 10 columns):\n",
      " #   Column                                                          Non-Null Count  Dtype              \n",
      "---  ------                                                          --------------  -----              \n",
      " 0   Sensor Name                                                     83608 non-null  object             \n",
      " 1   Intersection                                                    83608 non-null  object             \n",
      " 2   Device ID                                                       83608 non-null  object             \n",
      " 3   datetime-UTC                                                    83608 non-null  datetime64[ns, UTC]\n",
      " 4   PM2.5 Highest Resolution Mass Concentration Calibrated [ug/m3]  63278 non-null  float64            \n",
      " 5   NO2 Highest Resolution Concentration Calibrated [ppb]           0 non-null      float64            \n",
      " 6   Temperature Internal Highest Resolution [degC]                  83608 non-null  float64            \n",
      " 7   Rel. Humidity Internal Highest Resolution [%]                   83608 non-null  float64            \n",
      " 8   Latitude                                                        83608 non-null  float64            \n",
      " 9   Longitude                                                       83608 non-null  float64            \n",
      "dtypes: datetime64[ns, UTC](1), float64(6), object(3)\n",
      "memory usage: 7.0+ MB\n"
     ]
    },
    {
     "data": {
      "text/plain": "                                 Sensor Name           Intersection Device ID  \\\ndatetime-America/Los_Angeles                                                    \n2021-01-01 00:07:14.361000-08:00        Iowa      Iowa & University  AY3HFT4R   \n2021-01-01 00:09:41.191000-08:00    Magnolia       Magnolia & Tyler  ARHF78W6   \n2021-01-01 00:11:40.746000-08:00    Cranford  Cranford & University  A4T789S6   \n2021-01-01 00:12:36.634000-08:00     Chicago   Chicago & University  AGJ1PPLJ   \n2021-01-01 00:24:25.849000-08:00        Iowa      Iowa & University  AY3HFT4R   \n...                                      ...                    ...       ...   \n2021-07-10 23:55:03.070000-07:00     Chicago   Chicago & University  AGJ1PPLJ   \n2021-07-10 23:57:16.538000-07:00    Magnolia       Magnolia & Tyler  ARHF78W6   \n2021-07-10 23:57:30.107000-07:00    Cranford  Cranford & University  A4T789S6   \n2021-07-10 23:57:39.588000-07:00        Iowa      Iowa & University  AY3HFT4R   \n2021-07-10 23:58:39.211000-07:00     Chicago   Chicago & University  AGJ1PPLJ   \n\n                                                     datetime-UTC  \\\ndatetime-America/Los_Angeles                                        \n2021-01-01 00:07:14.361000-08:00 2021-01-01 08:07:14.361000+00:00   \n2021-01-01 00:09:41.191000-08:00 2021-01-01 08:09:41.191000+00:00   \n2021-01-01 00:11:40.746000-08:00 2021-01-01 08:11:40.746000+00:00   \n2021-01-01 00:12:36.634000-08:00 2021-01-01 08:12:36.634000+00:00   \n2021-01-01 00:24:25.849000-08:00 2021-01-01 08:24:25.849000+00:00   \n...                                                           ...   \n2021-07-10 23:55:03.070000-07:00 2021-07-11 06:55:03.070000+00:00   \n2021-07-10 23:57:16.538000-07:00 2021-07-11 06:57:16.538000+00:00   \n2021-07-10 23:57:30.107000-07:00 2021-07-11 06:57:30.107000+00:00   \n2021-07-10 23:57:39.588000-07:00 2021-07-11 06:57:39.588000+00:00   \n2021-07-10 23:58:39.211000-07:00 2021-07-11 06:58:39.211000+00:00   \n\n                                  PM2.5 Highest Resolution Mass Concentration Calibrated [ug/m3]  \\\ndatetime-America/Los_Angeles                                                                       \n2021-01-01 00:07:14.361000-08:00                                                             NaN   \n2021-01-01 00:09:41.191000-08:00                                                             NaN   \n2021-01-01 00:11:40.746000-08:00                                                             NaN   \n2021-01-01 00:12:36.634000-08:00                                                             NaN   \n2021-01-01 00:24:25.849000-08:00                                                             NaN   \n...                                                                                          ...   \n2021-07-10 23:55:03.070000-07:00                                                            9.01   \n2021-07-10 23:57:16.538000-07:00                                                           10.61   \n2021-07-10 23:57:30.107000-07:00                                                            8.43   \n2021-07-10 23:57:39.588000-07:00                                                           10.53   \n2021-07-10 23:58:39.211000-07:00                                                            9.25   \n\n                                  NO2 Highest Resolution Concentration Calibrated [ppb]  \\\ndatetime-America/Los_Angeles                                                              \n2021-01-01 00:07:14.361000-08:00                                                    NaN   \n2021-01-01 00:09:41.191000-08:00                                                    NaN   \n2021-01-01 00:11:40.746000-08:00                                                    NaN   \n2021-01-01 00:12:36.634000-08:00                                                    NaN   \n2021-01-01 00:24:25.849000-08:00                                                    NaN   \n...                                                                                 ...   \n2021-07-10 23:55:03.070000-07:00                                                    NaN   \n2021-07-10 23:57:16.538000-07:00                                                    NaN   \n2021-07-10 23:57:30.107000-07:00                                                    NaN   \n2021-07-10 23:57:39.588000-07:00                                                    NaN   \n2021-07-10 23:58:39.211000-07:00                                                    NaN   \n\n                                  Temperature Internal Highest Resolution [degC]  \\\ndatetime-America/Los_Angeles                                                       \n2021-01-01 00:07:14.361000-08:00                                           15.00   \n2021-01-01 00:09:41.191000-08:00                                           15.99   \n2021-01-01 00:11:40.746000-08:00                                           15.07   \n2021-01-01 00:12:36.634000-08:00                                           15.27   \n2021-01-01 00:24:25.849000-08:00                                           14.91   \n...                                                                          ...   \n2021-07-10 23:55:03.070000-07:00                                           25.78   \n2021-07-10 23:57:16.538000-07:00                                           25.62   \n2021-07-10 23:57:30.107000-07:00                                           25.46   \n2021-07-10 23:57:39.588000-07:00                                           25.70   \n2021-07-10 23:58:39.211000-07:00                                           25.72   \n\n                                  Rel. Humidity Internal Highest Resolution [%]  \\\ndatetime-America/Los_Angeles                                                      \n2021-01-01 00:07:14.361000-08:00                                          29.89   \n2021-01-01 00:09:41.191000-08:00                                          28.41   \n2021-01-01 00:11:40.746000-08:00                                          29.28   \n2021-01-01 00:12:36.634000-08:00                                          29.02   \n2021-01-01 00:24:25.849000-08:00                                          29.69   \n...                                                                         ...   \n2021-07-10 23:55:03.070000-07:00                                          41.70   \n2021-07-10 23:57:16.538000-07:00                                          41.46   \n2021-07-10 23:57:30.107000-07:00                                          42.16   \n2021-07-10 23:57:39.588000-07:00                                          42.25   \n2021-07-10 23:58:39.211000-07:00                                          41.62   \n\n                                   Latitude   Longitude  \ndatetime-America/Los_Angeles                             \n2021-01-01 00:07:14.361000-08:00  33.975591 -117.339897  \n2021-01-01 00:09:41.191000-08:00  33.911928 -117.461394  \n2021-01-01 00:11:40.746000-08:00  33.975624 -117.344182  \n2021-01-01 00:12:36.634000-08:00  33.975566 -117.348524  \n2021-01-01 00:24:25.849000-08:00  33.975591 -117.339897  \n...                                     ...         ...  \n2021-07-10 23:55:03.070000-07:00  33.975566 -117.348524  \n2021-07-10 23:57:16.538000-07:00  33.911928 -117.461394  \n2021-07-10 23:57:30.107000-07:00  33.975624 -117.344182  \n2021-07-10 23:57:39.588000-07:00  33.975591 -117.339897  \n2021-07-10 23:58:39.211000-07:00  33.975566 -117.348524  \n\n[83608 rows x 10 columns]",
      "text/html": "<div>\n<style scoped>\n    .dataframe tbody tr th:only-of-type {\n        vertical-align: middle;\n    }\n\n    .dataframe tbody tr th {\n        vertical-align: top;\n    }\n\n    .dataframe thead th {\n        text-align: right;\n    }\n</style>\n<table border=\"1\" class=\"dataframe\">\n  <thead>\n    <tr style=\"text-align: right;\">\n      <th></th>\n      <th>Sensor Name</th>\n      <th>Intersection</th>\n      <th>Device ID</th>\n      <th>datetime-UTC</th>\n      <th>PM2.5 Highest Resolution Mass Concentration Calibrated [ug/m3]</th>\n      <th>NO2 Highest Resolution Concentration Calibrated [ppb]</th>\n      <th>Temperature Internal Highest Resolution [degC]</th>\n      <th>Rel. Humidity Internal Highest Resolution [%]</th>\n      <th>Latitude</th>\n      <th>Longitude</th>\n    </tr>\n    <tr>\n      <th>datetime-America/Los_Angeles</th>\n      <th></th>\n      <th></th>\n      <th></th>\n      <th></th>\n      <th></th>\n      <th></th>\n      <th></th>\n      <th></th>\n      <th></th>\n      <th></th>\n    </tr>\n  </thead>\n  <tbody>\n    <tr>\n      <th>2021-01-01 00:07:14.361000-08:00</th>\n      <td>Iowa</td>\n      <td>Iowa &amp; University</td>\n      <td>AY3HFT4R</td>\n      <td>2021-01-01 08:07:14.361000+00:00</td>\n      <td>NaN</td>\n      <td>NaN</td>\n      <td>15.00</td>\n      <td>29.89</td>\n      <td>33.975591</td>\n      <td>-117.339897</td>\n    </tr>\n    <tr>\n      <th>2021-01-01 00:09:41.191000-08:00</th>\n      <td>Magnolia</td>\n      <td>Magnolia &amp; Tyler</td>\n      <td>ARHF78W6</td>\n      <td>2021-01-01 08:09:41.191000+00:00</td>\n      <td>NaN</td>\n      <td>NaN</td>\n      <td>15.99</td>\n      <td>28.41</td>\n      <td>33.911928</td>\n      <td>-117.461394</td>\n    </tr>\n    <tr>\n      <th>2021-01-01 00:11:40.746000-08:00</th>\n      <td>Cranford</td>\n      <td>Cranford &amp; University</td>\n      <td>A4T789S6</td>\n      <td>2021-01-01 08:11:40.746000+00:00</td>\n      <td>NaN</td>\n      <td>NaN</td>\n      <td>15.07</td>\n      <td>29.28</td>\n      <td>33.975624</td>\n      <td>-117.344182</td>\n    </tr>\n    <tr>\n      <th>2021-01-01 00:12:36.634000-08:00</th>\n      <td>Chicago</td>\n      <td>Chicago &amp; University</td>\n      <td>AGJ1PPLJ</td>\n      <td>2021-01-01 08:12:36.634000+00:00</td>\n      <td>NaN</td>\n      <td>NaN</td>\n      <td>15.27</td>\n      <td>29.02</td>\n      <td>33.975566</td>\n      <td>-117.348524</td>\n    </tr>\n    <tr>\n      <th>2021-01-01 00:24:25.849000-08:00</th>\n      <td>Iowa</td>\n      <td>Iowa &amp; University</td>\n      <td>AY3HFT4R</td>\n      <td>2021-01-01 08:24:25.849000+00:00</td>\n      <td>NaN</td>\n      <td>NaN</td>\n      <td>14.91</td>\n      <td>29.69</td>\n      <td>33.975591</td>\n      <td>-117.339897</td>\n    </tr>\n    <tr>\n      <th>...</th>\n      <td>...</td>\n      <td>...</td>\n      <td>...</td>\n      <td>...</td>\n      <td>...</td>\n      <td>...</td>\n      <td>...</td>\n      <td>...</td>\n      <td>...</td>\n      <td>...</td>\n    </tr>\n    <tr>\n      <th>2021-07-10 23:55:03.070000-07:00</th>\n      <td>Chicago</td>\n      <td>Chicago &amp; University</td>\n      <td>AGJ1PPLJ</td>\n      <td>2021-07-11 06:55:03.070000+00:00</td>\n      <td>9.01</td>\n      <td>NaN</td>\n      <td>25.78</td>\n      <td>41.70</td>\n      <td>33.975566</td>\n      <td>-117.348524</td>\n    </tr>\n    <tr>\n      <th>2021-07-10 23:57:16.538000-07:00</th>\n      <td>Magnolia</td>\n      <td>Magnolia &amp; Tyler</td>\n      <td>ARHF78W6</td>\n      <td>2021-07-11 06:57:16.538000+00:00</td>\n      <td>10.61</td>\n      <td>NaN</td>\n      <td>25.62</td>\n      <td>41.46</td>\n      <td>33.911928</td>\n      <td>-117.461394</td>\n    </tr>\n    <tr>\n      <th>2021-07-10 23:57:30.107000-07:00</th>\n      <td>Cranford</td>\n      <td>Cranford &amp; University</td>\n      <td>A4T789S6</td>\n      <td>2021-07-11 06:57:30.107000+00:00</td>\n      <td>8.43</td>\n      <td>NaN</td>\n      <td>25.46</td>\n      <td>42.16</td>\n      <td>33.975624</td>\n      <td>-117.344182</td>\n    </tr>\n    <tr>\n      <th>2021-07-10 23:57:39.588000-07:00</th>\n      <td>Iowa</td>\n      <td>Iowa &amp; University</td>\n      <td>AY3HFT4R</td>\n      <td>2021-07-11 06:57:39.588000+00:00</td>\n      <td>10.53</td>\n      <td>NaN</td>\n      <td>25.70</td>\n      <td>42.25</td>\n      <td>33.975591</td>\n      <td>-117.339897</td>\n    </tr>\n    <tr>\n      <th>2021-07-10 23:58:39.211000-07:00</th>\n      <td>Chicago</td>\n      <td>Chicago &amp; University</td>\n      <td>AGJ1PPLJ</td>\n      <td>2021-07-11 06:58:39.211000+00:00</td>\n      <td>9.25</td>\n      <td>NaN</td>\n      <td>25.72</td>\n      <td>41.62</td>\n      <td>33.975566</td>\n      <td>-117.348524</td>\n    </tr>\n  </tbody>\n</table>\n<p>83608 rows × 10 columns</p>\n</div>"
     },
     "execution_count": 44,
     "metadata": {},
     "output_type": "execute_result"
    }
   ],
   "source": [
    "clarity_original_HighRes = util.csv_folder2table(FPath_clarity_originals_HighRes)\n",
    "clarity_HighRes = ic.clarity_original(clarity_original_HighRes)\n",
    "clarity_HighRes_data = clarity_HighRes.get_data()\n",
    "clarity_HighRes_data.info()\n",
    "clarity_HighRes_data.head(len(clarity_original_HighRes))"
   ],
   "metadata": {
    "collapsed": false,
    "pycharm": {
     "name": "#%%\n"
    }
   }
  },
  {
   "cell_type": "code",
   "execution_count": 45,
   "outputs": [
    {
     "name": "stdout",
     "output_type": "stream",
     "text": [
      "<class 'pandas.core.frame.DataFrame'>\n",
      "DatetimeIndex: 83608 entries, 2021-01-01 00:07:14.361000-08:00 to 2021-07-10 23:58:39.211000-07:00\n",
      "Data columns (total 10 columns):\n",
      " #   Column                                                          Non-Null Count  Dtype              \n",
      "---  ------                                                          --------------  -----              \n",
      " 0   Sensor Name                                                     83608 non-null  object             \n",
      " 1   Intersection                                                    83608 non-null  object             \n",
      " 2   Device ID                                                       83608 non-null  object             \n",
      " 3   datetime-UTC                                                    83608 non-null  datetime64[ns, UTC]\n",
      " 4   PM2.5 Highest Resolution Mass Concentration Calibrated [ug/m3]  63278 non-null  float64            \n",
      " 5   NO2 Highest Resolution Concentration Calibrated [ppb]           0 non-null      float64            \n",
      " 6   Temperature Internal Highest Resolution [degC]                  83608 non-null  float64            \n",
      " 7   Rel. Humidity Internal Highest Resolution [%]                   83608 non-null  float64            \n",
      " 8   Latitude                                                        83608 non-null  float64            \n",
      " 9   Longitude                                                       83608 non-null  float64            \n",
      "dtypes: datetime64[ns, UTC](1), float64(6), object(3)\n",
      "memory usage: 7.0+ MB\n"
     ]
    },
    {
     "data": {
      "text/plain": "                                 Sensor Name           Intersection Device ID  \\\ndatetime-America/Los_Angeles                                                    \n2021-01-01 00:07:14.361000-08:00        Iowa      Iowa & University  AY3HFT4R   \n2021-01-01 00:09:41.191000-08:00    Magnolia       Magnolia & Tyler  ARHF78W6   \n2021-01-01 00:11:40.746000-08:00    Cranford  Cranford & University  A4T789S6   \n2021-01-01 00:12:36.634000-08:00     Chicago   Chicago & University  AGJ1PPLJ   \n2021-01-01 00:24:25.849000-08:00        Iowa      Iowa & University  AY3HFT4R   \n\n                                                     datetime-UTC  \\\ndatetime-America/Los_Angeles                                        \n2021-01-01 00:07:14.361000-08:00 2021-01-01 08:07:14.361000+00:00   \n2021-01-01 00:09:41.191000-08:00 2021-01-01 08:09:41.191000+00:00   \n2021-01-01 00:11:40.746000-08:00 2021-01-01 08:11:40.746000+00:00   \n2021-01-01 00:12:36.634000-08:00 2021-01-01 08:12:36.634000+00:00   \n2021-01-01 00:24:25.849000-08:00 2021-01-01 08:24:25.849000+00:00   \n\n                                  PM2.5 Highest Resolution Mass Concentration Calibrated [ug/m3]  \\\ndatetime-America/Los_Angeles                                                                       \n2021-01-01 00:07:14.361000-08:00                                                             NaN   \n2021-01-01 00:09:41.191000-08:00                                                             NaN   \n2021-01-01 00:11:40.746000-08:00                                                             NaN   \n2021-01-01 00:12:36.634000-08:00                                                             NaN   \n2021-01-01 00:24:25.849000-08:00                                                             NaN   \n\n                                  NO2 Highest Resolution Concentration Calibrated [ppb]  \\\ndatetime-America/Los_Angeles                                                              \n2021-01-01 00:07:14.361000-08:00                                                    NaN   \n2021-01-01 00:09:41.191000-08:00                                                    NaN   \n2021-01-01 00:11:40.746000-08:00                                                    NaN   \n2021-01-01 00:12:36.634000-08:00                                                    NaN   \n2021-01-01 00:24:25.849000-08:00                                                    NaN   \n\n                                  Temperature Internal Highest Resolution [degC]  \\\ndatetime-America/Los_Angeles                                                       \n2021-01-01 00:07:14.361000-08:00                                           15.00   \n2021-01-01 00:09:41.191000-08:00                                           15.99   \n2021-01-01 00:11:40.746000-08:00                                           15.07   \n2021-01-01 00:12:36.634000-08:00                                           15.27   \n2021-01-01 00:24:25.849000-08:00                                           14.91   \n\n                                  Rel. Humidity Internal Highest Resolution [%]  \\\ndatetime-America/Los_Angeles                                                      \n2021-01-01 00:07:14.361000-08:00                                          29.89   \n2021-01-01 00:09:41.191000-08:00                                          28.41   \n2021-01-01 00:11:40.746000-08:00                                          29.28   \n2021-01-01 00:12:36.634000-08:00                                          29.02   \n2021-01-01 00:24:25.849000-08:00                                          29.69   \n\n                                   Latitude   Longitude  \ndatetime-America/Los_Angeles                             \n2021-01-01 00:07:14.361000-08:00  33.975591 -117.339897  \n2021-01-01 00:09:41.191000-08:00  33.911928 -117.461394  \n2021-01-01 00:11:40.746000-08:00  33.975624 -117.344182  \n2021-01-01 00:12:36.634000-08:00  33.975566 -117.348524  \n2021-01-01 00:24:25.849000-08:00  33.975591 -117.339897  ",
      "text/html": "<div>\n<style scoped>\n    .dataframe tbody tr th:only-of-type {\n        vertical-align: middle;\n    }\n\n    .dataframe tbody tr th {\n        vertical-align: top;\n    }\n\n    .dataframe thead th {\n        text-align: right;\n    }\n</style>\n<table border=\"1\" class=\"dataframe\">\n  <thead>\n    <tr style=\"text-align: right;\">\n      <th></th>\n      <th>Sensor Name</th>\n      <th>Intersection</th>\n      <th>Device ID</th>\n      <th>datetime-UTC</th>\n      <th>PM2.5 Highest Resolution Mass Concentration Calibrated [ug/m3]</th>\n      <th>NO2 Highest Resolution Concentration Calibrated [ppb]</th>\n      <th>Temperature Internal Highest Resolution [degC]</th>\n      <th>Rel. Humidity Internal Highest Resolution [%]</th>\n      <th>Latitude</th>\n      <th>Longitude</th>\n    </tr>\n    <tr>\n      <th>datetime-America/Los_Angeles</th>\n      <th></th>\n      <th></th>\n      <th></th>\n      <th></th>\n      <th></th>\n      <th></th>\n      <th></th>\n      <th></th>\n      <th></th>\n      <th></th>\n    </tr>\n  </thead>\n  <tbody>\n    <tr>\n      <th>2021-01-01 00:07:14.361000-08:00</th>\n      <td>Iowa</td>\n      <td>Iowa &amp; University</td>\n      <td>AY3HFT4R</td>\n      <td>2021-01-01 08:07:14.361000+00:00</td>\n      <td>NaN</td>\n      <td>NaN</td>\n      <td>15.00</td>\n      <td>29.89</td>\n      <td>33.975591</td>\n      <td>-117.339897</td>\n    </tr>\n    <tr>\n      <th>2021-01-01 00:09:41.191000-08:00</th>\n      <td>Magnolia</td>\n      <td>Magnolia &amp; Tyler</td>\n      <td>ARHF78W6</td>\n      <td>2021-01-01 08:09:41.191000+00:00</td>\n      <td>NaN</td>\n      <td>NaN</td>\n      <td>15.99</td>\n      <td>28.41</td>\n      <td>33.911928</td>\n      <td>-117.461394</td>\n    </tr>\n    <tr>\n      <th>2021-01-01 00:11:40.746000-08:00</th>\n      <td>Cranford</td>\n      <td>Cranford &amp; University</td>\n      <td>A4T789S6</td>\n      <td>2021-01-01 08:11:40.746000+00:00</td>\n      <td>NaN</td>\n      <td>NaN</td>\n      <td>15.07</td>\n      <td>29.28</td>\n      <td>33.975624</td>\n      <td>-117.344182</td>\n    </tr>\n    <tr>\n      <th>2021-01-01 00:12:36.634000-08:00</th>\n      <td>Chicago</td>\n      <td>Chicago &amp; University</td>\n      <td>AGJ1PPLJ</td>\n      <td>2021-01-01 08:12:36.634000+00:00</td>\n      <td>NaN</td>\n      <td>NaN</td>\n      <td>15.27</td>\n      <td>29.02</td>\n      <td>33.975566</td>\n      <td>-117.348524</td>\n    </tr>\n    <tr>\n      <th>2021-01-01 00:24:25.849000-08:00</th>\n      <td>Iowa</td>\n      <td>Iowa &amp; University</td>\n      <td>AY3HFT4R</td>\n      <td>2021-01-01 08:24:25.849000+00:00</td>\n      <td>NaN</td>\n      <td>NaN</td>\n      <td>14.91</td>\n      <td>29.69</td>\n      <td>33.975591</td>\n      <td>-117.339897</td>\n    </tr>\n  </tbody>\n</table>\n</div>"
     },
     "execution_count": 45,
     "metadata": {},
     "output_type": "execute_result"
    }
   ],
   "source": [
    "clarity_HighRes_data = clarity_HighRes.get_data()\n",
    "clarity_HighRes_data.info()\n",
    "clarity_HighRes_data.head()"
   ],
   "metadata": {
    "collapsed": false,
    "pycharm": {
     "name": "#%%\n"
    }
   }
  },
  {
   "cell_type": "markdown",
   "source": [
    "***\n",
    "> ### __Clarity PM2.5 Measurements__\n",
    "***"
   ],
   "metadata": {
    "collapsed": false,
    "pycharm": {
     "name": "#%% md\n"
    }
   }
  },
  {
   "cell_type": "code",
   "execution_count": 46,
   "outputs": [
    {
     "name": "stdout",
     "output_type": "stream",
     "text": [
      "<class 'pandas.core.frame.DataFrame'>\n",
      "DatetimeIndex: 63278 entries, 2021-03-02 12:39:24.550000-08:00 to 2021-07-10 23:58:39.211000-07:00\n",
      "Data columns (total 8 columns):\n",
      " #   Column                                                          Non-Null Count  Dtype  \n",
      "---  ------                                                          --------------  -----  \n",
      " 0   Sensor Name                                                     63278 non-null  object \n",
      " 1   Intersection                                                    63278 non-null  object \n",
      " 2   Device ID                                                       63278 non-null  object \n",
      " 3   PM2.5 Highest Resolution Mass Concentration Calibrated [ug/m3]  63278 non-null  float64\n",
      " 4   Temperature Internal Highest Resolution [degC]                  63278 non-null  float64\n",
      " 5   Rel. Humidity Internal Highest Resolution [%]                   63278 non-null  float64\n",
      " 6   Latitude                                                        63278 non-null  float64\n",
      " 7   Longitude                                                       63278 non-null  float64\n",
      "dtypes: float64(5), object(3)\n",
      "memory usage: 4.3+ MB\n"
     ]
    },
    {
     "data": {
      "text/plain": "                                 Sensor Name           Intersection Device ID  \\\ndatetime-America/Los_Angeles                                                    \n2021-03-02 12:39:24.550000-08:00    Cranford  Cranford & University  A4T789S6   \n2021-03-02 12:42:19.270000-08:00    Magnolia       Magnolia & Tyler  ARHF78W6   \n2021-03-02 12:47:51.159000-08:00        Iowa      Iowa & University  AY3HFT4R   \n2021-03-02 12:50:54.283000-08:00     Chicago   Chicago & University  AGJ1PPLJ   \n2021-03-02 12:56:17.661000-08:00    Cranford  Cranford & University  A4T789S6   \n...                                      ...                    ...       ...   \n2021-07-10 23:55:03.070000-07:00     Chicago   Chicago & University  AGJ1PPLJ   \n2021-07-10 23:57:16.538000-07:00    Magnolia       Magnolia & Tyler  ARHF78W6   \n2021-07-10 23:57:30.107000-07:00    Cranford  Cranford & University  A4T789S6   \n2021-07-10 23:57:39.588000-07:00        Iowa      Iowa & University  AY3HFT4R   \n2021-07-10 23:58:39.211000-07:00     Chicago   Chicago & University  AGJ1PPLJ   \n\n                                  PM2.5 Highest Resolution Mass Concentration Calibrated [ug/m3]  \\\ndatetime-America/Los_Angeles                                                                       \n2021-03-02 12:39:24.550000-08:00                                                           11.81   \n2021-03-02 12:42:19.270000-08:00                                                            7.67   \n2021-03-02 12:47:51.159000-08:00                                                            7.81   \n2021-03-02 12:50:54.283000-08:00                                                            8.84   \n2021-03-02 12:56:17.661000-08:00                                                           16.63   \n...                                                                                          ...   \n2021-07-10 23:55:03.070000-07:00                                                            9.01   \n2021-07-10 23:57:16.538000-07:00                                                           10.61   \n2021-07-10 23:57:30.107000-07:00                                                            8.43   \n2021-07-10 23:57:39.588000-07:00                                                           10.53   \n2021-07-10 23:58:39.211000-07:00                                                            9.25   \n\n                                  Temperature Internal Highest Resolution [degC]  \\\ndatetime-America/Los_Angeles                                                       \n2021-03-02 12:39:24.550000-08:00                                           26.84   \n2021-03-02 12:42:19.270000-08:00                                           27.60   \n2021-03-02 12:47:51.159000-08:00                                           26.31   \n2021-03-02 12:50:54.283000-08:00                                           25.72   \n2021-03-02 12:56:17.661000-08:00                                           26.95   \n...                                                                          ...   \n2021-07-10 23:55:03.070000-07:00                                           25.78   \n2021-07-10 23:57:16.538000-07:00                                           25.62   \n2021-07-10 23:57:30.107000-07:00                                           25.46   \n2021-07-10 23:57:39.588000-07:00                                           25.70   \n2021-07-10 23:58:39.211000-07:00                                           25.72   \n\n                                  Rel. Humidity Internal Highest Resolution [%]  \\\ndatetime-America/Los_Angeles                                                      \n2021-03-02 12:39:24.550000-08:00                                           9.31   \n2021-03-02 12:42:19.270000-08:00                                           7.05   \n2021-03-02 12:47:51.159000-08:00                                           7.96   \n2021-03-02 12:50:54.283000-08:00                                           7.94   \n2021-03-02 12:56:17.661000-08:00                                           8.66   \n...                                                                         ...   \n2021-07-10 23:55:03.070000-07:00                                          41.70   \n2021-07-10 23:57:16.538000-07:00                                          41.46   \n2021-07-10 23:57:30.107000-07:00                                          42.16   \n2021-07-10 23:57:39.588000-07:00                                          42.25   \n2021-07-10 23:58:39.211000-07:00                                          41.62   \n\n                                   Latitude   Longitude  \ndatetime-America/Los_Angeles                             \n2021-03-02 12:39:24.550000-08:00  33.975624 -117.344182  \n2021-03-02 12:42:19.270000-08:00  33.911928 -117.461394  \n2021-03-02 12:47:51.159000-08:00  33.975591 -117.339897  \n2021-03-02 12:50:54.283000-08:00  33.975566 -117.348524  \n2021-03-02 12:56:17.661000-08:00  33.975624 -117.344182  \n...                                     ...         ...  \n2021-07-10 23:55:03.070000-07:00  33.975566 -117.348524  \n2021-07-10 23:57:16.538000-07:00  33.911928 -117.461394  \n2021-07-10 23:57:30.107000-07:00  33.975624 -117.344182  \n2021-07-10 23:57:39.588000-07:00  33.975591 -117.339897  \n2021-07-10 23:58:39.211000-07:00  33.975566 -117.348524  \n\n[63278 rows x 8 columns]",
      "text/html": "<div>\n<style scoped>\n    .dataframe tbody tr th:only-of-type {\n        vertical-align: middle;\n    }\n\n    .dataframe tbody tr th {\n        vertical-align: top;\n    }\n\n    .dataframe thead th {\n        text-align: right;\n    }\n</style>\n<table border=\"1\" class=\"dataframe\">\n  <thead>\n    <tr style=\"text-align: right;\">\n      <th></th>\n      <th>Sensor Name</th>\n      <th>Intersection</th>\n      <th>Device ID</th>\n      <th>PM2.5 Highest Resolution Mass Concentration Calibrated [ug/m3]</th>\n      <th>Temperature Internal Highest Resolution [degC]</th>\n      <th>Rel. Humidity Internal Highest Resolution [%]</th>\n      <th>Latitude</th>\n      <th>Longitude</th>\n    </tr>\n    <tr>\n      <th>datetime-America/Los_Angeles</th>\n      <th></th>\n      <th></th>\n      <th></th>\n      <th></th>\n      <th></th>\n      <th></th>\n      <th></th>\n      <th></th>\n    </tr>\n  </thead>\n  <tbody>\n    <tr>\n      <th>2021-03-02 12:39:24.550000-08:00</th>\n      <td>Cranford</td>\n      <td>Cranford &amp; University</td>\n      <td>A4T789S6</td>\n      <td>11.81</td>\n      <td>26.84</td>\n      <td>9.31</td>\n      <td>33.975624</td>\n      <td>-117.344182</td>\n    </tr>\n    <tr>\n      <th>2021-03-02 12:42:19.270000-08:00</th>\n      <td>Magnolia</td>\n      <td>Magnolia &amp; Tyler</td>\n      <td>ARHF78W6</td>\n      <td>7.67</td>\n      <td>27.60</td>\n      <td>7.05</td>\n      <td>33.911928</td>\n      <td>-117.461394</td>\n    </tr>\n    <tr>\n      <th>2021-03-02 12:47:51.159000-08:00</th>\n      <td>Iowa</td>\n      <td>Iowa &amp; University</td>\n      <td>AY3HFT4R</td>\n      <td>7.81</td>\n      <td>26.31</td>\n      <td>7.96</td>\n      <td>33.975591</td>\n      <td>-117.339897</td>\n    </tr>\n    <tr>\n      <th>2021-03-02 12:50:54.283000-08:00</th>\n      <td>Chicago</td>\n      <td>Chicago &amp; University</td>\n      <td>AGJ1PPLJ</td>\n      <td>8.84</td>\n      <td>25.72</td>\n      <td>7.94</td>\n      <td>33.975566</td>\n      <td>-117.348524</td>\n    </tr>\n    <tr>\n      <th>2021-03-02 12:56:17.661000-08:00</th>\n      <td>Cranford</td>\n      <td>Cranford &amp; University</td>\n      <td>A4T789S6</td>\n      <td>16.63</td>\n      <td>26.95</td>\n      <td>8.66</td>\n      <td>33.975624</td>\n      <td>-117.344182</td>\n    </tr>\n    <tr>\n      <th>...</th>\n      <td>...</td>\n      <td>...</td>\n      <td>...</td>\n      <td>...</td>\n      <td>...</td>\n      <td>...</td>\n      <td>...</td>\n      <td>...</td>\n    </tr>\n    <tr>\n      <th>2021-07-10 23:55:03.070000-07:00</th>\n      <td>Chicago</td>\n      <td>Chicago &amp; University</td>\n      <td>AGJ1PPLJ</td>\n      <td>9.01</td>\n      <td>25.78</td>\n      <td>41.70</td>\n      <td>33.975566</td>\n      <td>-117.348524</td>\n    </tr>\n    <tr>\n      <th>2021-07-10 23:57:16.538000-07:00</th>\n      <td>Magnolia</td>\n      <td>Magnolia &amp; Tyler</td>\n      <td>ARHF78W6</td>\n      <td>10.61</td>\n      <td>25.62</td>\n      <td>41.46</td>\n      <td>33.911928</td>\n      <td>-117.461394</td>\n    </tr>\n    <tr>\n      <th>2021-07-10 23:57:30.107000-07:00</th>\n      <td>Cranford</td>\n      <td>Cranford &amp; University</td>\n      <td>A4T789S6</td>\n      <td>8.43</td>\n      <td>25.46</td>\n      <td>42.16</td>\n      <td>33.975624</td>\n      <td>-117.344182</td>\n    </tr>\n    <tr>\n      <th>2021-07-10 23:57:39.588000-07:00</th>\n      <td>Iowa</td>\n      <td>Iowa &amp; University</td>\n      <td>AY3HFT4R</td>\n      <td>10.53</td>\n      <td>25.70</td>\n      <td>42.25</td>\n      <td>33.975591</td>\n      <td>-117.339897</td>\n    </tr>\n    <tr>\n      <th>2021-07-10 23:58:39.211000-07:00</th>\n      <td>Chicago</td>\n      <td>Chicago &amp; University</td>\n      <td>AGJ1PPLJ</td>\n      <td>9.25</td>\n      <td>25.72</td>\n      <td>41.62</td>\n      <td>33.975566</td>\n      <td>-117.348524</td>\n    </tr>\n  </tbody>\n</table>\n<p>63278 rows × 8 columns</p>\n</div>"
     },
     "execution_count": 46,
     "metadata": {},
     "output_type": "execute_result"
    }
   ],
   "source": [
    "clarity_HighRes_pm25 = clarity_HighRes.get_PM25()\n",
    "clarity_HighRes_pm25.info()\n",
    "clarity_HighRes_pm25.head(len(clarity_HighRes_pm25))"
   ],
   "metadata": {
    "collapsed": false,
    "pycharm": {
     "name": "#%%\n"
    }
   }
  },
  {
   "cell_type": "code",
   "execution_count": 47,
   "outputs": [
    {
     "name": "stdout",
     "output_type": "stream",
     "text": [
      "<class 'pandas.core.frame.DataFrame'>\n",
      "DatetimeIndex: 88847 entries, 2020-09-29 12:05:00-07:00 to 2021-06-22 23:58:00-07:00\n",
      "Data columns (total 8 columns):\n",
      " #   Column                                                          Non-Null Count  Dtype  \n",
      "---  ------                                                          --------------  -----  \n",
      " 0   Sensor Name                                                     88847 non-null  object \n",
      " 1   Intersection                                                    88847 non-null  object \n",
      " 2   Device ID                                                       88847 non-null  object \n",
      " 3   PM2.5 Highest Resolution Mass Concentration Calibrated [ug/m3]  88847 non-null  float64\n",
      " 4   Temperature Internal Highest Resolution [degC]                  88847 non-null  float64\n",
      " 5   Rel. Humidity Internal Highest Resolution [%]                   88847 non-null  float64\n",
      " 6   Latitude                                                        88847 non-null  float64\n",
      " 7   Longitude                                                       88847 non-null  float64\n",
      "dtypes: float64(5), object(3)\n",
      "memory usage: 6.1+ MB\n"
     ]
    },
    {
     "data": {
      "text/plain": "                             Sensor Name           Intersection Device ID  \\\ndatetime-America/Los_Angeles                                                \n2020-09-29 12:05:00-07:00       Magnolia       Magnolia & Tyler  ARHF78W6   \n2020-09-29 13:06:00-07:00       Magnolia       Magnolia & Tyler  ARHF78W6   \n2020-09-29 13:24:00-07:00       Magnolia       Magnolia & Tyler  ARHF78W6   \n2020-09-29 13:41:00-07:00       Magnolia       Magnolia & Tyler  ARHF78W6   \n2020-09-29 13:58:00-07:00       Magnolia       Magnolia & Tyler  ARHF78W6   \n...                                  ...                    ...       ...   \n2021-06-22 23:40:00-07:00        Chicago   Chicago & University  AGJ1PPLJ   \n2021-06-22 23:44:00-07:00       Magnolia       Magnolia & Tyler  ARHF78W6   \n2021-06-22 23:50:00-07:00           Iowa      Iowa & University  AY3HFT4R   \n2021-06-22 23:57:00-07:00       Cranford  Cranford & University  A4T789S6   \n2021-06-22 23:58:00-07:00        Chicago   Chicago & University  AGJ1PPLJ   \n\n                              PM2.5 Highest Resolution Mass Concentration Calibrated [ug/m3]  \\\ndatetime-America/Los_Angeles                                                                   \n2020-09-29 12:05:00-07:00                                                           3.573135   \n2020-09-29 13:06:00-07:00                                                           2.654986   \n2020-09-29 13:24:00-07:00                                                           2.318490   \n2020-09-29 13:41:00-07:00                                                           2.023389   \n2020-09-29 13:58:00-07:00                                                           1.755854   \n...                                                                                      ...   \n2021-06-22 23:40:00-07:00                                                           7.240612   \n2021-06-22 23:44:00-07:00                                                           6.212309   \n2021-06-22 23:50:00-07:00                                                           6.210450   \n2021-06-22 23:57:00-07:00                                                           6.478580   \n2021-06-22 23:58:00-07:00                                                           7.816707   \n\n                              Temperature Internal Highest Resolution [degC]  \\\ndatetime-America/Los_Angeles                                                   \n2020-09-29 12:05:00-07:00                                          34.912262   \n2020-09-29 13:06:00-07:00                                          38.290230   \n2020-09-29 13:24:00-07:00                                          38.768219   \n2020-09-29 13:41:00-07:00                                          38.981842   \n2020-09-29 13:58:00-07:00                                          39.166092   \n...                                                                      ...   \n2021-06-22 23:40:00-07:00                                          23.197525   \n2021-06-22 23:44:00-07:00                                          22.420464   \n2021-06-22 23:50:00-07:00                                          23.152130   \n2021-06-22 23:57:00-07:00                                          22.794312   \n2021-06-22 23:58:00-07:00                                          22.730217   \n\n                              Rel. Humidity Internal Highest Resolution [%]  \\\ndatetime-America/Los_Angeles                                                  \n2020-09-29 12:05:00-07:00                                         25.265888   \n2020-09-29 13:06:00-07:00                                         22.885481   \n2020-09-29 13:24:00-07:00                                         22.088961   \n2020-09-29 13:41:00-07:00                                         23.118944   \n2020-09-29 13:58:00-07:00                                         21.947052   \n...                                                                     ...   \n2021-06-22 23:40:00-07:00                                         52.887772   \n2021-06-22 23:44:00-07:00                                         56.778820   \n2021-06-22 23:50:00-07:00                                         52.457466   \n2021-06-22 23:57:00-07:00                                         53.345539   \n2021-06-22 23:58:00-07:00                                         53.968109   \n\n                               Latitude   Longitude  \ndatetime-America/Los_Angeles                         \n2020-09-29 12:05:00-07:00     33.911928 -117.461394  \n2020-09-29 13:06:00-07:00     33.911928 -117.461394  \n2020-09-29 13:24:00-07:00     33.911928 -117.461394  \n2020-09-29 13:41:00-07:00     33.911928 -117.461394  \n2020-09-29 13:58:00-07:00     33.911928 -117.461394  \n...                                 ...         ...  \n2021-06-22 23:40:00-07:00     33.975566 -117.348524  \n2021-06-22 23:44:00-07:00     33.911928 -117.461394  \n2021-06-22 23:50:00-07:00     33.975591 -117.339897  \n2021-06-22 23:57:00-07:00     33.975624 -117.344182  \n2021-06-22 23:58:00-07:00     33.975566 -117.348524  \n\n[88847 rows x 8 columns]",
      "text/html": "<div>\n<style scoped>\n    .dataframe tbody tr th:only-of-type {\n        vertical-align: middle;\n    }\n\n    .dataframe tbody tr th {\n        vertical-align: top;\n    }\n\n    .dataframe thead th {\n        text-align: right;\n    }\n</style>\n<table border=\"1\" class=\"dataframe\">\n  <thead>\n    <tr style=\"text-align: right;\">\n      <th></th>\n      <th>Sensor Name</th>\n      <th>Intersection</th>\n      <th>Device ID</th>\n      <th>PM2.5 Highest Resolution Mass Concentration Calibrated [ug/m3]</th>\n      <th>Temperature Internal Highest Resolution [degC]</th>\n      <th>Rel. Humidity Internal Highest Resolution [%]</th>\n      <th>Latitude</th>\n      <th>Longitude</th>\n    </tr>\n    <tr>\n      <th>datetime-America/Los_Angeles</th>\n      <th></th>\n      <th></th>\n      <th></th>\n      <th></th>\n      <th></th>\n      <th></th>\n      <th></th>\n      <th></th>\n    </tr>\n  </thead>\n  <tbody>\n    <tr>\n      <th>2020-09-29 12:05:00-07:00</th>\n      <td>Magnolia</td>\n      <td>Magnolia &amp; Tyler</td>\n      <td>ARHF78W6</td>\n      <td>3.573135</td>\n      <td>34.912262</td>\n      <td>25.265888</td>\n      <td>33.911928</td>\n      <td>-117.461394</td>\n    </tr>\n    <tr>\n      <th>2020-09-29 13:06:00-07:00</th>\n      <td>Magnolia</td>\n      <td>Magnolia &amp; Tyler</td>\n      <td>ARHF78W6</td>\n      <td>2.654986</td>\n      <td>38.290230</td>\n      <td>22.885481</td>\n      <td>33.911928</td>\n      <td>-117.461394</td>\n    </tr>\n    <tr>\n      <th>2020-09-29 13:24:00-07:00</th>\n      <td>Magnolia</td>\n      <td>Magnolia &amp; Tyler</td>\n      <td>ARHF78W6</td>\n      <td>2.318490</td>\n      <td>38.768219</td>\n      <td>22.088961</td>\n      <td>33.911928</td>\n      <td>-117.461394</td>\n    </tr>\n    <tr>\n      <th>2020-09-29 13:41:00-07:00</th>\n      <td>Magnolia</td>\n      <td>Magnolia &amp; Tyler</td>\n      <td>ARHF78W6</td>\n      <td>2.023389</td>\n      <td>38.981842</td>\n      <td>23.118944</td>\n      <td>33.911928</td>\n      <td>-117.461394</td>\n    </tr>\n    <tr>\n      <th>2020-09-29 13:58:00-07:00</th>\n      <td>Magnolia</td>\n      <td>Magnolia &amp; Tyler</td>\n      <td>ARHF78W6</td>\n      <td>1.755854</td>\n      <td>39.166092</td>\n      <td>21.947052</td>\n      <td>33.911928</td>\n      <td>-117.461394</td>\n    </tr>\n    <tr>\n      <th>...</th>\n      <td>...</td>\n      <td>...</td>\n      <td>...</td>\n      <td>...</td>\n      <td>...</td>\n      <td>...</td>\n      <td>...</td>\n      <td>...</td>\n    </tr>\n    <tr>\n      <th>2021-06-22 23:40:00-07:00</th>\n      <td>Chicago</td>\n      <td>Chicago &amp; University</td>\n      <td>AGJ1PPLJ</td>\n      <td>7.240612</td>\n      <td>23.197525</td>\n      <td>52.887772</td>\n      <td>33.975566</td>\n      <td>-117.348524</td>\n    </tr>\n    <tr>\n      <th>2021-06-22 23:44:00-07:00</th>\n      <td>Magnolia</td>\n      <td>Magnolia &amp; Tyler</td>\n      <td>ARHF78W6</td>\n      <td>6.212309</td>\n      <td>22.420464</td>\n      <td>56.778820</td>\n      <td>33.911928</td>\n      <td>-117.461394</td>\n    </tr>\n    <tr>\n      <th>2021-06-22 23:50:00-07:00</th>\n      <td>Iowa</td>\n      <td>Iowa &amp; University</td>\n      <td>AY3HFT4R</td>\n      <td>6.210450</td>\n      <td>23.152130</td>\n      <td>52.457466</td>\n      <td>33.975591</td>\n      <td>-117.339897</td>\n    </tr>\n    <tr>\n      <th>2021-06-22 23:57:00-07:00</th>\n      <td>Cranford</td>\n      <td>Cranford &amp; University</td>\n      <td>A4T789S6</td>\n      <td>6.478580</td>\n      <td>22.794312</td>\n      <td>53.345539</td>\n      <td>33.975624</td>\n      <td>-117.344182</td>\n    </tr>\n    <tr>\n      <th>2021-06-22 23:58:00-07:00</th>\n      <td>Chicago</td>\n      <td>Chicago &amp; University</td>\n      <td>AGJ1PPLJ</td>\n      <td>7.816707</td>\n      <td>22.730217</td>\n      <td>53.968109</td>\n      <td>33.975566</td>\n      <td>-117.348524</td>\n    </tr>\n  </tbody>\n</table>\n<p>88847 rows × 8 columns</p>\n</div>"
     },
     "execution_count": 47,
     "metadata": {},
     "output_type": "execute_result"
    }
   ],
   "source": [
    "clarity_historical_pm25 = historical_clarity.get_PM25()\n",
    "clarity_historical_pm25.info()\n",
    "clarity_historical_pm25.head(len(clarity_historical_pm25))"
   ],
   "metadata": {
    "collapsed": false,
    "pycharm": {
     "name": "#%%\n"
    }
   }
  },
  {
   "cell_type": "code",
   "execution_count": 48,
   "outputs": [
    {
     "name": "stdout",
     "output_type": "stream",
     "text": [
      "<class 'pandas.core.frame.DataFrame'>\n",
      "DatetimeIndex: 152125 entries, 2020-09-29 12:05:00-07:00 to 2021-07-10 23:58:39.211000-07:00\n",
      "Data columns (total 8 columns):\n",
      " #   Column                                                          Non-Null Count   Dtype  \n",
      "---  ------                                                          --------------   -----  \n",
      " 0   Device ID                                                       152125 non-null  object \n",
      " 1   Intersection                                                    152125 non-null  object \n",
      " 2   Latitude                                                        152125 non-null  float64\n",
      " 3   Longitude                                                       152125 non-null  float64\n",
      " 4   PM2.5 Highest Resolution Mass Concentration Calibrated [ug/m3]  152125 non-null  float64\n",
      " 5   Rel. Humidity Internal Highest Resolution [%]                   152125 non-null  float64\n",
      " 6   Sensor Name                                                     152125 non-null  object \n",
      " 7   Temperature Internal Highest Resolution [degC]                  152125 non-null  float64\n",
      "dtypes: float64(5), object(3)\n",
      "memory usage: 10.4+ MB\n"
     ]
    },
    {
     "data": {
      "text/plain": "                                 Device ID           Intersection   Latitude  \\\ndatetime-America/Los_Angeles                                                   \n2020-09-29 12:05:00-07:00         ARHF78W6       Magnolia & Tyler  33.911928   \n2020-09-29 13:06:00-07:00         ARHF78W6       Magnolia & Tyler  33.911928   \n2020-09-29 13:24:00-07:00         ARHF78W6       Magnolia & Tyler  33.911928   \n2020-09-29 13:41:00-07:00         ARHF78W6       Magnolia & Tyler  33.911928   \n2020-09-29 13:58:00-07:00         ARHF78W6       Magnolia & Tyler  33.911928   \n...                                    ...                    ...        ...   \n2021-07-10 23:55:03.070000-07:00  AGJ1PPLJ   Chicago & University  33.975566   \n2021-07-10 23:57:16.538000-07:00  ARHF78W6       Magnolia & Tyler  33.911928   \n2021-07-10 23:57:30.107000-07:00  A4T789S6  Cranford & University  33.975624   \n2021-07-10 23:57:39.588000-07:00  AY3HFT4R      Iowa & University  33.975591   \n2021-07-10 23:58:39.211000-07:00  AGJ1PPLJ   Chicago & University  33.975566   \n\n                                   Longitude  \\\ndatetime-America/Los_Angeles                   \n2020-09-29 12:05:00-07:00        -117.461394   \n2020-09-29 13:06:00-07:00        -117.461394   \n2020-09-29 13:24:00-07:00        -117.461394   \n2020-09-29 13:41:00-07:00        -117.461394   \n2020-09-29 13:58:00-07:00        -117.461394   \n...                                      ...   \n2021-07-10 23:55:03.070000-07:00 -117.348524   \n2021-07-10 23:57:16.538000-07:00 -117.461394   \n2021-07-10 23:57:30.107000-07:00 -117.344182   \n2021-07-10 23:57:39.588000-07:00 -117.339897   \n2021-07-10 23:58:39.211000-07:00 -117.348524   \n\n                                  PM2.5 Highest Resolution Mass Concentration Calibrated [ug/m3]  \\\ndatetime-America/Los_Angeles                                                                       \n2020-09-29 12:05:00-07:00                                                               3.573135   \n2020-09-29 13:06:00-07:00                                                               2.654986   \n2020-09-29 13:24:00-07:00                                                               2.318490   \n2020-09-29 13:41:00-07:00                                                               2.023389   \n2020-09-29 13:58:00-07:00                                                               1.755854   \n...                                                                                          ...   \n2021-07-10 23:55:03.070000-07:00                                                        9.010000   \n2021-07-10 23:57:16.538000-07:00                                                       10.610000   \n2021-07-10 23:57:30.107000-07:00                                                        8.430000   \n2021-07-10 23:57:39.588000-07:00                                                       10.530000   \n2021-07-10 23:58:39.211000-07:00                                                        9.250000   \n\n                                  Rel. Humidity Internal Highest Resolution [%]  \\\ndatetime-America/Los_Angeles                                                      \n2020-09-29 12:05:00-07:00                                             25.265888   \n2020-09-29 13:06:00-07:00                                             22.885481   \n2020-09-29 13:24:00-07:00                                             22.088961   \n2020-09-29 13:41:00-07:00                                             23.118944   \n2020-09-29 13:58:00-07:00                                             21.947052   \n...                                                                         ...   \n2021-07-10 23:55:03.070000-07:00                                      41.700000   \n2021-07-10 23:57:16.538000-07:00                                      41.460000   \n2021-07-10 23:57:30.107000-07:00                                      42.160000   \n2021-07-10 23:57:39.588000-07:00                                      42.250000   \n2021-07-10 23:58:39.211000-07:00                                      41.620000   \n\n                                 Sensor Name  \\\ndatetime-America/Los_Angeles                   \n2020-09-29 12:05:00-07:00           Magnolia   \n2020-09-29 13:06:00-07:00           Magnolia   \n2020-09-29 13:24:00-07:00           Magnolia   \n2020-09-29 13:41:00-07:00           Magnolia   \n2020-09-29 13:58:00-07:00           Magnolia   \n...                                      ...   \n2021-07-10 23:55:03.070000-07:00     Chicago   \n2021-07-10 23:57:16.538000-07:00    Magnolia   \n2021-07-10 23:57:30.107000-07:00    Cranford   \n2021-07-10 23:57:39.588000-07:00        Iowa   \n2021-07-10 23:58:39.211000-07:00     Chicago   \n\n                                  Temperature Internal Highest Resolution [degC]  \ndatetime-America/Los_Angeles                                                      \n2020-09-29 12:05:00-07:00                                              34.912262  \n2020-09-29 13:06:00-07:00                                              38.290230  \n2020-09-29 13:24:00-07:00                                              38.768219  \n2020-09-29 13:41:00-07:00                                              38.981842  \n2020-09-29 13:58:00-07:00                                              39.166092  \n...                                                                          ...  \n2021-07-10 23:55:03.070000-07:00                                       25.780000  \n2021-07-10 23:57:16.538000-07:00                                       25.620000  \n2021-07-10 23:57:30.107000-07:00                                       25.460000  \n2021-07-10 23:57:39.588000-07:00                                       25.700000  \n2021-07-10 23:58:39.211000-07:00                                       25.720000  \n\n[152125 rows x 8 columns]",
      "text/html": "<div>\n<style scoped>\n    .dataframe tbody tr th:only-of-type {\n        vertical-align: middle;\n    }\n\n    .dataframe tbody tr th {\n        vertical-align: top;\n    }\n\n    .dataframe thead th {\n        text-align: right;\n    }\n</style>\n<table border=\"1\" class=\"dataframe\">\n  <thead>\n    <tr style=\"text-align: right;\">\n      <th></th>\n      <th>Device ID</th>\n      <th>Intersection</th>\n      <th>Latitude</th>\n      <th>Longitude</th>\n      <th>PM2.5 Highest Resolution Mass Concentration Calibrated [ug/m3]</th>\n      <th>Rel. Humidity Internal Highest Resolution [%]</th>\n      <th>Sensor Name</th>\n      <th>Temperature Internal Highest Resolution [degC]</th>\n    </tr>\n    <tr>\n      <th>datetime-America/Los_Angeles</th>\n      <th></th>\n      <th></th>\n      <th></th>\n      <th></th>\n      <th></th>\n      <th></th>\n      <th></th>\n      <th></th>\n    </tr>\n  </thead>\n  <tbody>\n    <tr>\n      <th>2020-09-29 12:05:00-07:00</th>\n      <td>ARHF78W6</td>\n      <td>Magnolia &amp; Tyler</td>\n      <td>33.911928</td>\n      <td>-117.461394</td>\n      <td>3.573135</td>\n      <td>25.265888</td>\n      <td>Magnolia</td>\n      <td>34.912262</td>\n    </tr>\n    <tr>\n      <th>2020-09-29 13:06:00-07:00</th>\n      <td>ARHF78W6</td>\n      <td>Magnolia &amp; Tyler</td>\n      <td>33.911928</td>\n      <td>-117.461394</td>\n      <td>2.654986</td>\n      <td>22.885481</td>\n      <td>Magnolia</td>\n      <td>38.290230</td>\n    </tr>\n    <tr>\n      <th>2020-09-29 13:24:00-07:00</th>\n      <td>ARHF78W6</td>\n      <td>Magnolia &amp; Tyler</td>\n      <td>33.911928</td>\n      <td>-117.461394</td>\n      <td>2.318490</td>\n      <td>22.088961</td>\n      <td>Magnolia</td>\n      <td>38.768219</td>\n    </tr>\n    <tr>\n      <th>2020-09-29 13:41:00-07:00</th>\n      <td>ARHF78W6</td>\n      <td>Magnolia &amp; Tyler</td>\n      <td>33.911928</td>\n      <td>-117.461394</td>\n      <td>2.023389</td>\n      <td>23.118944</td>\n      <td>Magnolia</td>\n      <td>38.981842</td>\n    </tr>\n    <tr>\n      <th>2020-09-29 13:58:00-07:00</th>\n      <td>ARHF78W6</td>\n      <td>Magnolia &amp; Tyler</td>\n      <td>33.911928</td>\n      <td>-117.461394</td>\n      <td>1.755854</td>\n      <td>21.947052</td>\n      <td>Magnolia</td>\n      <td>39.166092</td>\n    </tr>\n    <tr>\n      <th>...</th>\n      <td>...</td>\n      <td>...</td>\n      <td>...</td>\n      <td>...</td>\n      <td>...</td>\n      <td>...</td>\n      <td>...</td>\n      <td>...</td>\n    </tr>\n    <tr>\n      <th>2021-07-10 23:55:03.070000-07:00</th>\n      <td>AGJ1PPLJ</td>\n      <td>Chicago &amp; University</td>\n      <td>33.975566</td>\n      <td>-117.348524</td>\n      <td>9.010000</td>\n      <td>41.700000</td>\n      <td>Chicago</td>\n      <td>25.780000</td>\n    </tr>\n    <tr>\n      <th>2021-07-10 23:57:16.538000-07:00</th>\n      <td>ARHF78W6</td>\n      <td>Magnolia &amp; Tyler</td>\n      <td>33.911928</td>\n      <td>-117.461394</td>\n      <td>10.610000</td>\n      <td>41.460000</td>\n      <td>Magnolia</td>\n      <td>25.620000</td>\n    </tr>\n    <tr>\n      <th>2021-07-10 23:57:30.107000-07:00</th>\n      <td>A4T789S6</td>\n      <td>Cranford &amp; University</td>\n      <td>33.975624</td>\n      <td>-117.344182</td>\n      <td>8.430000</td>\n      <td>42.160000</td>\n      <td>Cranford</td>\n      <td>25.460000</td>\n    </tr>\n    <tr>\n      <th>2021-07-10 23:57:39.588000-07:00</th>\n      <td>AY3HFT4R</td>\n      <td>Iowa &amp; University</td>\n      <td>33.975591</td>\n      <td>-117.339897</td>\n      <td>10.530000</td>\n      <td>42.250000</td>\n      <td>Iowa</td>\n      <td>25.700000</td>\n    </tr>\n    <tr>\n      <th>2021-07-10 23:58:39.211000-07:00</th>\n      <td>AGJ1PPLJ</td>\n      <td>Chicago &amp; University</td>\n      <td>33.975566</td>\n      <td>-117.348524</td>\n      <td>9.250000</td>\n      <td>41.620000</td>\n      <td>Chicago</td>\n      <td>25.720000</td>\n    </tr>\n  </tbody>\n</table>\n<p>152125 rows × 8 columns</p>\n</div>"
     },
     "execution_count": 48,
     "metadata": {},
     "output_type": "execute_result"
    }
   ],
   "source": [
    "clarity_pm25 = pd.concat([clarity_historical_pm25, clarity_HighRes_pm25], sort=True)\n",
    "clarity_pm25.info()\n",
    "clarity_pm25.head(len(clarity_pm25))"
   ],
   "metadata": {
    "collapsed": false,
    "pycharm": {
     "name": "#%%\n"
    }
   }
  },
  {
   "cell_type": "markdown",
   "source": [
    "***\n",
    "> ### __Clarity PM2.5 Resampling__\n",
    "***"
   ],
   "metadata": {
    "collapsed": false,
    "pycharm": {
     "name": "#%% md\n"
    }
   }
  },
  {
   "cell_type": "code",
   "execution_count": 49,
   "outputs": [
    {
     "name": "stdout",
     "output_type": "stream",
     "text": [
      "<class 'pandas.core.frame.DataFrame'>\n",
      "Int64Index: 109212 entries, 3 to 109214\n",
      "Data columns (total 9 columns):\n",
      " #   Column                                                          Non-Null Count   Dtype                              \n",
      "---  ------                                                          --------------   -----                              \n",
      " 0   Sensor Name                                                     109212 non-null  object                             \n",
      " 1   Intersection                                                    109212 non-null  object                             \n",
      " 2   Device ID                                                       109212 non-null  object                             \n",
      " 3   Latitude                                                        109212 non-null  float64                            \n",
      " 4   Longitude                                                       109212 non-null  float64                            \n",
      " 5   datetime-America/Los_Angeles                                    109212 non-null  datetime64[ns, America/Los_Angeles]\n",
      " 6   PM2.5 Highest Resolution Mass Concentration Calibrated [ug/m3]  109212 non-null  float64                            \n",
      " 7   Rel. Humidity Internal Highest Resolution [%]                   109212 non-null  float64                            \n",
      " 8   Temperature Internal Highest Resolution [degC]                  109212 non-null  float64                            \n",
      "dtypes: datetime64[ns, America/Los_Angeles](1), float64(5), object(3)\n",
      "memory usage: 8.3+ MB\n"
     ]
    },
    {
     "data": {
      "text/plain": "       Sensor Name          Intersection Device ID   Latitude   Longitude  \\\n3          Chicago  Chicago & University  AGJ1PPLJ  33.975566 -117.348524   \n4          Chicago  Chicago & University  AGJ1PPLJ  33.975566 -117.348524   \n5          Chicago  Chicago & University  AGJ1PPLJ  33.975566 -117.348524   \n6          Chicago  Chicago & University  AGJ1PPLJ  33.975566 -117.348524   \n7          Chicago  Chicago & University  AGJ1PPLJ  33.975566 -117.348524   \n...            ...                   ...       ...        ...         ...   \n109210    Magnolia      Magnolia & Tyler  ARHF78W6  33.911928 -117.461394   \n109211    Magnolia      Magnolia & Tyler  ARHF78W6  33.911928 -117.461394   \n109212    Magnolia      Magnolia & Tyler  ARHF78W6  33.911928 -117.461394   \n109213    Magnolia      Magnolia & Tyler  ARHF78W6  33.911928 -117.461394   \n109214    Magnolia      Magnolia & Tyler  ARHF78W6  33.911928 -117.461394   \n\n       datetime-America/Los_Angeles  \\\n3         2020-09-29 15:45:00-07:00   \n4         2020-09-29 16:00:00-07:00   \n5         2020-09-29 16:15:00-07:00   \n6         2020-09-29 16:30:00-07:00   \n7         2020-09-29 16:45:00-07:00   \n...                             ...   \n109210    2021-07-10 22:45:00-07:00   \n109211    2021-07-10 23:00:00-07:00   \n109212    2021-07-10 23:15:00-07:00   \n109213    2021-07-10 23:30:00-07:00   \n109214    2021-07-10 23:45:00-07:00   \n\n        PM2.5 Highest Resolution Mass Concentration Calibrated [ug/m3]  \\\n3                                                             4.076105   \n4                                                             4.291387   \n5                                                             4.506669   \n6                                                             4.721952   \n7                                                             4.937234   \n...                                                                ...   \n109210                                                        6.286515   \n109211                                                        6.286515   \n109212                                                        6.286515   \n109213                                                        6.286515   \n109214                                                        6.286515   \n\n        Rel. Humidity Internal Highest Resolution [%]  \\\n3                                           23.100634   \n4                                           23.124476   \n5                                           23.148318   \n6                                           23.172160   \n7                                           23.196002   \n...                                               ...   \n109210                                      50.905624   \n109211                                      50.905624   \n109212                                      50.905624   \n109213                                      50.905624   \n109214                                      50.905624   \n\n        Temperature Internal Highest Resolution [degC]  \n3                                            37.494469  \n4                                            37.366627  \n5                                            37.238785  \n6                                            37.110943  \n7                                            36.983101  \n...                                                ...  \n109210                                       24.070724  \n109211                                       24.070724  \n109212                                       24.070724  \n109213                                       24.070724  \n109214                                       24.070724  \n\n[109212 rows x 9 columns]",
      "text/html": "<div>\n<style scoped>\n    .dataframe tbody tr th:only-of-type {\n        vertical-align: middle;\n    }\n\n    .dataframe tbody tr th {\n        vertical-align: top;\n    }\n\n    .dataframe thead th {\n        text-align: right;\n    }\n</style>\n<table border=\"1\" class=\"dataframe\">\n  <thead>\n    <tr style=\"text-align: right;\">\n      <th></th>\n      <th>Sensor Name</th>\n      <th>Intersection</th>\n      <th>Device ID</th>\n      <th>Latitude</th>\n      <th>Longitude</th>\n      <th>datetime-America/Los_Angeles</th>\n      <th>PM2.5 Highest Resolution Mass Concentration Calibrated [ug/m3]</th>\n      <th>Rel. Humidity Internal Highest Resolution [%]</th>\n      <th>Temperature Internal Highest Resolution [degC]</th>\n    </tr>\n  </thead>\n  <tbody>\n    <tr>\n      <th>3</th>\n      <td>Chicago</td>\n      <td>Chicago &amp; University</td>\n      <td>AGJ1PPLJ</td>\n      <td>33.975566</td>\n      <td>-117.348524</td>\n      <td>2020-09-29 15:45:00-07:00</td>\n      <td>4.076105</td>\n      <td>23.100634</td>\n      <td>37.494469</td>\n    </tr>\n    <tr>\n      <th>4</th>\n      <td>Chicago</td>\n      <td>Chicago &amp; University</td>\n      <td>AGJ1PPLJ</td>\n      <td>33.975566</td>\n      <td>-117.348524</td>\n      <td>2020-09-29 16:00:00-07:00</td>\n      <td>4.291387</td>\n      <td>23.124476</td>\n      <td>37.366627</td>\n    </tr>\n    <tr>\n      <th>5</th>\n      <td>Chicago</td>\n      <td>Chicago &amp; University</td>\n      <td>AGJ1PPLJ</td>\n      <td>33.975566</td>\n      <td>-117.348524</td>\n      <td>2020-09-29 16:15:00-07:00</td>\n      <td>4.506669</td>\n      <td>23.148318</td>\n      <td>37.238785</td>\n    </tr>\n    <tr>\n      <th>6</th>\n      <td>Chicago</td>\n      <td>Chicago &amp; University</td>\n      <td>AGJ1PPLJ</td>\n      <td>33.975566</td>\n      <td>-117.348524</td>\n      <td>2020-09-29 16:30:00-07:00</td>\n      <td>4.721952</td>\n      <td>23.172160</td>\n      <td>37.110943</td>\n    </tr>\n    <tr>\n      <th>7</th>\n      <td>Chicago</td>\n      <td>Chicago &amp; University</td>\n      <td>AGJ1PPLJ</td>\n      <td>33.975566</td>\n      <td>-117.348524</td>\n      <td>2020-09-29 16:45:00-07:00</td>\n      <td>4.937234</td>\n      <td>23.196002</td>\n      <td>36.983101</td>\n    </tr>\n    <tr>\n      <th>...</th>\n      <td>...</td>\n      <td>...</td>\n      <td>...</td>\n      <td>...</td>\n      <td>...</td>\n      <td>...</td>\n      <td>...</td>\n      <td>...</td>\n      <td>...</td>\n    </tr>\n    <tr>\n      <th>109210</th>\n      <td>Magnolia</td>\n      <td>Magnolia &amp; Tyler</td>\n      <td>ARHF78W6</td>\n      <td>33.911928</td>\n      <td>-117.461394</td>\n      <td>2021-07-10 22:45:00-07:00</td>\n      <td>6.286515</td>\n      <td>50.905624</td>\n      <td>24.070724</td>\n    </tr>\n    <tr>\n      <th>109211</th>\n      <td>Magnolia</td>\n      <td>Magnolia &amp; Tyler</td>\n      <td>ARHF78W6</td>\n      <td>33.911928</td>\n      <td>-117.461394</td>\n      <td>2021-07-10 23:00:00-07:00</td>\n      <td>6.286515</td>\n      <td>50.905624</td>\n      <td>24.070724</td>\n    </tr>\n    <tr>\n      <th>109212</th>\n      <td>Magnolia</td>\n      <td>Magnolia &amp; Tyler</td>\n      <td>ARHF78W6</td>\n      <td>33.911928</td>\n      <td>-117.461394</td>\n      <td>2021-07-10 23:15:00-07:00</td>\n      <td>6.286515</td>\n      <td>50.905624</td>\n      <td>24.070724</td>\n    </tr>\n    <tr>\n      <th>109213</th>\n      <td>Magnolia</td>\n      <td>Magnolia &amp; Tyler</td>\n      <td>ARHF78W6</td>\n      <td>33.911928</td>\n      <td>-117.461394</td>\n      <td>2021-07-10 23:30:00-07:00</td>\n      <td>6.286515</td>\n      <td>50.905624</td>\n      <td>24.070724</td>\n    </tr>\n    <tr>\n      <th>109214</th>\n      <td>Magnolia</td>\n      <td>Magnolia &amp; Tyler</td>\n      <td>ARHF78W6</td>\n      <td>33.911928</td>\n      <td>-117.461394</td>\n      <td>2021-07-10 23:45:00-07:00</td>\n      <td>6.286515</td>\n      <td>50.905624</td>\n      <td>24.070724</td>\n    </tr>\n  </tbody>\n</table>\n<p>109212 rows × 9 columns</p>\n</div>"
     },
     "execution_count": 49,
     "metadata": {},
     "output_type": "execute_result"
    }
   ],
   "source": [
    "grouping = ['Sensor Name', 'Intersection', 'Device ID', 'Latitude', 'Longitude']\n",
    "clarity_pm25_interp = clarity_pm25.groupby(grouping, as_index=True).resample(\n",
    "    '15T').interpolate('linear').drop(grouping, axis=1).reset_index(drop=False).dropna()\n",
    "clarity_pm25_interp.info()\n",
    "clarity_pm25_interp"
   ],
   "metadata": {
    "collapsed": false,
    "pycharm": {
     "name": "#%%\n"
    }
   }
  },
  {
   "cell_type": "markdown",
   "source": [
    "***\n",
    "> ## __PM2.5 Grouping__\n",
    "***"
   ],
   "metadata": {
    "collapsed": false,
    "pycharm": {
     "name": "#%% md\n"
    }
   }
  },
  {
   "cell_type": "code",
   "execution_count": 50,
   "outputs": [
    {
     "name": "stdout",
     "output_type": "stream",
     "text": [
      "<class 'pandas.core.frame.DataFrame'>\n",
      "DatetimeIndex: 27297 entries, 2020-09-29 15:45:00-07:00 to 2021-07-10 23:45:00-07:00\n",
      "Data columns (total 4 columns):\n",
      " #   Column                  Non-Null Count  Dtype  \n",
      "---  ------                  --------------  -----  \n",
      " 0   Chicago PM2.5 [ug/m3]   27297 non-null  float64\n",
      " 1   Cranford PM2.5 [ug/m3]  27297 non-null  float64\n",
      " 2   Iowa PM2.5 [ug/m3]      27297 non-null  float64\n",
      " 3   Magnolia PM2.5 [ug/m3]  27297 non-null  float64\n",
      "dtypes: float64(4)\n",
      "memory usage: 1.0 MB\n"
     ]
    },
    {
     "data": {
      "text/plain": "Sensor Name                   Chicago PM2.5 [ug/m3]  Cranford PM2.5 [ug/m3]  \\\ndatetime-America/Los_Angeles                                                  \n2020-09-29 15:45:00-07:00                  4.076105                8.111194   \n2020-09-29 16:00:00-07:00                  4.291387                8.112177   \n2020-09-29 16:15:00-07:00                  4.506669                8.113160   \n2020-09-29 16:30:00-07:00                  4.721952                8.114143   \n2020-09-29 16:45:00-07:00                  4.937234                8.115126   \n...                                             ...                     ...   \n2021-07-10 22:45:00-07:00                  8.100380               12.734099   \n2021-07-10 23:00:00-07:00                  8.101363               12.737570   \n2021-07-10 23:15:00-07:00                  8.102346               12.741040   \n2021-07-10 23:30:00-07:00                  8.103329               12.744510   \n2021-07-10 23:45:00-07:00                  8.104312               12.747981   \n\nSensor Name                   Iowa PM2.5 [ug/m3]  Magnolia PM2.5 [ug/m3]  \ndatetime-America/Los_Angeles                                              \n2020-09-29 15:45:00-07:00              12.761862                3.818308  \n2020-09-29 16:00:00-07:00              12.765333                3.966438  \n2020-09-29 16:15:00-07:00              12.768803                4.114569  \n2020-09-29 16:30:00-07:00              12.772273                4.262699  \n2020-09-29 16:45:00-07:00              12.775744                4.410830  \n...                                          ...                     ...  \n2021-07-10 22:45:00-07:00               2.956193                6.286515  \n2021-07-10 23:00:00-07:00               2.954288                6.286515  \n2021-07-10 23:15:00-07:00               2.952383                6.286515  \n2021-07-10 23:30:00-07:00               2.950479                6.286515  \n2021-07-10 23:45:00-07:00               2.948574                6.286515  \n\n[27297 rows x 4 columns]",
      "text/html": "<div>\n<style scoped>\n    .dataframe tbody tr th:only-of-type {\n        vertical-align: middle;\n    }\n\n    .dataframe tbody tr th {\n        vertical-align: top;\n    }\n\n    .dataframe thead th {\n        text-align: right;\n    }\n</style>\n<table border=\"1\" class=\"dataframe\">\n  <thead>\n    <tr style=\"text-align: right;\">\n      <th>Sensor Name</th>\n      <th>Chicago PM2.5 [ug/m3]</th>\n      <th>Cranford PM2.5 [ug/m3]</th>\n      <th>Iowa PM2.5 [ug/m3]</th>\n      <th>Magnolia PM2.5 [ug/m3]</th>\n    </tr>\n    <tr>\n      <th>datetime-America/Los_Angeles</th>\n      <th></th>\n      <th></th>\n      <th></th>\n      <th></th>\n    </tr>\n  </thead>\n  <tbody>\n    <tr>\n      <th>2020-09-29 15:45:00-07:00</th>\n      <td>4.076105</td>\n      <td>8.111194</td>\n      <td>12.761862</td>\n      <td>3.818308</td>\n    </tr>\n    <tr>\n      <th>2020-09-29 16:00:00-07:00</th>\n      <td>4.291387</td>\n      <td>8.112177</td>\n      <td>12.765333</td>\n      <td>3.966438</td>\n    </tr>\n    <tr>\n      <th>2020-09-29 16:15:00-07:00</th>\n      <td>4.506669</td>\n      <td>8.113160</td>\n      <td>12.768803</td>\n      <td>4.114569</td>\n    </tr>\n    <tr>\n      <th>2020-09-29 16:30:00-07:00</th>\n      <td>4.721952</td>\n      <td>8.114143</td>\n      <td>12.772273</td>\n      <td>4.262699</td>\n    </tr>\n    <tr>\n      <th>2020-09-29 16:45:00-07:00</th>\n      <td>4.937234</td>\n      <td>8.115126</td>\n      <td>12.775744</td>\n      <td>4.410830</td>\n    </tr>\n    <tr>\n      <th>...</th>\n      <td>...</td>\n      <td>...</td>\n      <td>...</td>\n      <td>...</td>\n    </tr>\n    <tr>\n      <th>2021-07-10 22:45:00-07:00</th>\n      <td>8.100380</td>\n      <td>12.734099</td>\n      <td>2.956193</td>\n      <td>6.286515</td>\n    </tr>\n    <tr>\n      <th>2021-07-10 23:00:00-07:00</th>\n      <td>8.101363</td>\n      <td>12.737570</td>\n      <td>2.954288</td>\n      <td>6.286515</td>\n    </tr>\n    <tr>\n      <th>2021-07-10 23:15:00-07:00</th>\n      <td>8.102346</td>\n      <td>12.741040</td>\n      <td>2.952383</td>\n      <td>6.286515</td>\n    </tr>\n    <tr>\n      <th>2021-07-10 23:30:00-07:00</th>\n      <td>8.103329</td>\n      <td>12.744510</td>\n      <td>2.950479</td>\n      <td>6.286515</td>\n    </tr>\n    <tr>\n      <th>2021-07-10 23:45:00-07:00</th>\n      <td>8.104312</td>\n      <td>12.747981</td>\n      <td>2.948574</td>\n      <td>6.286515</td>\n    </tr>\n  </tbody>\n</table>\n<p>27297 rows × 4 columns</p>\n</div>"
     },
     "execution_count": 50,
     "metadata": {},
     "output_type": "execute_result"
    }
   ],
   "source": [
    "pm25_pivot = pd.pivot_table(clarity_pm25_interp,\n",
    "                            values='PM2.5 Highest Resolution Mass Concentration Calibrated [ug/m3]',\n",
    "                            index='datetime-America/Los_Angeles', columns='Sensor Name')\n",
    "pm25_pivot.rename(columns={\n",
    "    'Chicago' : 'Chicago PM2.5 [ug/m3]',\n",
    "    'Cranford': 'Cranford PM2.5 [ug/m3]',\n",
    "    'Iowa'    : 'Iowa PM2.5 [ug/m3]',\n",
    "    'Magnolia': 'Magnolia PM2.5 [ug/m3]'\n",
    "}, inplace=True)\n",
    "pm25_pivot.dropna(inplace=True)\n",
    "if SAVE_TABLES:\n",
    "    pm25_pivot.to_csv('../data/clarity_data/pm25_readings.csv')\n",
    "pm25_pivot.info()\n",
    "pm25_pivot"
   ],
   "metadata": {
    "collapsed": false,
    "pycharm": {
     "name": "#%%\n"
    }
   }
  },
  {
   "cell_type": "markdown",
   "source": [
    "***\n",
    "> ## __NO2 Data__\n",
    "***"
   ],
   "metadata": {
    "collapsed": false,
    "pycharm": {
     "name": "#%% md\n"
    }
   }
  },
  {
   "cell_type": "code",
   "execution_count": 55,
   "outputs": [
    {
     "name": "stdout",
     "output_type": "stream",
     "text": [
      "<class 'pandas.core.frame.DataFrame'>\n",
      "RangeIndex: 509963 entries, 0 to 509962\n",
      "Data columns (total 42 columns):\n",
      " #   Column                                                      Non-Null Count   Dtype  \n",
      "---  ------                                                      --------------   -----  \n",
      " 0   Site ID                                                     509963 non-null  object \n",
      " 1   Longitude                                                   509963 non-null  float64\n",
      " 2   Latitude                                                    509963 non-null  float64\n",
      " 3   Location Type                                               509963 non-null  object \n",
      " 4   Date                                                        509963 non-null  object \n",
      " 5   Average                                                     509963 non-null  object \n",
      " 6   VOC                                                         35719 non-null   float64\n",
      " 7   VOC - Raw                                                   35719 non-null   float64\n",
      " 8   Relative Humidity                                           509954 non-null  float64\n",
      " 9   Relative Humidity - Raw                                     509954 non-null  float64\n",
      " 10  Temperature                                                 509954 non-null  float64\n",
      " 11  Temperature - Raw                                           509954 non-null  float64\n",
      " 12  Particulate Matter (2.5) Number Concentration               509954 non-null  float64\n",
      " 13  Particulate Matter (2.5) Number Concentration - Calibrated  0 non-null       float64\n",
      " 14  Particulate Matter (2.5) Number Concentration - Raw         509954 non-null  float64\n",
      " 15  Particulate Matter (2.5) Mass Concentration                 509954 non-null  float64\n",
      " 16  Particulate Matter (2.5) Mass Concentration - AQI           0 non-null       float64\n",
      " 17  Particulate Matter (2.5) Mass Concentration - EPA NowCast   0 non-null       float64\n",
      " 18  Particulate Matter (2.5) Mass Concentration - Calibrated    443905 non-null  float64\n",
      " 19  Particulate Matter (2.5) Mass Concentration - Raw           509954 non-null  float64\n",
      " 20  Particulate Matter (1) Number Concentration                 509954 non-null  float64\n",
      " 21  Particulate Matter (1) Number Concentration - Calibrated    0 non-null       float64\n",
      " 22  Particulate Matter (1) Number Concentration - Raw           509954 non-null  float64\n",
      " 23  Particulate Matter (1) Mass Concentration                   509954 non-null  float64\n",
      " 24  Particulate Matter (1) Mass Concentration - Calibrated      0 non-null       float64\n",
      " 25  Particulate Matter (1) Mass Concentration - Raw             509954 non-null  float64\n",
      " 26  Particulate Matter (10) Number Concentration                509954 non-null  float64\n",
      " 27  Particulate Matter (10) Number Concentration - Calibrated   0 non-null       float64\n",
      " 28  Particulate Matter (10) Number Concentration - Raw          509954 non-null  float64\n",
      " 29  Particulate Matter (10) Mass Concentration                  509954 non-null  float64\n",
      " 30  Particulate Matter (10) Mass Concentration - Calibrated     0 non-null       float64\n",
      " 31  Particulate Matter (10) Mass Concentration - Raw            509954 non-null  float64\n",
      " 32  Nitrogen Dioxide                                            509954 non-null  float64\n",
      " 33  Nitrogen Dioxide - AQI                                      0 non-null       float64\n",
      " 34  Carbon Dioxide                                              0 non-null       float64\n",
      " 35  Carbon Dioxide - Calibrated                                 0 non-null       float64\n",
      " 36  Carbon Dioxide - Raw                                        0 non-null       float64\n",
      " 37  datasourceType                                              0 non-null       float64\n",
      " 38  outputFrequency                                             0 non-null       float64\n",
      " 39  Data Source                                                 509963 non-null  object \n",
      " 40  Nitrogen Dioxide - Calibrated                               509954 non-null  float64\n",
      " 41  Nitrogen Dioxide - Raw                                      509954 non-null  float64\n",
      "dtypes: float64(37), object(5)\n",
      "memory usage: 163.4+ MB\n"
     ]
    },
    {
     "data": {
      "text/plain": "         Site ID   Longitude   Latitude Location Type                 Date  \\\n0       AY3HFT4R -117.261331  33.980781         Point  2020-09-30 11:57:55   \n1       ARHF78W6 -117.261331  33.980781         Point  2020-09-30 11:57:20   \n2       A4T789S6 -117.261331  33.980781         Point  2020-09-30 11:57:11   \n3       AQ7GDKW8 -117.261331  33.980781         Point  2020-09-30 11:56:15   \n4       AGJ1PPLJ -117.261331  33.980781         Point  2020-09-30 11:50:54   \n...          ...         ...        ...           ...                  ...   \n509958  AY3HFT4R -117.339897  33.975591         Point  2021-12-02 12:02:27   \n509959  AQ7GDKW8 -117.617220  34.030830         Point  2021-12-02 12:01:06   \n509960  A4T789S6 -117.344182  33.975624         Point  2021-12-02 12:01:02   \n509961  AXD4VGR2 -117.617220  34.030830         Point  2021-12-02 12:00:59   \n509962  AGJ1PPLJ -117.348524  33.975566         Point  2021-12-02 12:00:53   \n\n       Average  VOC  VOC - Raw  Relative Humidity  Relative Humidity - Raw  \\\n0         Base  NaN        NaN              25.09                    25.09   \n1         Base  NaN        NaN              26.62                    26.62   \n2         Base  NaN        NaN              26.49                    26.49   \n3         Base  NaN        NaN              27.30                    27.30   \n4         Base  NaN        NaN              28.44                    28.44   \n...        ...  ...        ...                ...                      ...   \n509958    Base  NaN        NaN              40.57                    40.57   \n509959    Base  NaN        NaN              21.06                    21.06   \n509960    Base  NaN        NaN              43.77                    43.77   \n509961    Base  NaN        NaN              21.02                    21.02   \n509962    Base  NaN        NaN              43.94                    43.94   \n\n        Temperature  Temperature - Raw  \\\n0             27.35              27.35   \n1             26.43              26.43   \n2             26.77              26.77   \n3             26.74              26.74   \n4             26.73              26.73   \n...             ...                ...   \n509958        12.74              12.74   \n509959        23.46              23.46   \n509960        11.96              11.96   \n509961        23.40              23.40   \n509962        12.17              12.17   \n\n        Particulate Matter (2.5) Number Concentration  \\\n0                                               11.86   \n1                                               10.59   \n2                                               11.61   \n3                                               13.48   \n4                                               12.39   \n...                                               ...   \n509958                                          17.00   \n509959                                           7.28   \n509960                                          19.31   \n509961                                           6.39   \n509962                                          16.69   \n\n        Particulate Matter (2.5) Number Concentration - Calibrated  \\\n0                                                              NaN   \n1                                                              NaN   \n2                                                              NaN   \n3                                                              NaN   \n4                                                              NaN   \n...                                                            ...   \n509958                                                         NaN   \n509959                                                         NaN   \n509960                                                         NaN   \n509961                                                         NaN   \n509962                                                         NaN   \n\n        Particulate Matter (2.5) Number Concentration - Raw  \\\n0                                                     11.86   \n1                                                     10.59   \n2                                                     11.61   \n3                                                     13.48   \n4                                                     12.39   \n...                                                     ...   \n509958                                                17.00   \n509959                                                 7.28   \n509960                                                19.31   \n509961                                                 6.39   \n509962                                                16.69   \n\n        Particulate Matter (2.5) Mass Concentration  \\\n0                                             10.12   \n1                                              8.20   \n2                                              9.58   \n3                                             10.55   \n4                                             10.31   \n...                                             ...   \n509958                                        21.03   \n509959                                        10.45   \n509960                                        17.77   \n509961                                         9.48   \n509962                                        17.76   \n\n        Particulate Matter (2.5) Mass Concentration - AQI  \\\n0                                                     NaN   \n1                                                     NaN   \n2                                                     NaN   \n3                                                     NaN   \n4                                                     NaN   \n...                                                   ...   \n509958                                                NaN   \n509959                                                NaN   \n509960                                                NaN   \n509961                                                NaN   \n509962                                                NaN   \n\n        Particulate Matter (2.5) Mass Concentration - EPA NowCast  \\\n0                                                             NaN   \n1                                                             NaN   \n2                                                             NaN   \n3                                                             NaN   \n4                                                             NaN   \n...                                                           ...   \n509958                                                        NaN   \n509959                                                        NaN   \n509960                                                        NaN   \n509961                                                        NaN   \n509962                                                        NaN   \n\n        Particulate Matter (2.5) Mass Concentration - Calibrated  \\\n0                                                            NaN   \n1                                                            NaN   \n2                                                            NaN   \n3                                                            NaN   \n4                                                            NaN   \n...                                                          ...   \n509958                                                     21.03   \n509959                                                     10.45   \n509960                                                     17.77   \n509961                                                      9.48   \n509962                                                     17.76   \n\n        Particulate Matter (2.5) Mass Concentration - Raw  \\\n0                                                   10.12   \n1                                                    8.20   \n2                                                    9.58   \n3                                                   10.55   \n4                                                   10.31   \n...                                                   ...   \n509958                                              17.78   \n509959                                               6.23   \n509960                                              19.27   \n509961                                               3.00   \n509962                                              15.81   \n\n        Particulate Matter (1) Number Concentration  \\\n0                                             11.01   \n1                                             10.04   \n2                                             10.93   \n3                                             12.80   \n4                                             11.80   \n...                                             ...   \n509958                                        15.80   \n509959                                         6.90   \n509960                                        17.94   \n509961                                         6.06   \n509962                                        15.84   \n\n        Particulate Matter (1) Number Concentration - Calibrated  \\\n0                                                            NaN   \n1                                                            NaN   \n2                                                            NaN   \n3                                                            NaN   \n4                                                            NaN   \n...                                                          ...   \n509958                                                       NaN   \n509959                                                       NaN   \n509960                                                       NaN   \n509961                                                       NaN   \n509962                                                       NaN   \n\n        Particulate Matter (1) Number Concentration - Raw  \\\n0                                                   11.01   \n1                                                   10.04   \n2                                                   10.93   \n3                                                   12.80   \n4                                                   11.80   \n...                                                   ...   \n509958                                              15.80   \n509959                                               6.90   \n509960                                              17.94   \n509961                                               6.06   \n509962                                              15.84   \n\n        Particulate Matter (1) Mass Concentration  \\\n0                                            5.00   \n1                                            4.59   \n2                                            5.00   \n3                                            6.00   \n4                                            5.58   \n...                                           ...   \n509958                                       7.78   \n509959                                       2.81   \n509960                                      10.23   \n509961                                       1.61   \n509962                                       8.38   \n\n        Particulate Matter (1) Mass Concentration - Calibrated  \\\n0                                                          NaN   \n1                                                          NaN   \n2                                                          NaN   \n3                                                          NaN   \n4                                                          NaN   \n...                                                        ...   \n509958                                                     NaN   \n509959                                                     NaN   \n509960                                                     NaN   \n509961                                                     NaN   \n509962                                                     NaN   \n\n        Particulate Matter (1) Mass Concentration - Raw  \\\n0                                                  5.00   \n1                                                  4.59   \n2                                                  5.00   \n3                                                  6.00   \n4                                                  5.58   \n...                                                 ...   \n509958                                             7.78   \n509959                                             2.81   \n509960                                            10.23   \n509961                                             1.61   \n509962                                             8.38   \n\n        Particulate Matter (10) Number Concentration  \\\n0                                              11.94   \n1                                              10.70   \n2                                              11.74   \n3                                              13.59   \n4                                              12.50   \n...                                              ...   \n509958                                         17.33   \n509959                                          7.34   \n509960                                         19.50   \n509961                                          6.39   \n509962                                         16.92   \n\n        Particulate Matter (10) Number Concentration - Calibrated  \\\n0                                                             NaN   \n1                                                             NaN   \n2                                                             NaN   \n3                                                             NaN   \n4                                                             NaN   \n...                                                           ...   \n509958                                                        NaN   \n509959                                                        NaN   \n509960                                                        NaN   \n509961                                                        NaN   \n509962                                                        NaN   \n\n        Particulate Matter (10) Number Concentration - Raw  \\\n0                                                    11.94   \n1                                                    10.70   \n2                                                    11.74   \n3                                                    13.59   \n4                                                    12.50   \n...                                                    ...   \n509958                                               17.33   \n509959                                                7.34   \n509960                                               19.50   \n509961                                                6.39   \n509962                                               16.92   \n\n        Particulate Matter (10) Mass Concentration  \\\n0                                            14.00   \n1                                            11.06   \n2                                            11.88   \n3                                            12.17   \n4                                            11.08   \n...                                            ...   \n509958                                       31.55   \n509959                                        7.08   \n509960                                       24.65   \n509961                                        7.85   \n509962                                       21.88   \n\n        Particulate Matter (10) Mass Concentration - Calibrated  \\\n0                                                           NaN   \n1                                                           NaN   \n2                                                           NaN   \n3                                                           NaN   \n4                                                           NaN   \n...                                                         ...   \n509958                                                      NaN   \n509959                                                      NaN   \n509960                                                      NaN   \n509961                                                      NaN   \n509962                                                      NaN   \n\n        Particulate Matter (10) Mass Concentration - Raw  Nitrogen Dioxide  \\\n0                                                  14.00          4.123432   \n1                                                  11.06         12.438928   \n2                                                  11.88         25.850752   \n3                                                  12.17         13.446313   \n4                                                  11.08          8.055877   \n...                                                  ...               ...   \n509958                                             31.55         65.780263   \n509959                                              7.08         43.535053   \n509960                                             24.65         37.855784   \n509961                                              7.85         38.955826   \n509962                                             21.88         54.636779   \n\n        Nitrogen Dioxide - AQI  Carbon Dioxide  Carbon Dioxide - Calibrated  \\\n0                          NaN             NaN                          NaN   \n1                          NaN             NaN                          NaN   \n2                          NaN             NaN                          NaN   \n3                          NaN             NaN                          NaN   \n4                          NaN             NaN                          NaN   \n...                        ...             ...                          ...   \n509958                     NaN             NaN                          NaN   \n509959                     NaN             NaN                          NaN   \n509960                     NaN             NaN                          NaN   \n509961                     NaN             NaN                          NaN   \n509962                     NaN             NaN                          NaN   \n\n        Carbon Dioxide - Raw  datasourceType  outputFrequency Data Source  \\\n0                        NaN             NaN              NaN     Clarity   \n1                        NaN             NaN              NaN     Clarity   \n2                        NaN             NaN              NaN     Clarity   \n3                        NaN             NaN              NaN     Clarity   \n4                        NaN             NaN              NaN     Clarity   \n...                      ...             ...              ...         ...   \n509958                   NaN             NaN              NaN     Clarity   \n509959                   NaN             NaN              NaN     Clarity   \n509960                   NaN             NaN              NaN     Clarity   \n509961                   NaN             NaN              NaN     Clarity   \n509962                   NaN             NaN              NaN     Clarity   \n\n        Nitrogen Dioxide - Calibrated  Nitrogen Dioxide - Raw  \n0                            4.123432               -0.472099  \n1                           12.438928                1.582969  \n2                           25.850752              -16.697574  \n3                           13.446313               -0.003394  \n4                            8.055877                3.317820  \n...                               ...                     ...  \n509958                      65.780263               49.770931  \n509959                      43.535053               22.302955  \n509960                      37.855784               40.378503  \n509961                      38.955826               22.725816  \n509962                      54.636779               46.691405  \n\n[509963 rows x 42 columns]",
      "text/html": "<div>\n<style scoped>\n    .dataframe tbody tr th:only-of-type {\n        vertical-align: middle;\n    }\n\n    .dataframe tbody tr th {\n        vertical-align: top;\n    }\n\n    .dataframe thead th {\n        text-align: right;\n    }\n</style>\n<table border=\"1\" class=\"dataframe\">\n  <thead>\n    <tr style=\"text-align: right;\">\n      <th></th>\n      <th>Site ID</th>\n      <th>Longitude</th>\n      <th>Latitude</th>\n      <th>Location Type</th>\n      <th>Date</th>\n      <th>Average</th>\n      <th>VOC</th>\n      <th>VOC - Raw</th>\n      <th>Relative Humidity</th>\n      <th>Relative Humidity - Raw</th>\n      <th>Temperature</th>\n      <th>Temperature - Raw</th>\n      <th>Particulate Matter (2.5) Number Concentration</th>\n      <th>Particulate Matter (2.5) Number Concentration - Calibrated</th>\n      <th>Particulate Matter (2.5) Number Concentration - Raw</th>\n      <th>Particulate Matter (2.5) Mass Concentration</th>\n      <th>Particulate Matter (2.5) Mass Concentration - AQI</th>\n      <th>Particulate Matter (2.5) Mass Concentration - EPA NowCast</th>\n      <th>Particulate Matter (2.5) Mass Concentration - Calibrated</th>\n      <th>Particulate Matter (2.5) Mass Concentration - Raw</th>\n      <th>Particulate Matter (1) Number Concentration</th>\n      <th>Particulate Matter (1) Number Concentration - Calibrated</th>\n      <th>Particulate Matter (1) Number Concentration - Raw</th>\n      <th>Particulate Matter (1) Mass Concentration</th>\n      <th>Particulate Matter (1) Mass Concentration - Calibrated</th>\n      <th>Particulate Matter (1) Mass Concentration - Raw</th>\n      <th>Particulate Matter (10) Number Concentration</th>\n      <th>Particulate Matter (10) Number Concentration - Calibrated</th>\n      <th>Particulate Matter (10) Number Concentration - Raw</th>\n      <th>Particulate Matter (10) Mass Concentration</th>\n      <th>Particulate Matter (10) Mass Concentration - Calibrated</th>\n      <th>Particulate Matter (10) Mass Concentration - Raw</th>\n      <th>Nitrogen Dioxide</th>\n      <th>Nitrogen Dioxide - AQI</th>\n      <th>Carbon Dioxide</th>\n      <th>Carbon Dioxide - Calibrated</th>\n      <th>Carbon Dioxide - Raw</th>\n      <th>datasourceType</th>\n      <th>outputFrequency</th>\n      <th>Data Source</th>\n      <th>Nitrogen Dioxide - Calibrated</th>\n      <th>Nitrogen Dioxide - Raw</th>\n    </tr>\n  </thead>\n  <tbody>\n    <tr>\n      <th>0</th>\n      <td>AY3HFT4R</td>\n      <td>-117.261331</td>\n      <td>33.980781</td>\n      <td>Point</td>\n      <td>2020-09-30 11:57:55</td>\n      <td>Base</td>\n      <td>NaN</td>\n      <td>NaN</td>\n      <td>25.09</td>\n      <td>25.09</td>\n      <td>27.35</td>\n      <td>27.35</td>\n      <td>11.86</td>\n      <td>NaN</td>\n      <td>11.86</td>\n      <td>10.12</td>\n      <td>NaN</td>\n      <td>NaN</td>\n      <td>NaN</td>\n      <td>10.12</td>\n      <td>11.01</td>\n      <td>NaN</td>\n      <td>11.01</td>\n      <td>5.00</td>\n      <td>NaN</td>\n      <td>5.00</td>\n      <td>11.94</td>\n      <td>NaN</td>\n      <td>11.94</td>\n      <td>14.00</td>\n      <td>NaN</td>\n      <td>14.00</td>\n      <td>4.123432</td>\n      <td>NaN</td>\n      <td>NaN</td>\n      <td>NaN</td>\n      <td>NaN</td>\n      <td>NaN</td>\n      <td>NaN</td>\n      <td>Clarity</td>\n      <td>4.123432</td>\n      <td>-0.472099</td>\n    </tr>\n    <tr>\n      <th>1</th>\n      <td>ARHF78W6</td>\n      <td>-117.261331</td>\n      <td>33.980781</td>\n      <td>Point</td>\n      <td>2020-09-30 11:57:20</td>\n      <td>Base</td>\n      <td>NaN</td>\n      <td>NaN</td>\n      <td>26.62</td>\n      <td>26.62</td>\n      <td>26.43</td>\n      <td>26.43</td>\n      <td>10.59</td>\n      <td>NaN</td>\n      <td>10.59</td>\n      <td>8.20</td>\n      <td>NaN</td>\n      <td>NaN</td>\n      <td>NaN</td>\n      <td>8.20</td>\n      <td>10.04</td>\n      <td>NaN</td>\n      <td>10.04</td>\n      <td>4.59</td>\n      <td>NaN</td>\n      <td>4.59</td>\n      <td>10.70</td>\n      <td>NaN</td>\n      <td>10.70</td>\n      <td>11.06</td>\n      <td>NaN</td>\n      <td>11.06</td>\n      <td>12.438928</td>\n      <td>NaN</td>\n      <td>NaN</td>\n      <td>NaN</td>\n      <td>NaN</td>\n      <td>NaN</td>\n      <td>NaN</td>\n      <td>Clarity</td>\n      <td>12.438928</td>\n      <td>1.582969</td>\n    </tr>\n    <tr>\n      <th>2</th>\n      <td>A4T789S6</td>\n      <td>-117.261331</td>\n      <td>33.980781</td>\n      <td>Point</td>\n      <td>2020-09-30 11:57:11</td>\n      <td>Base</td>\n      <td>NaN</td>\n      <td>NaN</td>\n      <td>26.49</td>\n      <td>26.49</td>\n      <td>26.77</td>\n      <td>26.77</td>\n      <td>11.61</td>\n      <td>NaN</td>\n      <td>11.61</td>\n      <td>9.58</td>\n      <td>NaN</td>\n      <td>NaN</td>\n      <td>NaN</td>\n      <td>9.58</td>\n      <td>10.93</td>\n      <td>NaN</td>\n      <td>10.93</td>\n      <td>5.00</td>\n      <td>NaN</td>\n      <td>5.00</td>\n      <td>11.74</td>\n      <td>NaN</td>\n      <td>11.74</td>\n      <td>11.88</td>\n      <td>NaN</td>\n      <td>11.88</td>\n      <td>25.850752</td>\n      <td>NaN</td>\n      <td>NaN</td>\n      <td>NaN</td>\n      <td>NaN</td>\n      <td>NaN</td>\n      <td>NaN</td>\n      <td>Clarity</td>\n      <td>25.850752</td>\n      <td>-16.697574</td>\n    </tr>\n    <tr>\n      <th>3</th>\n      <td>AQ7GDKW8</td>\n      <td>-117.261331</td>\n      <td>33.980781</td>\n      <td>Point</td>\n      <td>2020-09-30 11:56:15</td>\n      <td>Base</td>\n      <td>NaN</td>\n      <td>NaN</td>\n      <td>27.30</td>\n      <td>27.30</td>\n      <td>26.74</td>\n      <td>26.74</td>\n      <td>13.48</td>\n      <td>NaN</td>\n      <td>13.48</td>\n      <td>10.55</td>\n      <td>NaN</td>\n      <td>NaN</td>\n      <td>NaN</td>\n      <td>10.55</td>\n      <td>12.80</td>\n      <td>NaN</td>\n      <td>12.80</td>\n      <td>6.00</td>\n      <td>NaN</td>\n      <td>6.00</td>\n      <td>13.59</td>\n      <td>NaN</td>\n      <td>13.59</td>\n      <td>12.17</td>\n      <td>NaN</td>\n      <td>12.17</td>\n      <td>13.446313</td>\n      <td>NaN</td>\n      <td>NaN</td>\n      <td>NaN</td>\n      <td>NaN</td>\n      <td>NaN</td>\n      <td>NaN</td>\n      <td>Clarity</td>\n      <td>13.446313</td>\n      <td>-0.003394</td>\n    </tr>\n    <tr>\n      <th>4</th>\n      <td>AGJ1PPLJ</td>\n      <td>-117.261331</td>\n      <td>33.980781</td>\n      <td>Point</td>\n      <td>2020-09-30 11:50:54</td>\n      <td>Base</td>\n      <td>NaN</td>\n      <td>NaN</td>\n      <td>28.44</td>\n      <td>28.44</td>\n      <td>26.73</td>\n      <td>26.73</td>\n      <td>12.39</td>\n      <td>NaN</td>\n      <td>12.39</td>\n      <td>10.31</td>\n      <td>NaN</td>\n      <td>NaN</td>\n      <td>NaN</td>\n      <td>10.31</td>\n      <td>11.80</td>\n      <td>NaN</td>\n      <td>11.80</td>\n      <td>5.58</td>\n      <td>NaN</td>\n      <td>5.58</td>\n      <td>12.50</td>\n      <td>NaN</td>\n      <td>12.50</td>\n      <td>11.08</td>\n      <td>NaN</td>\n      <td>11.08</td>\n      <td>8.055877</td>\n      <td>NaN</td>\n      <td>NaN</td>\n      <td>NaN</td>\n      <td>NaN</td>\n      <td>NaN</td>\n      <td>NaN</td>\n      <td>Clarity</td>\n      <td>8.055877</td>\n      <td>3.317820</td>\n    </tr>\n    <tr>\n      <th>...</th>\n      <td>...</td>\n      <td>...</td>\n      <td>...</td>\n      <td>...</td>\n      <td>...</td>\n      <td>...</td>\n      <td>...</td>\n      <td>...</td>\n      <td>...</td>\n      <td>...</td>\n      <td>...</td>\n      <td>...</td>\n      <td>...</td>\n      <td>...</td>\n      <td>...</td>\n      <td>...</td>\n      <td>...</td>\n      <td>...</td>\n      <td>...</td>\n      <td>...</td>\n      <td>...</td>\n      <td>...</td>\n      <td>...</td>\n      <td>...</td>\n      <td>...</td>\n      <td>...</td>\n      <td>...</td>\n      <td>...</td>\n      <td>...</td>\n      <td>...</td>\n      <td>...</td>\n      <td>...</td>\n      <td>...</td>\n      <td>...</td>\n      <td>...</td>\n      <td>...</td>\n      <td>...</td>\n      <td>...</td>\n      <td>...</td>\n      <td>...</td>\n      <td>...</td>\n      <td>...</td>\n    </tr>\n    <tr>\n      <th>509958</th>\n      <td>AY3HFT4R</td>\n      <td>-117.339897</td>\n      <td>33.975591</td>\n      <td>Point</td>\n      <td>2021-12-02 12:02:27</td>\n      <td>Base</td>\n      <td>NaN</td>\n      <td>NaN</td>\n      <td>40.57</td>\n      <td>40.57</td>\n      <td>12.74</td>\n      <td>12.74</td>\n      <td>17.00</td>\n      <td>NaN</td>\n      <td>17.00</td>\n      <td>21.03</td>\n      <td>NaN</td>\n      <td>NaN</td>\n      <td>21.03</td>\n      <td>17.78</td>\n      <td>15.80</td>\n      <td>NaN</td>\n      <td>15.80</td>\n      <td>7.78</td>\n      <td>NaN</td>\n      <td>7.78</td>\n      <td>17.33</td>\n      <td>NaN</td>\n      <td>17.33</td>\n      <td>31.55</td>\n      <td>NaN</td>\n      <td>31.55</td>\n      <td>65.780263</td>\n      <td>NaN</td>\n      <td>NaN</td>\n      <td>NaN</td>\n      <td>NaN</td>\n      <td>NaN</td>\n      <td>NaN</td>\n      <td>Clarity</td>\n      <td>65.780263</td>\n      <td>49.770931</td>\n    </tr>\n    <tr>\n      <th>509959</th>\n      <td>AQ7GDKW8</td>\n      <td>-117.617220</td>\n      <td>34.030830</td>\n      <td>Point</td>\n      <td>2021-12-02 12:01:06</td>\n      <td>Base</td>\n      <td>NaN</td>\n      <td>NaN</td>\n      <td>21.06</td>\n      <td>21.06</td>\n      <td>23.46</td>\n      <td>23.46</td>\n      <td>7.28</td>\n      <td>NaN</td>\n      <td>7.28</td>\n      <td>10.45</td>\n      <td>NaN</td>\n      <td>NaN</td>\n      <td>10.45</td>\n      <td>6.23</td>\n      <td>6.90</td>\n      <td>NaN</td>\n      <td>6.90</td>\n      <td>2.81</td>\n      <td>NaN</td>\n      <td>2.81</td>\n      <td>7.34</td>\n      <td>NaN</td>\n      <td>7.34</td>\n      <td>7.08</td>\n      <td>NaN</td>\n      <td>7.08</td>\n      <td>43.535053</td>\n      <td>NaN</td>\n      <td>NaN</td>\n      <td>NaN</td>\n      <td>NaN</td>\n      <td>NaN</td>\n      <td>NaN</td>\n      <td>Clarity</td>\n      <td>43.535053</td>\n      <td>22.302955</td>\n    </tr>\n    <tr>\n      <th>509960</th>\n      <td>A4T789S6</td>\n      <td>-117.344182</td>\n      <td>33.975624</td>\n      <td>Point</td>\n      <td>2021-12-02 12:01:02</td>\n      <td>Base</td>\n      <td>NaN</td>\n      <td>NaN</td>\n      <td>43.77</td>\n      <td>43.77</td>\n      <td>11.96</td>\n      <td>11.96</td>\n      <td>19.31</td>\n      <td>NaN</td>\n      <td>19.31</td>\n      <td>17.77</td>\n      <td>NaN</td>\n      <td>NaN</td>\n      <td>17.77</td>\n      <td>19.27</td>\n      <td>17.94</td>\n      <td>NaN</td>\n      <td>17.94</td>\n      <td>10.23</td>\n      <td>NaN</td>\n      <td>10.23</td>\n      <td>19.50</td>\n      <td>NaN</td>\n      <td>19.50</td>\n      <td>24.65</td>\n      <td>NaN</td>\n      <td>24.65</td>\n      <td>37.855784</td>\n      <td>NaN</td>\n      <td>NaN</td>\n      <td>NaN</td>\n      <td>NaN</td>\n      <td>NaN</td>\n      <td>NaN</td>\n      <td>Clarity</td>\n      <td>37.855784</td>\n      <td>40.378503</td>\n    </tr>\n    <tr>\n      <th>509961</th>\n      <td>AXD4VGR2</td>\n      <td>-117.617220</td>\n      <td>34.030830</td>\n      <td>Point</td>\n      <td>2021-12-02 12:00:59</td>\n      <td>Base</td>\n      <td>NaN</td>\n      <td>NaN</td>\n      <td>21.02</td>\n      <td>21.02</td>\n      <td>23.40</td>\n      <td>23.40</td>\n      <td>6.39</td>\n      <td>NaN</td>\n      <td>6.39</td>\n      <td>9.48</td>\n      <td>NaN</td>\n      <td>NaN</td>\n      <td>9.48</td>\n      <td>3.00</td>\n      <td>6.06</td>\n      <td>NaN</td>\n      <td>6.06</td>\n      <td>1.61</td>\n      <td>NaN</td>\n      <td>1.61</td>\n      <td>6.39</td>\n      <td>NaN</td>\n      <td>6.39</td>\n      <td>7.85</td>\n      <td>NaN</td>\n      <td>7.85</td>\n      <td>38.955826</td>\n      <td>NaN</td>\n      <td>NaN</td>\n      <td>NaN</td>\n      <td>NaN</td>\n      <td>NaN</td>\n      <td>NaN</td>\n      <td>Clarity</td>\n      <td>38.955826</td>\n      <td>22.725816</td>\n    </tr>\n    <tr>\n      <th>509962</th>\n      <td>AGJ1PPLJ</td>\n      <td>-117.348524</td>\n      <td>33.975566</td>\n      <td>Point</td>\n      <td>2021-12-02 12:00:53</td>\n      <td>Base</td>\n      <td>NaN</td>\n      <td>NaN</td>\n      <td>43.94</td>\n      <td>43.94</td>\n      <td>12.17</td>\n      <td>12.17</td>\n      <td>16.69</td>\n      <td>NaN</td>\n      <td>16.69</td>\n      <td>17.76</td>\n      <td>NaN</td>\n      <td>NaN</td>\n      <td>17.76</td>\n      <td>15.81</td>\n      <td>15.84</td>\n      <td>NaN</td>\n      <td>15.84</td>\n      <td>8.38</td>\n      <td>NaN</td>\n      <td>8.38</td>\n      <td>16.92</td>\n      <td>NaN</td>\n      <td>16.92</td>\n      <td>21.88</td>\n      <td>NaN</td>\n      <td>21.88</td>\n      <td>54.636779</td>\n      <td>NaN</td>\n      <td>NaN</td>\n      <td>NaN</td>\n      <td>NaN</td>\n      <td>NaN</td>\n      <td>NaN</td>\n      <td>Clarity</td>\n      <td>54.636779</td>\n      <td>46.691405</td>\n    </tr>\n  </tbody>\n</table>\n<p>509963 rows × 42 columns</p>\n</div>"
     },
     "execution_count": 55,
     "metadata": {},
     "output_type": "execute_result"
    }
   ],
   "source": [
    "historical_clarity_no2 = pd.read_csv(fpath_no2)\n",
    "historical_clarity_no2.info()\n",
    "historical_clarity_no2"
   ],
   "metadata": {
    "collapsed": false,
    "pycharm": {
     "name": "#%%\n"
    }
   }
  },
  {
   "cell_type": "code",
   "execution_count": 56,
   "outputs": [
    {
     "data": {
      "text/plain": "                             Sensor Name   Site ID  Nitrogen Dioxide\ndatetime-America/Los_Angeles                                        \n2020-09-30 04:57:55-07:00           Iowa  AY3HFT4R          4.123432\n2020-09-30 04:57:20-07:00       Magnolia  ARHF78W6         12.438928\n2020-09-30 04:57:11-07:00       Cranford  A4T789S6         25.850752\n2020-09-30 04:50:54-07:00        Chicago  AGJ1PPLJ          8.055877\n2020-09-30 04:40:45-07:00           Iowa  AY3HFT4R          5.536795\n...                                  ...       ...               ...\n2021-12-02 04:04:29-08:00        Chicago  AGJ1PPLJ         50.801184\n2021-12-02 04:02:54-08:00       Magnolia  ARHF78W6         42.141093\n2021-12-02 04:02:27-08:00           Iowa  AY3HFT4R         65.780263\n2021-12-02 04:01:02-08:00       Cranford  A4T789S6         37.855784\n2021-12-02 04:00:53-08:00        Chicago  AGJ1PPLJ         54.636779\n\n[347254 rows x 3 columns]",
      "text/html": "<div>\n<style scoped>\n    .dataframe tbody tr th:only-of-type {\n        vertical-align: middle;\n    }\n\n    .dataframe tbody tr th {\n        vertical-align: top;\n    }\n\n    .dataframe thead th {\n        text-align: right;\n    }\n</style>\n<table border=\"1\" class=\"dataframe\">\n  <thead>\n    <tr style=\"text-align: right;\">\n      <th></th>\n      <th>Sensor Name</th>\n      <th>Site ID</th>\n      <th>Nitrogen Dioxide</th>\n    </tr>\n    <tr>\n      <th>datetime-America/Los_Angeles</th>\n      <th></th>\n      <th></th>\n      <th></th>\n    </tr>\n  </thead>\n  <tbody>\n    <tr>\n      <th>2020-09-30 04:57:55-07:00</th>\n      <td>Iowa</td>\n      <td>AY3HFT4R</td>\n      <td>4.123432</td>\n    </tr>\n    <tr>\n      <th>2020-09-30 04:57:20-07:00</th>\n      <td>Magnolia</td>\n      <td>ARHF78W6</td>\n      <td>12.438928</td>\n    </tr>\n    <tr>\n      <th>2020-09-30 04:57:11-07:00</th>\n      <td>Cranford</td>\n      <td>A4T789S6</td>\n      <td>25.850752</td>\n    </tr>\n    <tr>\n      <th>2020-09-30 04:50:54-07:00</th>\n      <td>Chicago</td>\n      <td>AGJ1PPLJ</td>\n      <td>8.055877</td>\n    </tr>\n    <tr>\n      <th>2020-09-30 04:40:45-07:00</th>\n      <td>Iowa</td>\n      <td>AY3HFT4R</td>\n      <td>5.536795</td>\n    </tr>\n    <tr>\n      <th>...</th>\n      <td>...</td>\n      <td>...</td>\n      <td>...</td>\n    </tr>\n    <tr>\n      <th>2021-12-02 04:04:29-08:00</th>\n      <td>Chicago</td>\n      <td>AGJ1PPLJ</td>\n      <td>50.801184</td>\n    </tr>\n    <tr>\n      <th>2021-12-02 04:02:54-08:00</th>\n      <td>Magnolia</td>\n      <td>ARHF78W6</td>\n      <td>42.141093</td>\n    </tr>\n    <tr>\n      <th>2021-12-02 04:02:27-08:00</th>\n      <td>Iowa</td>\n      <td>AY3HFT4R</td>\n      <td>65.780263</td>\n    </tr>\n    <tr>\n      <th>2021-12-02 04:01:02-08:00</th>\n      <td>Cranford</td>\n      <td>A4T789S6</td>\n      <td>37.855784</td>\n    </tr>\n    <tr>\n      <th>2021-12-02 04:00:53-08:00</th>\n      <td>Chicago</td>\n      <td>AGJ1PPLJ</td>\n      <td>54.636779</td>\n    </tr>\n  </tbody>\n</table>\n<p>347254 rows × 3 columns</p>\n</div>"
     },
     "execution_count": 56,
     "metadata": {},
     "output_type": "execute_result"
    }
   ],
   "source": [
    "historical_clarity_no2 = ic.historical_no2(historical_clarity_no2)\n",
    "clarity_no2_data = historical_clarity_no2.get_data()\n",
    "clarity_no2_data"
   ],
   "metadata": {
    "collapsed": false,
    "pycharm": {
     "name": "#%%\n"
    }
   }
  },
  {
   "cell_type": "markdown",
   "source": [
    "***\n",
    ">> ### __Interpolating NO2 Data__\n",
    "Method: Resampling to 15 Minute intervals with linear interpolation\n",
    "***"
   ],
   "metadata": {
    "collapsed": false,
    "pycharm": {
     "name": "#%% md\n"
    }
   }
  },
  {
   "cell_type": "code",
   "execution_count": 65,
   "outputs": [
    {
     "name": "stdout",
     "output_type": "stream",
     "text": [
      "<class 'pandas.core.frame.DataFrame'>\n",
      "DatetimeIndex: 164114 entries, 2020-10-06 04:30:00-07:00 to 2021-12-02 15:45:00-08:00\n",
      "Data columns (total 3 columns):\n",
      " #   Column            Non-Null Count   Dtype  \n",
      "---  ------            --------------   -----  \n",
      " 0   Sensor Name       164114 non-null  object \n",
      " 1   Site ID           164114 non-null  object \n",
      " 2   Nitrogen Dioxide  164114 non-null  float64\n",
      "dtypes: float64(1), object(2)\n",
      "memory usage: 5.0+ MB\n"
     ]
    },
    {
     "data": {
      "text/plain": "                             Sensor Name   Site ID  Nitrogen Dioxide\ndatetime-America/Los_Angeles                                        \n2020-10-06 04:30:00-07:00        Chicago  AGJ1PPLJ         12.642770\n2020-10-06 04:45:00-07:00        Chicago  AGJ1PPLJ         12.641437\n2020-10-06 05:00:00-07:00        Chicago  AGJ1PPLJ         12.640103\n2020-10-06 05:15:00-07:00        Chicago  AGJ1PPLJ         12.638770\n2020-10-06 05:30:00-07:00        Chicago  AGJ1PPLJ         12.637437\n...                                  ...       ...               ...\n2021-12-02 14:45:00-08:00       Magnolia  ARHF78W6         72.918292\n2021-12-02 15:00:00-08:00       Magnolia  ARHF78W6         72.918292\n2021-12-02 15:15:00-08:00       Magnolia  ARHF78W6         72.918292\n2021-12-02 15:30:00-08:00       Magnolia  ARHF78W6         72.918292\n2021-12-02 15:45:00-08:00       Magnolia  ARHF78W6         72.918292\n\n[164114 rows x 3 columns]",
      "text/html": "<div>\n<style scoped>\n    .dataframe tbody tr th:only-of-type {\n        vertical-align: middle;\n    }\n\n    .dataframe tbody tr th {\n        vertical-align: top;\n    }\n\n    .dataframe thead th {\n        text-align: right;\n    }\n</style>\n<table border=\"1\" class=\"dataframe\">\n  <thead>\n    <tr style=\"text-align: right;\">\n      <th></th>\n      <th>Sensor Name</th>\n      <th>Site ID</th>\n      <th>Nitrogen Dioxide</th>\n    </tr>\n    <tr>\n      <th>datetime-America/Los_Angeles</th>\n      <th></th>\n      <th></th>\n      <th></th>\n    </tr>\n  </thead>\n  <tbody>\n    <tr>\n      <th>2020-10-06 04:30:00-07:00</th>\n      <td>Chicago</td>\n      <td>AGJ1PPLJ</td>\n      <td>12.642770</td>\n    </tr>\n    <tr>\n      <th>2020-10-06 04:45:00-07:00</th>\n      <td>Chicago</td>\n      <td>AGJ1PPLJ</td>\n      <td>12.641437</td>\n    </tr>\n    <tr>\n      <th>2020-10-06 05:00:00-07:00</th>\n      <td>Chicago</td>\n      <td>AGJ1PPLJ</td>\n      <td>12.640103</td>\n    </tr>\n    <tr>\n      <th>2020-10-06 05:15:00-07:00</th>\n      <td>Chicago</td>\n      <td>AGJ1PPLJ</td>\n      <td>12.638770</td>\n    </tr>\n    <tr>\n      <th>2020-10-06 05:30:00-07:00</th>\n      <td>Chicago</td>\n      <td>AGJ1PPLJ</td>\n      <td>12.637437</td>\n    </tr>\n    <tr>\n      <th>...</th>\n      <td>...</td>\n      <td>...</td>\n      <td>...</td>\n    </tr>\n    <tr>\n      <th>2021-12-02 14:45:00-08:00</th>\n      <td>Magnolia</td>\n      <td>ARHF78W6</td>\n      <td>72.918292</td>\n    </tr>\n    <tr>\n      <th>2021-12-02 15:00:00-08:00</th>\n      <td>Magnolia</td>\n      <td>ARHF78W6</td>\n      <td>72.918292</td>\n    </tr>\n    <tr>\n      <th>2021-12-02 15:15:00-08:00</th>\n      <td>Magnolia</td>\n      <td>ARHF78W6</td>\n      <td>72.918292</td>\n    </tr>\n    <tr>\n      <th>2021-12-02 15:30:00-08:00</th>\n      <td>Magnolia</td>\n      <td>ARHF78W6</td>\n      <td>72.918292</td>\n    </tr>\n    <tr>\n      <th>2021-12-02 15:45:00-08:00</th>\n      <td>Magnolia</td>\n      <td>ARHF78W6</td>\n      <td>72.918292</td>\n    </tr>\n  </tbody>\n</table>\n<p>164114 rows × 3 columns</p>\n</div>"
     },
     "execution_count": 65,
     "metadata": {},
     "output_type": "execute_result"
    }
   ],
   "source": [
    "no2_grouping = ['Sensor Name', 'Site ID']\n",
    "clarity_no2_interp = clarity_no2_data.groupby(no2_grouping, as_index=True).resample('15T').interpolate('linear').drop(\n",
    "    no2_grouping, axis=1).reset_index(drop=False).dropna()\n",
    "clarity_no2_interp.info()\n",
    "clarity_no2_interp"
   ],
   "metadata": {
    "collapsed": false,
    "pycharm": {
     "name": "#%%\n"
    }
   }
  },
  {
   "cell_type": "code",
   "execution_count": 66,
   "outputs": [
    {
     "name": "stdout",
     "output_type": "stream",
     "text": [
      "<class 'pandas.core.frame.DataFrame'>\n",
      "DatetimeIndex: 41184 entries, 2020-09-29 17:00:00-07:00 to 2021-12-02 15:45:00-08:00\n",
      "Data columns (total 4 columns):\n",
      " #   Column        Non-Null Count  Dtype  \n",
      "---  ------        --------------  -----  \n",
      " 0   Chicago NO2   40562 non-null  float64\n",
      " 1   Cranford NO2  41184 non-null  float64\n",
      " 2   Iowa NO2      41184 non-null  float64\n",
      " 3   Magnolia NO2  41184 non-null  float64\n",
      "dtypes: float64(4)\n",
      "memory usage: 1.6 MB\n"
     ]
    },
    {
     "data": {
      "text/plain": "Sensor Name                   Chicago NO2  Cranford NO2    Iowa NO2  \\\ndatetime-America/Los_Angeles                                          \n2020-09-29 17:00:00-07:00             NaN     37.685778  107.463278   \n2020-09-29 17:15:00-07:00             NaN     37.683551  107.407847   \n2020-09-29 17:30:00-07:00             NaN     37.681324  107.352416   \n2020-09-29 17:45:00-07:00             NaN     37.679097  107.296986   \n2020-09-29 18:00:00-07:00             NaN     37.676870  107.241555   \n...                                   ...           ...         ...   \n2021-12-02 14:45:00-08:00       37.696914    107.740431   65.623790   \n2021-12-02 15:00:00-08:00       37.694687    107.685001   65.603243   \n2021-12-02 15:15:00-08:00       37.692460    107.629570   65.582697   \n2021-12-02 15:30:00-08:00       37.690232    107.574139   65.562151   \n2021-12-02 15:45:00-08:00       37.688005    107.518708   65.541604   \n\nSensor Name                   Magnolia NO2  \ndatetime-America/Los_Angeles                \n2020-09-29 17:00:00-07:00        65.521058  \n2020-09-29 17:15:00-07:00        65.500511  \n2020-09-29 17:30:00-07:00        65.479965  \n2020-09-29 17:45:00-07:00        65.459418  \n2020-09-29 18:00:00-07:00        65.438872  \n...                                    ...  \n2021-12-02 14:45:00-08:00        72.918292  \n2021-12-02 15:00:00-08:00        72.918292  \n2021-12-02 15:15:00-08:00        72.918292  \n2021-12-02 15:30:00-08:00        72.918292  \n2021-12-02 15:45:00-08:00        72.918292  \n\n[41184 rows x 4 columns]",
      "text/html": "<div>\n<style scoped>\n    .dataframe tbody tr th:only-of-type {\n        vertical-align: middle;\n    }\n\n    .dataframe tbody tr th {\n        vertical-align: top;\n    }\n\n    .dataframe thead th {\n        text-align: right;\n    }\n</style>\n<table border=\"1\" class=\"dataframe\">\n  <thead>\n    <tr style=\"text-align: right;\">\n      <th>Sensor Name</th>\n      <th>Chicago NO2</th>\n      <th>Cranford NO2</th>\n      <th>Iowa NO2</th>\n      <th>Magnolia NO2</th>\n    </tr>\n    <tr>\n      <th>datetime-America/Los_Angeles</th>\n      <th></th>\n      <th></th>\n      <th></th>\n      <th></th>\n    </tr>\n  </thead>\n  <tbody>\n    <tr>\n      <th>2020-09-29 17:00:00-07:00</th>\n      <td>NaN</td>\n      <td>37.685778</td>\n      <td>107.463278</td>\n      <td>65.521058</td>\n    </tr>\n    <tr>\n      <th>2020-09-29 17:15:00-07:00</th>\n      <td>NaN</td>\n      <td>37.683551</td>\n      <td>107.407847</td>\n      <td>65.500511</td>\n    </tr>\n    <tr>\n      <th>2020-09-29 17:30:00-07:00</th>\n      <td>NaN</td>\n      <td>37.681324</td>\n      <td>107.352416</td>\n      <td>65.479965</td>\n    </tr>\n    <tr>\n      <th>2020-09-29 17:45:00-07:00</th>\n      <td>NaN</td>\n      <td>37.679097</td>\n      <td>107.296986</td>\n      <td>65.459418</td>\n    </tr>\n    <tr>\n      <th>2020-09-29 18:00:00-07:00</th>\n      <td>NaN</td>\n      <td>37.676870</td>\n      <td>107.241555</td>\n      <td>65.438872</td>\n    </tr>\n    <tr>\n      <th>...</th>\n      <td>...</td>\n      <td>...</td>\n      <td>...</td>\n      <td>...</td>\n    </tr>\n    <tr>\n      <th>2021-12-02 14:45:00-08:00</th>\n      <td>37.696914</td>\n      <td>107.740431</td>\n      <td>65.623790</td>\n      <td>72.918292</td>\n    </tr>\n    <tr>\n      <th>2021-12-02 15:00:00-08:00</th>\n      <td>37.694687</td>\n      <td>107.685001</td>\n      <td>65.603243</td>\n      <td>72.918292</td>\n    </tr>\n    <tr>\n      <th>2021-12-02 15:15:00-08:00</th>\n      <td>37.692460</td>\n      <td>107.629570</td>\n      <td>65.582697</td>\n      <td>72.918292</td>\n    </tr>\n    <tr>\n      <th>2021-12-02 15:30:00-08:00</th>\n      <td>37.690232</td>\n      <td>107.574139</td>\n      <td>65.562151</td>\n      <td>72.918292</td>\n    </tr>\n    <tr>\n      <th>2021-12-02 15:45:00-08:00</th>\n      <td>37.688005</td>\n      <td>107.518708</td>\n      <td>65.541604</td>\n      <td>72.918292</td>\n    </tr>\n  </tbody>\n</table>\n<p>41184 rows × 4 columns</p>\n</div>"
     },
     "execution_count": 66,
     "metadata": {},
     "output_type": "execute_result"
    }
   ],
   "source": [
    "no2_pivot = pd.pivot_table(clarity_no2_interp,\n",
    "                           values='Nitrogen Dioxide',\n",
    "                           index='datetime-America/Los_Angeles',\n",
    "                           columns='Sensor Name')\n",
    "no2_pivot.rename(columns={\n",
    "    'Chicago' : 'Chicago NO2',\n",
    "    'Cranford': 'Cranford NO2',\n",
    "    'Iowa'    : 'Iowa NO2',\n",
    "    'Magnolia': 'Magnolia NO2'\n",
    "}, inplace=True)\n",
    "if SAVE_TABLES:\n",
    "    no2_pivot.to_csv('../data/clarity_data/no2_readings.csv')\n",
    "no2_pivot.info()\n",
    "no2_pivot"
   ],
   "metadata": {
    "collapsed": false,
    "pycharm": {
     "name": "#%%\n"
    }
   }
  },
  {
   "cell_type": "markdown",
   "source": [
    "***\n",
    "# __Meteorological Data__\n",
    "***"
   ],
   "metadata": {
    "collapsed": false,
    "pycharm": {
     "name": "#%% md\n"
    }
   }
  },
  {
   "cell_type": "markdown",
   "source": [
    "***\n",
    "> ## __Weather Data__\n",
    "***"
   ],
   "metadata": {
    "collapsed": false,
    "pycharm": {
     "name": "#%% md\n"
    }
   }
  },
  {
   "cell_type": "code",
   "execution_count": 23,
   "outputs": [
    {
     "name": "stdout",
     "output_type": "stream",
     "text": [
      "<class 'pandas.core.frame.DataFrame'>\n",
      "DatetimeIndex: 10145 entries, 2020-08-31 17:00:00-07:00 to 2021-10-22 16:00:00-07:00\n",
      "Data columns (total 5 columns):\n",
      " #   Column      Non-Null Count  Dtype  \n",
      "---  ------      --------------  -----  \n",
      " 0   temp        10145 non-null  float64\n",
      " 1   pressure    10145 non-null  int64  \n",
      " 2   humidity    10145 non-null  int64  \n",
      " 3   wind_speed  10145 non-null  float64\n",
      " 4   wind_deg    10145 non-null  int64  \n",
      "dtypes: float64(2), int64(3)\n",
      "memory usage: 475.5 KB\n"
     ]
    },
    {
     "data": {
      "text/plain": "                               temp  pressure  humidity  wind_speed  wind_deg\ndatetime-America/Los_Angeles                                                 \n2020-08-31 17:00:00-07:00     31.07      1009        40        2.24       220\n2020-08-31 18:00:00-07:00     28.35      1009        45        2.24       233\n2020-08-31 19:00:00-07:00     24.96      1010        54        1.34       219\n2020-08-31 20:00:00-07:00     22.89      1011        62        0.89       186\n2020-08-31 21:00:00-07:00     21.48      1012        65        1.34       170\n...                             ...       ...       ...         ...       ...\n2021-10-22 12:00:00-07:00     22.62      1016        42        1.34       277\n2021-10-22 13:00:00-07:00     24.08      1015        37        1.79       224\n2021-10-22 14:00:00-07:00     23.92      1014        40        2.24       260\n2021-10-22 15:00:00-07:00     23.89      1014        42        2.68       274\n2021-10-22 16:00:00-07:00     23.79      1013        41        2.24       219\n\n[10145 rows x 5 columns]",
      "text/html": "<div>\n<style scoped>\n    .dataframe tbody tr th:only-of-type {\n        vertical-align: middle;\n    }\n\n    .dataframe tbody tr th {\n        vertical-align: top;\n    }\n\n    .dataframe thead th {\n        text-align: right;\n    }\n</style>\n<table border=\"1\" class=\"dataframe\">\n  <thead>\n    <tr style=\"text-align: right;\">\n      <th></th>\n      <th>temp</th>\n      <th>pressure</th>\n      <th>humidity</th>\n      <th>wind_speed</th>\n      <th>wind_deg</th>\n    </tr>\n    <tr>\n      <th>datetime-America/Los_Angeles</th>\n      <th></th>\n      <th></th>\n      <th></th>\n      <th></th>\n      <th></th>\n    </tr>\n  </thead>\n  <tbody>\n    <tr>\n      <th>2020-08-31 17:00:00-07:00</th>\n      <td>31.07</td>\n      <td>1009</td>\n      <td>40</td>\n      <td>2.24</td>\n      <td>220</td>\n    </tr>\n    <tr>\n      <th>2020-08-31 18:00:00-07:00</th>\n      <td>28.35</td>\n      <td>1009</td>\n      <td>45</td>\n      <td>2.24</td>\n      <td>233</td>\n    </tr>\n    <tr>\n      <th>2020-08-31 19:00:00-07:00</th>\n      <td>24.96</td>\n      <td>1010</td>\n      <td>54</td>\n      <td>1.34</td>\n      <td>219</td>\n    </tr>\n    <tr>\n      <th>2020-08-31 20:00:00-07:00</th>\n      <td>22.89</td>\n      <td>1011</td>\n      <td>62</td>\n      <td>0.89</td>\n      <td>186</td>\n    </tr>\n    <tr>\n      <th>2020-08-31 21:00:00-07:00</th>\n      <td>21.48</td>\n      <td>1012</td>\n      <td>65</td>\n      <td>1.34</td>\n      <td>170</td>\n    </tr>\n    <tr>\n      <th>...</th>\n      <td>...</td>\n      <td>...</td>\n      <td>...</td>\n      <td>...</td>\n      <td>...</td>\n    </tr>\n    <tr>\n      <th>2021-10-22 12:00:00-07:00</th>\n      <td>22.62</td>\n      <td>1016</td>\n      <td>42</td>\n      <td>1.34</td>\n      <td>277</td>\n    </tr>\n    <tr>\n      <th>2021-10-22 13:00:00-07:00</th>\n      <td>24.08</td>\n      <td>1015</td>\n      <td>37</td>\n      <td>1.79</td>\n      <td>224</td>\n    </tr>\n    <tr>\n      <th>2021-10-22 14:00:00-07:00</th>\n      <td>23.92</td>\n      <td>1014</td>\n      <td>40</td>\n      <td>2.24</td>\n      <td>260</td>\n    </tr>\n    <tr>\n      <th>2021-10-22 15:00:00-07:00</th>\n      <td>23.89</td>\n      <td>1014</td>\n      <td>42</td>\n      <td>2.68</td>\n      <td>274</td>\n    </tr>\n    <tr>\n      <th>2021-10-22 16:00:00-07:00</th>\n      <td>23.79</td>\n      <td>1013</td>\n      <td>41</td>\n      <td>2.24</td>\n      <td>219</td>\n    </tr>\n  </tbody>\n</table>\n<p>10145 rows × 5 columns</p>\n</div>"
     },
     "execution_count": 23,
     "metadata": {},
     "output_type": "execute_result"
    }
   ],
   "source": [
    "openWeather = pd.read_csv(fPath_weatherData)\n",
    "openWeather = ic.OpenWeather(openWeather)\n",
    "openWeather_data = openWeather.get_data()\n",
    "\n",
    "openWeather_data.info()\n",
    "openWeather_data.head(len(openWeather_data))"
   ],
   "metadata": {
    "collapsed": false,
    "pycharm": {
     "name": "#%%\n"
    }
   }
  },
  {
   "cell_type": "code",
   "execution_count": 24,
   "outputs": [
    {
     "name": "stdout",
     "output_type": "stream",
     "text": [
      "<class 'pandas.core.frame.DataFrame'>\n",
      "DatetimeIndex: 40029 entries, 2020-08-31 17:00:00-07:00 to 2021-10-22 16:00:00-07:00\n",
      "Freq: 15T\n",
      "Data columns (total 5 columns):\n",
      " #   Column      Non-Null Count  Dtype  \n",
      "---  ------      --------------  -----  \n",
      " 0   temp        40029 non-null  float64\n",
      " 1   pressure    40029 non-null  int64  \n",
      " 2   humidity    40029 non-null  int64  \n",
      " 3   wind_speed  40029 non-null  float64\n",
      " 4   wind_deg    40029 non-null  int64  \n",
      "dtypes: float64(2), int64(3)\n",
      "memory usage: 1.8 MB\n"
     ]
    },
    {
     "data": {
      "text/plain": "                               temp  pressure  humidity  wind_speed  wind_deg\ndatetime-America/Los_Angeles                                                 \n2020-08-31 17:00:00-07:00     31.07      1009        40        2.24       220\n2020-08-31 17:15:00-07:00     31.07      1009        40        2.24       220\n2020-08-31 17:30:00-07:00     31.07      1009        40        2.24       220\n2020-08-31 17:45:00-07:00     31.07      1009        40        2.24       220\n2020-08-31 18:00:00-07:00     28.35      1009        45        2.24       233\n...                             ...       ...       ...         ...       ...\n2020-12-15 07:00:00-08:00      8.42      1023        52        0.45       317\n2020-12-15 07:15:00-08:00      8.42      1023        52        0.45       317\n2020-12-15 07:30:00-08:00      8.42      1023        52        0.45       317\n2020-12-15 07:45:00-08:00      8.42      1023        52        0.45       317\n2020-12-15 08:00:00-08:00     11.98      1024        38        0.45        12\n\n[10145 rows x 5 columns]",
      "text/html": "<div>\n<style scoped>\n    .dataframe tbody tr th:only-of-type {\n        vertical-align: middle;\n    }\n\n    .dataframe tbody tr th {\n        vertical-align: top;\n    }\n\n    .dataframe thead th {\n        text-align: right;\n    }\n</style>\n<table border=\"1\" class=\"dataframe\">\n  <thead>\n    <tr style=\"text-align: right;\">\n      <th></th>\n      <th>temp</th>\n      <th>pressure</th>\n      <th>humidity</th>\n      <th>wind_speed</th>\n      <th>wind_deg</th>\n    </tr>\n    <tr>\n      <th>datetime-America/Los_Angeles</th>\n      <th></th>\n      <th></th>\n      <th></th>\n      <th></th>\n      <th></th>\n    </tr>\n  </thead>\n  <tbody>\n    <tr>\n      <th>2020-08-31 17:00:00-07:00</th>\n      <td>31.07</td>\n      <td>1009</td>\n      <td>40</td>\n      <td>2.24</td>\n      <td>220</td>\n    </tr>\n    <tr>\n      <th>2020-08-31 17:15:00-07:00</th>\n      <td>31.07</td>\n      <td>1009</td>\n      <td>40</td>\n      <td>2.24</td>\n      <td>220</td>\n    </tr>\n    <tr>\n      <th>2020-08-31 17:30:00-07:00</th>\n      <td>31.07</td>\n      <td>1009</td>\n      <td>40</td>\n      <td>2.24</td>\n      <td>220</td>\n    </tr>\n    <tr>\n      <th>2020-08-31 17:45:00-07:00</th>\n      <td>31.07</td>\n      <td>1009</td>\n      <td>40</td>\n      <td>2.24</td>\n      <td>220</td>\n    </tr>\n    <tr>\n      <th>2020-08-31 18:00:00-07:00</th>\n      <td>28.35</td>\n      <td>1009</td>\n      <td>45</td>\n      <td>2.24</td>\n      <td>233</td>\n    </tr>\n    <tr>\n      <th>...</th>\n      <td>...</td>\n      <td>...</td>\n      <td>...</td>\n      <td>...</td>\n      <td>...</td>\n    </tr>\n    <tr>\n      <th>2020-12-15 07:00:00-08:00</th>\n      <td>8.42</td>\n      <td>1023</td>\n      <td>52</td>\n      <td>0.45</td>\n      <td>317</td>\n    </tr>\n    <tr>\n      <th>2020-12-15 07:15:00-08:00</th>\n      <td>8.42</td>\n      <td>1023</td>\n      <td>52</td>\n      <td>0.45</td>\n      <td>317</td>\n    </tr>\n    <tr>\n      <th>2020-12-15 07:30:00-08:00</th>\n      <td>8.42</td>\n      <td>1023</td>\n      <td>52</td>\n      <td>0.45</td>\n      <td>317</td>\n    </tr>\n    <tr>\n      <th>2020-12-15 07:45:00-08:00</th>\n      <td>8.42</td>\n      <td>1023</td>\n      <td>52</td>\n      <td>0.45</td>\n      <td>317</td>\n    </tr>\n    <tr>\n      <th>2020-12-15 08:00:00-08:00</th>\n      <td>11.98</td>\n      <td>1024</td>\n      <td>38</td>\n      <td>0.45</td>\n      <td>12</td>\n    </tr>\n  </tbody>\n</table>\n<p>10145 rows × 5 columns</p>\n</div>"
     },
     "execution_count": 24,
     "metadata": {},
     "output_type": "execute_result"
    }
   ],
   "source": [
    "openWeather_data_interp = openWeather_data[~openWeather_data.index.duplicated()].resample('15T').ffill()\n",
    "openWeather_data_interp = openWeather_data_interp[~openWeather_data_interp.index.duplicated()]\n",
    "if SAVE_TABLES:\n",
    "    openWeather_data_interp.to_csv('../data/weather_data/OpenWeather_15min.csv')\n",
    "\n",
    "openWeather_data_interp.info()\n",
    "openWeather_data_interp.head(len(openWeather_data))"
   ],
   "metadata": {
    "collapsed": false,
    "pycharm": {
     "name": "#%%\n"
    }
   }
  },
  {
   "cell_type": "markdown",
   "source": [
    "***\n",
    "# __Traffic Density__\n",
    "***\n",
    "$$v:\\text{average speed }(\\frac{miles}{hour})$$\n",
    "$$k:\\text{density }(\\frac{\\text{# of vehicles}}{miles})$$\n",
    "$$q=kv:\\text{Traffic Flow }(\\frac{\\text{# of vehicles}}{hour})$$\n",
    "Rearranging for k gives us :\n",
    "$$k = \\frac{q}{v}$$\n"
   ],
   "metadata": {
    "collapsed": false
   }
  },
  {
   "cell_type": "code",
   "execution_count": 25,
   "outputs": [],
   "source": [
    "miles_per_meter = 0.0006213712\n",
    "path_length_m = {\n",
    "    'Local 1' : 836,\n",
    "    'Local 2' : 893,\n",
    "    'Local 9' : 918,\n",
    "    'Local 10': 836,\n",
    "    'Fwy 1'   : 2326,\n",
    "    'Fwy 2'   : 2508,\n",
    "    'Fwy 3'   : 2651,\n",
    "    'Fwy 4'   : 2450\n",
    "}"
   ],
   "metadata": {
    "collapsed": false,
    "pycharm": {
     "name": "#%%\n"
    }
   }
  },
  {
   "cell_type": "markdown",
   "source": [
    "***\n",
    "> ## __GridSmart Data__\n",
    "***"
   ],
   "metadata": {
    "collapsed": false
   }
  },
  {
   "cell_type": "code",
   "execution_count": 26,
   "outputs": [
    {
     "name": "stdout",
     "output_type": "stream",
     "text": [
      "<class 'pandas.core.frame.DataFrame'>\n",
      "DatetimeIndex: 7783 entries, 2021-10-10 00:00:00-07:00 to 2021-06-09 23:45:00-07:00\n",
      "Data columns (total 2 columns):\n",
      " #   Column     Non-Null Count  Dtype\n",
      "---  ------     --------------  -----\n",
      " 0   Eastbound  7783 non-null   int32\n",
      " 1   Westbound  7783 non-null   int32\n",
      "dtypes: int32(2)\n",
      "memory usage: 121.6 KB\n"
     ]
    },
    {
     "data": {
      "text/plain": "                              Eastbound  Westbound\ndatetime-America/Los_Angeles                      \n2021-10-10 00:00:00-07:00            57         42\n2021-10-10 00:15:00-07:00            42         37\n2021-10-10 00:30:00-07:00            43         30\n2021-10-10 00:45:00-07:00            37         26\n2021-10-10 01:00:00-07:00            36         34\n...                                 ...        ...\n2021-06-09 22:45:00-07:00            60         39\n2021-06-09 23:00:00-07:00            51         57\n2021-06-09 23:15:00-07:00            55         34\n2021-06-09 23:30:00-07:00            50         36\n2021-06-09 23:45:00-07:00            38         33\n\n[7783 rows x 2 columns]",
      "text/html": "<div>\n<style scoped>\n    .dataframe tbody tr th:only-of-type {\n        vertical-align: middle;\n    }\n\n    .dataframe tbody tr th {\n        vertical-align: top;\n    }\n\n    .dataframe thead th {\n        text-align: right;\n    }\n</style>\n<table border=\"1\" class=\"dataframe\">\n  <thead>\n    <tr style=\"text-align: right;\">\n      <th></th>\n      <th>Eastbound</th>\n      <th>Westbound</th>\n    </tr>\n    <tr>\n      <th>datetime-America/Los_Angeles</th>\n      <th></th>\n      <th></th>\n    </tr>\n  </thead>\n  <tbody>\n    <tr>\n      <th>2021-10-10 00:00:00-07:00</th>\n      <td>57</td>\n      <td>42</td>\n    </tr>\n    <tr>\n      <th>2021-10-10 00:15:00-07:00</th>\n      <td>42</td>\n      <td>37</td>\n    </tr>\n    <tr>\n      <th>2021-10-10 00:30:00-07:00</th>\n      <td>43</td>\n      <td>30</td>\n    </tr>\n    <tr>\n      <th>2021-10-10 00:45:00-07:00</th>\n      <td>37</td>\n      <td>26</td>\n    </tr>\n    <tr>\n      <th>2021-10-10 01:00:00-07:00</th>\n      <td>36</td>\n      <td>34</td>\n    </tr>\n    <tr>\n      <th>...</th>\n      <td>...</td>\n      <td>...</td>\n    </tr>\n    <tr>\n      <th>2021-06-09 22:45:00-07:00</th>\n      <td>60</td>\n      <td>39</td>\n    </tr>\n    <tr>\n      <th>2021-06-09 23:00:00-07:00</th>\n      <td>51</td>\n      <td>57</td>\n    </tr>\n    <tr>\n      <th>2021-06-09 23:15:00-07:00</th>\n      <td>55</td>\n      <td>34</td>\n    </tr>\n    <tr>\n      <th>2021-06-09 23:30:00-07:00</th>\n      <td>50</td>\n      <td>36</td>\n    </tr>\n    <tr>\n      <th>2021-06-09 23:45:00-07:00</th>\n      <td>38</td>\n      <td>33</td>\n    </tr>\n  </tbody>\n</table>\n<p>7783 rows × 2 columns</p>\n</div>"
     },
     "execution_count": 26,
     "metadata": {},
     "output_type": "execute_result"
    }
   ],
   "source": [
    "gs_files = os.listdir(FPath_GridSmart_csv)\n",
    "for i in nLoop(gs_files):\n",
    "    gs_files[i] = os.path.join(FPath_GridSmart_csv, gs_files[i])\n",
    "full_table = pd.read_csv(gs_files[0])\n",
    "gridsmart = ic.GridSmart_csv(full_table)\n",
    "\n",
    "for i in range(1, len(gs_files)):\n",
    "    table = pd.read_csv(gs_files[i])\n",
    "    gridsmart.add_data(table)\n",
    "\n",
    "gs_data = gridsmart.get_data()\n",
    "gs_data.info()\n",
    "gs_data"
   ],
   "metadata": {
    "collapsed": false,
    "pycharm": {
     "name": "#%%\n"
    }
   }
  },
  {
   "cell_type": "code",
   "execution_count": 27,
   "outputs": [
    {
     "name": "stdout",
     "output_type": "stream",
     "text": [
      "<class 'pandas.core.frame.DataFrame'>\n",
      "DatetimeIndex: 7783 entries, 2021-10-10 00:00:00-07:00 to 2021-06-09 23:45:00-07:00\n",
      "Data columns (total 2 columns):\n",
      " #   Column                      Non-Null Count  Dtype\n",
      "---  ------                      --------------  -----\n",
      " 0   GS-EB # of Vehicles/15 min  7783 non-null   int32\n",
      " 1   GS-WB # of Vehicles/15 min  7783 non-null   int32\n",
      "dtypes: int32(2)\n",
      "memory usage: 121.6 KB\n"
     ]
    },
    {
     "data": {
      "text/plain": "                              GS-EB # of Vehicles/15 min  \\\ndatetime-America/Los_Angeles                               \n2021-10-10 00:00:00-07:00                             57   \n2021-10-10 00:15:00-07:00                             42   \n2021-10-10 00:30:00-07:00                             43   \n2021-10-10 00:45:00-07:00                             37   \n2021-10-10 01:00:00-07:00                             36   \n...                                                  ...   \n2021-06-09 22:45:00-07:00                             60   \n2021-06-09 23:00:00-07:00                             51   \n2021-06-09 23:15:00-07:00                             55   \n2021-06-09 23:30:00-07:00                             50   \n2021-06-09 23:45:00-07:00                             38   \n\n                              GS-WB # of Vehicles/15 min  \ndatetime-America/Los_Angeles                              \n2021-10-10 00:00:00-07:00                             42  \n2021-10-10 00:15:00-07:00                             37  \n2021-10-10 00:30:00-07:00                             30  \n2021-10-10 00:45:00-07:00                             26  \n2021-10-10 01:00:00-07:00                             34  \n...                                                  ...  \n2021-06-09 22:45:00-07:00                             39  \n2021-06-09 23:00:00-07:00                             57  \n2021-06-09 23:15:00-07:00                             34  \n2021-06-09 23:30:00-07:00                             36  \n2021-06-09 23:45:00-07:00                             33  \n\n[7783 rows x 2 columns]",
      "text/html": "<div>\n<style scoped>\n    .dataframe tbody tr th:only-of-type {\n        vertical-align: middle;\n    }\n\n    .dataframe tbody tr th {\n        vertical-align: top;\n    }\n\n    .dataframe thead th {\n        text-align: right;\n    }\n</style>\n<table border=\"1\" class=\"dataframe\">\n  <thead>\n    <tr style=\"text-align: right;\">\n      <th></th>\n      <th>GS-EB # of Vehicles/15 min</th>\n      <th>GS-WB # of Vehicles/15 min</th>\n    </tr>\n    <tr>\n      <th>datetime-America/Los_Angeles</th>\n      <th></th>\n      <th></th>\n    </tr>\n  </thead>\n  <tbody>\n    <tr>\n      <th>2021-10-10 00:00:00-07:00</th>\n      <td>57</td>\n      <td>42</td>\n    </tr>\n    <tr>\n      <th>2021-10-10 00:15:00-07:00</th>\n      <td>42</td>\n      <td>37</td>\n    </tr>\n    <tr>\n      <th>2021-10-10 00:30:00-07:00</th>\n      <td>43</td>\n      <td>30</td>\n    </tr>\n    <tr>\n      <th>2021-10-10 00:45:00-07:00</th>\n      <td>37</td>\n      <td>26</td>\n    </tr>\n    <tr>\n      <th>2021-10-10 01:00:00-07:00</th>\n      <td>36</td>\n      <td>34</td>\n    </tr>\n    <tr>\n      <th>...</th>\n      <td>...</td>\n      <td>...</td>\n    </tr>\n    <tr>\n      <th>2021-06-09 22:45:00-07:00</th>\n      <td>60</td>\n      <td>39</td>\n    </tr>\n    <tr>\n      <th>2021-06-09 23:00:00-07:00</th>\n      <td>51</td>\n      <td>57</td>\n    </tr>\n    <tr>\n      <th>2021-06-09 23:15:00-07:00</th>\n      <td>55</td>\n      <td>34</td>\n    </tr>\n    <tr>\n      <th>2021-06-09 23:30:00-07:00</th>\n      <td>50</td>\n      <td>36</td>\n    </tr>\n    <tr>\n      <th>2021-06-09 23:45:00-07:00</th>\n      <td>38</td>\n      <td>33</td>\n    </tr>\n  </tbody>\n</table>\n<p>7783 rows × 2 columns</p>\n</div>"
     },
     "execution_count": 27,
     "metadata": {},
     "output_type": "execute_result"
    }
   ],
   "source": [
    "gs_data.rename(columns={\n",
    "    'Northbound': 'GS-NB # of Vehicles/15 min',\n",
    "    'Eastbound' : 'GS-EB # of Vehicles/15 min',\n",
    "    'Southbound': 'GS-SB # of Vehicles/15 min',\n",
    "    'Westbound' : 'GS-WB # of Vehicles/15 min'\n",
    "}, inplace=True)\n",
    "gs_data.to_csv('../data/gridsmart/gridsmart_processed.csv')\n",
    "gs_data.info()\n",
    "gs_data"
   ],
   "metadata": {
    "collapsed": false,
    "pycharm": {
     "name": "#%%\n"
    }
   }
  },
  {
   "cell_type": "markdown",
   "source": [
    "***\n",
    "> ## __PEMS Freeway Data__\n",
    "***\n",
    "PEMS Data gives Vehicle Miles Traveled (VMT) which is flow times the length traveled.\n",
    "$$VMT = qL$$\n",
    "\n",
    "Rearranging gives us,\n",
    "$$q=\\frac{VMY}{L}$$\n",
    "$$k=\\frac{VMT}{L*v}$$\n",
    "\n",
    "PEMS freeway data is the aggregated sum of VMT for the hour. Upscaling resamples that sum and spaces it over 15 minutes intervals.\n",
    "\n"
   ],
   "metadata": {
    "collapsed": false,
    "pycharm": {
     "name": "#%% md\n"
    }
   }
  },
  {
   "cell_type": "code",
   "execution_count": 28,
   "outputs": [],
   "source": [
    "pems_length_miles = 5.3  # miles"
   ],
   "metadata": {
    "collapsed": false,
    "pycharm": {
     "name": "#%%\n"
    }
   }
  },
  {
   "cell_type": "code",
   "execution_count": 29,
   "outputs": [
    {
     "name": "stdout",
     "output_type": "stream",
     "text": [
      "<class 'pandas.core.frame.DataFrame'>\n",
      "DatetimeIndex: 7295 entries, 2021-01-01 00:00:00-08:00 to 2021-10-31 23:00:00-07:00\n",
      "Data columns (total 2 columns):\n",
      " #   Column            Non-Null Count  Dtype  \n",
      "---  ------            --------------  -----  \n",
      " 0   Northbound (VMT)  7295 non-null   float64\n",
      " 1   Southbound (VMT)  7295 non-null   float64\n",
      "dtypes: float64(2)\n",
      "memory usage: 171.0 KB\n"
     ]
    },
    {
     "data": {
      "text/plain": "                              Northbound (VMT)  Southbound (VMT)\ndatetime-America/Los_Angeles                                    \n2021-01-01 00:00:00-08:00               9490.9           10054.1\n2021-01-01 01:00:00-08:00              10706.2           10804.1\n2021-01-01 02:00:00-08:00               8224.8            8311.5\n2021-01-01 03:00:00-08:00               6977.0            6752.9\n2021-01-01 04:00:00-08:00               7186.1            6874.1\n...                                        ...               ...\n2021-10-31 19:00:00-07:00              30163.2           30002.5\n2021-10-31 20:00:00-07:00              32028.4           30913.0\n2021-10-31 21:00:00-07:00              33554.3           31339.8\n2021-10-31 22:00:00-07:00              26306.4           24768.0\n2021-10-31 23:00:00-07:00              19360.2           17086.8\n\n[7295 rows x 2 columns]",
      "text/html": "<div>\n<style scoped>\n    .dataframe tbody tr th:only-of-type {\n        vertical-align: middle;\n    }\n\n    .dataframe tbody tr th {\n        vertical-align: top;\n    }\n\n    .dataframe thead th {\n        text-align: right;\n    }\n</style>\n<table border=\"1\" class=\"dataframe\">\n  <thead>\n    <tr style=\"text-align: right;\">\n      <th></th>\n      <th>Northbound (VMT)</th>\n      <th>Southbound (VMT)</th>\n    </tr>\n    <tr>\n      <th>datetime-America/Los_Angeles</th>\n      <th></th>\n      <th></th>\n    </tr>\n  </thead>\n  <tbody>\n    <tr>\n      <th>2021-01-01 00:00:00-08:00</th>\n      <td>9490.9</td>\n      <td>10054.1</td>\n    </tr>\n    <tr>\n      <th>2021-01-01 01:00:00-08:00</th>\n      <td>10706.2</td>\n      <td>10804.1</td>\n    </tr>\n    <tr>\n      <th>2021-01-01 02:00:00-08:00</th>\n      <td>8224.8</td>\n      <td>8311.5</td>\n    </tr>\n    <tr>\n      <th>2021-01-01 03:00:00-08:00</th>\n      <td>6977.0</td>\n      <td>6752.9</td>\n    </tr>\n    <tr>\n      <th>2021-01-01 04:00:00-08:00</th>\n      <td>7186.1</td>\n      <td>6874.1</td>\n    </tr>\n    <tr>\n      <th>...</th>\n      <td>...</td>\n      <td>...</td>\n    </tr>\n    <tr>\n      <th>2021-10-31 19:00:00-07:00</th>\n      <td>30163.2</td>\n      <td>30002.5</td>\n    </tr>\n    <tr>\n      <th>2021-10-31 20:00:00-07:00</th>\n      <td>32028.4</td>\n      <td>30913.0</td>\n    </tr>\n    <tr>\n      <th>2021-10-31 21:00:00-07:00</th>\n      <td>33554.3</td>\n      <td>31339.8</td>\n    </tr>\n    <tr>\n      <th>2021-10-31 22:00:00-07:00</th>\n      <td>26306.4</td>\n      <td>24768.0</td>\n    </tr>\n    <tr>\n      <th>2021-10-31 23:00:00-07:00</th>\n      <td>19360.2</td>\n      <td>17086.8</td>\n    </tr>\n  </tbody>\n</table>\n<p>7295 rows × 2 columns</p>\n</div>"
     },
     "execution_count": 29,
     "metadata": {},
     "output_type": "execute_result"
    }
   ],
   "source": [
    "pems_north = util.excel_folder2table(FPath_PEMS + \"/I215_northbound/\", 'Report Data', axis=1)\n",
    "pems_north = pems_north.iloc[:, ~pems_north.columns.duplicated()]\n",
    "pems_south = util.excel_folder2table(FPath_PEMS + \"/I215_southbound/\", 'Report Data', axis=1)\n",
    "pems_south = pems_south.iloc[:, ~pems_south.columns.duplicated()]\n",
    "pems = ic.PEMS(pems_north, pems_south)\n",
    "pems_data = pems.get_data()\n",
    "pems_data.info()\n",
    "pems_data"
   ],
   "metadata": {
    "collapsed": false,
    "pycharm": {
     "name": "#%%\n"
    }
   }
  },
  {
   "cell_type": "code",
   "execution_count": 30,
   "outputs": [
    {
     "name": "stdout",
     "output_type": "stream",
     "text": [
      "<class 'pandas.core.frame.DataFrame'>\n",
      "DatetimeIndex: 29177 entries, 2021-01-01 00:00:00-08:00 to 2021-10-31 23:00:00-07:00\n",
      "Freq: 15T\n",
      "Data columns (total 2 columns):\n",
      " #   Column            Non-Null Count  Dtype  \n",
      "---  ------            --------------  -----  \n",
      " 0   Northbound (VMT)  29177 non-null  float64\n",
      " 1   Southbound (VMT)  29177 non-null  float64\n",
      "dtypes: float64(2)\n",
      "memory usage: 683.8 KB\n"
     ]
    },
    {
     "data": {
      "text/plain": "                              Northbound (VMT)  Southbound (VMT)\ndatetime-America/Los_Angeles                                    \n2021-01-01 00:00:00-08:00             2372.725          2513.525\n2021-01-01 00:15:00-08:00             2372.725          2513.525\n2021-01-01 00:30:00-08:00             2372.725          2513.525\n2021-01-01 00:45:00-08:00             2372.725          2513.525\n2021-01-01 01:00:00-08:00             2676.550          2701.025\n...                                        ...               ...\n2021-10-31 22:00:00-07:00             6576.600          6192.000\n2021-10-31 22:15:00-07:00             6576.600          6192.000\n2021-10-31 22:30:00-07:00             6576.600          6192.000\n2021-10-31 22:45:00-07:00             6576.600          6192.000\n2021-10-31 23:00:00-07:00             4840.050          4271.700\n\n[29177 rows x 2 columns]",
      "text/html": "<div>\n<style scoped>\n    .dataframe tbody tr th:only-of-type {\n        vertical-align: middle;\n    }\n\n    .dataframe tbody tr th {\n        vertical-align: top;\n    }\n\n    .dataframe thead th {\n        text-align: right;\n    }\n</style>\n<table border=\"1\" class=\"dataframe\">\n  <thead>\n    <tr style=\"text-align: right;\">\n      <th></th>\n      <th>Northbound (VMT)</th>\n      <th>Southbound (VMT)</th>\n    </tr>\n    <tr>\n      <th>datetime-America/Los_Angeles</th>\n      <th></th>\n      <th></th>\n    </tr>\n  </thead>\n  <tbody>\n    <tr>\n      <th>2021-01-01 00:00:00-08:00</th>\n      <td>2372.725</td>\n      <td>2513.525</td>\n    </tr>\n    <tr>\n      <th>2021-01-01 00:15:00-08:00</th>\n      <td>2372.725</td>\n      <td>2513.525</td>\n    </tr>\n    <tr>\n      <th>2021-01-01 00:30:00-08:00</th>\n      <td>2372.725</td>\n      <td>2513.525</td>\n    </tr>\n    <tr>\n      <th>2021-01-01 00:45:00-08:00</th>\n      <td>2372.725</td>\n      <td>2513.525</td>\n    </tr>\n    <tr>\n      <th>2021-01-01 01:00:00-08:00</th>\n      <td>2676.550</td>\n      <td>2701.025</td>\n    </tr>\n    <tr>\n      <th>...</th>\n      <td>...</td>\n      <td>...</td>\n    </tr>\n    <tr>\n      <th>2021-10-31 22:00:00-07:00</th>\n      <td>6576.600</td>\n      <td>6192.000</td>\n    </tr>\n    <tr>\n      <th>2021-10-31 22:15:00-07:00</th>\n      <td>6576.600</td>\n      <td>6192.000</td>\n    </tr>\n    <tr>\n      <th>2021-10-31 22:30:00-07:00</th>\n      <td>6576.600</td>\n      <td>6192.000</td>\n    </tr>\n    <tr>\n      <th>2021-10-31 22:45:00-07:00</th>\n      <td>6576.600</td>\n      <td>6192.000</td>\n    </tr>\n    <tr>\n      <th>2021-10-31 23:00:00-07:00</th>\n      <td>4840.050</td>\n      <td>4271.700</td>\n    </tr>\n  </tbody>\n</table>\n<p>29177 rows × 2 columns</p>\n</div>"
     },
     "execution_count": 30,
     "metadata": {},
     "output_type": "execute_result"
    }
   ],
   "source": [
    "pems_data_15min = pems_data/4\n",
    "pems_data_15min = pems_data_15min.resample('15T').ffill()\n",
    "if SAVE_TABLES:\n",
    "    pems_data_15min.to_csv('../data/pems/PEMS_I215_VMT_15min.csv')\n",
    "pems_data_15min.info()\n",
    "pems_data_15min"
   ],
   "metadata": {
    "collapsed": false,
    "pycharm": {
     "name": "#%%\n"
    }
   }
  },
  {
   "cell_type": "markdown",
   "source": [
    "***\n",
    "> ## __Travel Time__\n",
    "***"
   ],
   "metadata": {
    "collapsed": false
   }
  },
  {
   "cell_type": "code",
   "execution_count": 31,
   "outputs": [
    {
     "name": "stdout",
     "output_type": "stream",
     "text": [
      "<class 'pandas.core.frame.DataFrame'>\n",
      "Int64Index: 6612 entries, 0 to 559\n",
      "Data columns (total 15 columns):\n",
      " #   Column    Non-Null Count  Dtype \n",
      "---  ------    --------------  ----- \n",
      " 0   DT        6612 non-null   object\n",
      " 1   Local 1   6612 non-null   object\n",
      " 2   Local 2   6612 non-null   object\n",
      " 3   Local 3   117 non-null    object\n",
      " 4   Local 4   117 non-null    object\n",
      " 5   Local 5   117 non-null    object\n",
      " 6   Local 6   117 non-null    object\n",
      " 7   Local 7   117 non-null    object\n",
      " 8   Local 8   117 non-null    object\n",
      " 9   Local 9   6612 non-null   object\n",
      " 10  Local 10  6612 non-null   object\n",
      " 11  Fwy 1     6612 non-null   object\n",
      " 12  Fwy 3     6612 non-null   object\n",
      " 13  Fwy 2     6612 non-null   object\n",
      " 14  Fwy 4     6612 non-null   object\n",
      "dtypes: object(15)\n",
      "memory usage: 826.5+ KB\n"
     ]
    },
    {
     "data": {
      "text/plain": "                   DT Local 1 Local 2 Local 3 Local 4 Local 5 Local 6 Local 7  \\\n0    2021-04-21 14:00     143     140     111      46     115     100      51   \n1    2021-04-21 14:15     127     151      98      46     123     116      46   \n2    2021-04-21 14:30     137     142      75      48     118     122      47   \n3    2021-04-21 14:45     138     135      77      45     117     113      48   \n4    2021-04-21 15:00     141     142      75      43     125     114      46   \n..                ...     ...     ...     ...     ...     ...     ...     ...   \n555  2021-07-14 16:30     145     169     NaN     NaN     NaN     NaN     NaN   \n556  2021-07-14 16:45     134     143     NaN     NaN     NaN     NaN     NaN   \n557  2021-07-14 17:00     145     162     NaN     NaN     NaN     NaN     NaN   \n558  2021-07-14 17:15     135     145     NaN     NaN     NaN     NaN     NaN   \n559  2021-07-14 17:30     134     166     NaN     NaN     NaN     NaN     NaN   \n\n    Local 8 Local 9 Local 10 Fwy 1 Fwy 3 Fwy 2 Fwy 4  \n0        79     111      154   257   144   247   298  \n1        70     116      151   259   143   257   291  \n2        71     123      140   255   149   249   292  \n3        81     122      147   261   155   246   354  \n4        82     113      149   266   148   232   322  \n..      ...     ...      ...   ...   ...   ...   ...  \n555     NaN     123      148   241   160   272   328  \n556     NaN     125      143   247   151   302   329  \n557     NaN     121      166   243   164   260   320  \n558     NaN     133      146   246   167   295   376  \n559     NaN     114      145   237   144   287   343  \n\n[6612 rows x 15 columns]",
      "text/html": "<div>\n<style scoped>\n    .dataframe tbody tr th:only-of-type {\n        vertical-align: middle;\n    }\n\n    .dataframe tbody tr th {\n        vertical-align: top;\n    }\n\n    .dataframe thead th {\n        text-align: right;\n    }\n</style>\n<table border=\"1\" class=\"dataframe\">\n  <thead>\n    <tr style=\"text-align: right;\">\n      <th></th>\n      <th>DT</th>\n      <th>Local 1</th>\n      <th>Local 2</th>\n      <th>Local 3</th>\n      <th>Local 4</th>\n      <th>Local 5</th>\n      <th>Local 6</th>\n      <th>Local 7</th>\n      <th>Local 8</th>\n      <th>Local 9</th>\n      <th>Local 10</th>\n      <th>Fwy 1</th>\n      <th>Fwy 3</th>\n      <th>Fwy 2</th>\n      <th>Fwy 4</th>\n    </tr>\n  </thead>\n  <tbody>\n    <tr>\n      <th>0</th>\n      <td>2021-04-21 14:00</td>\n      <td>143</td>\n      <td>140</td>\n      <td>111</td>\n      <td>46</td>\n      <td>115</td>\n      <td>100</td>\n      <td>51</td>\n      <td>79</td>\n      <td>111</td>\n      <td>154</td>\n      <td>257</td>\n      <td>144</td>\n      <td>247</td>\n      <td>298</td>\n    </tr>\n    <tr>\n      <th>1</th>\n      <td>2021-04-21 14:15</td>\n      <td>127</td>\n      <td>151</td>\n      <td>98</td>\n      <td>46</td>\n      <td>123</td>\n      <td>116</td>\n      <td>46</td>\n      <td>70</td>\n      <td>116</td>\n      <td>151</td>\n      <td>259</td>\n      <td>143</td>\n      <td>257</td>\n      <td>291</td>\n    </tr>\n    <tr>\n      <th>2</th>\n      <td>2021-04-21 14:30</td>\n      <td>137</td>\n      <td>142</td>\n      <td>75</td>\n      <td>48</td>\n      <td>118</td>\n      <td>122</td>\n      <td>47</td>\n      <td>71</td>\n      <td>123</td>\n      <td>140</td>\n      <td>255</td>\n      <td>149</td>\n      <td>249</td>\n      <td>292</td>\n    </tr>\n    <tr>\n      <th>3</th>\n      <td>2021-04-21 14:45</td>\n      <td>138</td>\n      <td>135</td>\n      <td>77</td>\n      <td>45</td>\n      <td>117</td>\n      <td>113</td>\n      <td>48</td>\n      <td>81</td>\n      <td>122</td>\n      <td>147</td>\n      <td>261</td>\n      <td>155</td>\n      <td>246</td>\n      <td>354</td>\n    </tr>\n    <tr>\n      <th>4</th>\n      <td>2021-04-21 15:00</td>\n      <td>141</td>\n      <td>142</td>\n      <td>75</td>\n      <td>43</td>\n      <td>125</td>\n      <td>114</td>\n      <td>46</td>\n      <td>82</td>\n      <td>113</td>\n      <td>149</td>\n      <td>266</td>\n      <td>148</td>\n      <td>232</td>\n      <td>322</td>\n    </tr>\n    <tr>\n      <th>...</th>\n      <td>...</td>\n      <td>...</td>\n      <td>...</td>\n      <td>...</td>\n      <td>...</td>\n      <td>...</td>\n      <td>...</td>\n      <td>...</td>\n      <td>...</td>\n      <td>...</td>\n      <td>...</td>\n      <td>...</td>\n      <td>...</td>\n      <td>...</td>\n      <td>...</td>\n    </tr>\n    <tr>\n      <th>555</th>\n      <td>2021-07-14 16:30</td>\n      <td>145</td>\n      <td>169</td>\n      <td>NaN</td>\n      <td>NaN</td>\n      <td>NaN</td>\n      <td>NaN</td>\n      <td>NaN</td>\n      <td>NaN</td>\n      <td>123</td>\n      <td>148</td>\n      <td>241</td>\n      <td>160</td>\n      <td>272</td>\n      <td>328</td>\n    </tr>\n    <tr>\n      <th>556</th>\n      <td>2021-07-14 16:45</td>\n      <td>134</td>\n      <td>143</td>\n      <td>NaN</td>\n      <td>NaN</td>\n      <td>NaN</td>\n      <td>NaN</td>\n      <td>NaN</td>\n      <td>NaN</td>\n      <td>125</td>\n      <td>143</td>\n      <td>247</td>\n      <td>151</td>\n      <td>302</td>\n      <td>329</td>\n    </tr>\n    <tr>\n      <th>557</th>\n      <td>2021-07-14 17:00</td>\n      <td>145</td>\n      <td>162</td>\n      <td>NaN</td>\n      <td>NaN</td>\n      <td>NaN</td>\n      <td>NaN</td>\n      <td>NaN</td>\n      <td>NaN</td>\n      <td>121</td>\n      <td>166</td>\n      <td>243</td>\n      <td>164</td>\n      <td>260</td>\n      <td>320</td>\n    </tr>\n    <tr>\n      <th>558</th>\n      <td>2021-07-14 17:15</td>\n      <td>135</td>\n      <td>145</td>\n      <td>NaN</td>\n      <td>NaN</td>\n      <td>NaN</td>\n      <td>NaN</td>\n      <td>NaN</td>\n      <td>NaN</td>\n      <td>133</td>\n      <td>146</td>\n      <td>246</td>\n      <td>167</td>\n      <td>295</td>\n      <td>376</td>\n    </tr>\n    <tr>\n      <th>559</th>\n      <td>2021-07-14 17:30</td>\n      <td>134</td>\n      <td>166</td>\n      <td>NaN</td>\n      <td>NaN</td>\n      <td>NaN</td>\n      <td>NaN</td>\n      <td>NaN</td>\n      <td>NaN</td>\n      <td>114</td>\n      <td>145</td>\n      <td>237</td>\n      <td>144</td>\n      <td>287</td>\n      <td>343</td>\n    </tr>\n  </tbody>\n</table>\n<p>6612 rows × 15 columns</p>\n</div>"
     },
     "execution_count": 31,
     "metadata": {},
     "output_type": "execute_result"
    }
   ],
   "source": [
    "tt_file_list = os.listdir(FPath_travelTime_csv)\n",
    "for i in util.nLoop(tt_file_list):\n",
    "    tt_file_list[i] = FPath_travelTime_csv + \"\\\\\" + tt_file_list[i]\n",
    "tt_csvData = ic.readTravelTimeCSV(tt_file_list[0])\n",
    "for fpath in range(1, len(tt_file_list)):\n",
    "    temp = ic.readTravelTimeCSV(tt_file_list[fpath])\n",
    "    tt_csvData = pd.concat([tt_csvData, temp], axis=0)\n",
    "tt_csvData.info()\n",
    "tt_csvData"
   ],
   "metadata": {
    "collapsed": false,
    "pycharm": {
     "name": "#%%\n"
    }
   }
  },
  {
   "cell_type": "code",
   "execution_count": 32,
   "outputs": [
    {
     "name": "stdout",
     "output_type": "stream",
     "text": [
      "<class 'pandas.core.frame.DataFrame'>\n",
      "DatetimeIndex: 6612 entries, 2021-04-21 14:00:00-07:00 to 2021-07-14 17:30:00-07:00\n",
      "Data columns (total 8 columns):\n",
      " #   Column          Non-Null Count  Dtype  \n",
      "---  ------          --------------  -----  \n",
      " 0   Local 1 (mph)   6612 non-null   float64\n",
      " 1   Local 2 (mph)   6612 non-null   float64\n",
      " 2   Local 9 (mph)   6612 non-null   float64\n",
      " 3   Local 10 (mph)  6612 non-null   float64\n",
      " 4   Fwy 1 (mph)     6612 non-null   float64\n",
      " 5   Fwy 3 (mph)     6612 non-null   float64\n",
      " 6   Fwy 2 (mph)     6612 non-null   float64\n",
      " 7   Fwy 4 (mph)     6612 non-null   float64\n",
      "dtypes: float64(8)\n",
      "memory usage: 464.9 KB\n"
     ]
    },
    {
     "data": {
      "text/plain": "                              Local 1 (mph)  Local 2 (mph)  Local 9 (mph)  \\\ndatetime-America/Los_Angeles                                                \n2021-04-21 14:00:00-07:00         13.077474      14.268458      18.500068   \n2021-04-21 14:15:00-07:00         14.725029      13.229034      17.702651   \n2021-04-21 14:30:00-07:00         13.650210      14.067494      16.695183   \n2021-04-21 14:45:00-07:00         13.551295      14.796919      16.832029   \n2021-04-21 15:00:00-07:00         13.262970      14.067494      18.172633   \n...                                     ...            ...            ...   \n2021-07-14 16:30:00-07:00         12.897095      11.820024      16.695183   \n2021-07-14 16:45:00-07:00         13.955811      13.969120      16.428060   \n2021-07-14 17:00:00-07:00         12.897095      12.330766      16.971136   \n2021-07-14 17:15:00-07:00         13.852435      13.776442      15.439906   \n2021-07-14 17:30:00-07:00         13.955811      12.033639      18.013224   \n\n                              Local 10 (mph)  Fwy 1 (mph)  Fwy 3 (mph)  \\\ndatetime-America/Los_Angeles                                             \n2021-04-21 14:00:00-07:00          12.143368    20.245579    41.181376   \n2021-04-21 14:15:00-07:00          12.384627    20.089243    41.469357   \n2021-04-21 14:30:00-07:00          13.357705    20.404368    39.799450   \n2021-04-21 14:45:00-07:00          12.721624    19.935302    38.258827   \n2021-04-21 15:00:00-07:00          12.550864    19.560578    40.068366   \n...                                      ...          ...          ...   \n2021-07-14 16:30:00-07:00          12.635667    21.589684    37.063238   \n2021-07-14 16:45:00-07:00          13.077474    21.065238    39.272305   \n2021-07-14 17:00:00-07:00          11.265535    21.411991    36.159257   \n2021-07-14 17:15:00-07:00          12.808758    21.150869    35.509689   \n2021-07-14 17:30:00-07:00          12.897095    21.954067    41.181376   \n\n                              Fwy 2 (mph)  Fwy 4 (mph)  \ndatetime-America/Los_Angeles                            \n2021-04-21 14:00:00-07:00       22.713507    18.390919  \n2021-04-21 14:15:00-07:00       21.829713    18.833312  \n2021-04-21 14:30:00-07:00       22.531069    18.768815  \n2021-04-21 14:45:00-07:00       22.805838    15.481621  \n2021-04-21 15:00:00-07:00       24.182053    17.020167  \n...                                   ...          ...  \n2021-07-14 16:30:00-07:00       20.625868    16.708823  \n2021-07-14 16:45:00-07:00       18.576941    16.658036  \n2021-07-14 17:00:00-07:00       21.577832    17.126543  \n2021-07-14 17:15:00-07:00       19.017750    14.575782  \n2021-07-14 17:30:00-07:00       19.547861    15.978116  \n\n[6612 rows x 8 columns]",
      "text/html": "<div>\n<style scoped>\n    .dataframe tbody tr th:only-of-type {\n        vertical-align: middle;\n    }\n\n    .dataframe tbody tr th {\n        vertical-align: top;\n    }\n\n    .dataframe thead th {\n        text-align: right;\n    }\n</style>\n<table border=\"1\" class=\"dataframe\">\n  <thead>\n    <tr style=\"text-align: right;\">\n      <th></th>\n      <th>Local 1 (mph)</th>\n      <th>Local 2 (mph)</th>\n      <th>Local 9 (mph)</th>\n      <th>Local 10 (mph)</th>\n      <th>Fwy 1 (mph)</th>\n      <th>Fwy 3 (mph)</th>\n      <th>Fwy 2 (mph)</th>\n      <th>Fwy 4 (mph)</th>\n    </tr>\n    <tr>\n      <th>datetime-America/Los_Angeles</th>\n      <th></th>\n      <th></th>\n      <th></th>\n      <th></th>\n      <th></th>\n      <th></th>\n      <th></th>\n      <th></th>\n    </tr>\n  </thead>\n  <tbody>\n    <tr>\n      <th>2021-04-21 14:00:00-07:00</th>\n      <td>13.077474</td>\n      <td>14.268458</td>\n      <td>18.500068</td>\n      <td>12.143368</td>\n      <td>20.245579</td>\n      <td>41.181376</td>\n      <td>22.713507</td>\n      <td>18.390919</td>\n    </tr>\n    <tr>\n      <th>2021-04-21 14:15:00-07:00</th>\n      <td>14.725029</td>\n      <td>13.229034</td>\n      <td>17.702651</td>\n      <td>12.384627</td>\n      <td>20.089243</td>\n      <td>41.469357</td>\n      <td>21.829713</td>\n      <td>18.833312</td>\n    </tr>\n    <tr>\n      <th>2021-04-21 14:30:00-07:00</th>\n      <td>13.650210</td>\n      <td>14.067494</td>\n      <td>16.695183</td>\n      <td>13.357705</td>\n      <td>20.404368</td>\n      <td>39.799450</td>\n      <td>22.531069</td>\n      <td>18.768815</td>\n    </tr>\n    <tr>\n      <th>2021-04-21 14:45:00-07:00</th>\n      <td>13.551295</td>\n      <td>14.796919</td>\n      <td>16.832029</td>\n      <td>12.721624</td>\n      <td>19.935302</td>\n      <td>38.258827</td>\n      <td>22.805838</td>\n      <td>15.481621</td>\n    </tr>\n    <tr>\n      <th>2021-04-21 15:00:00-07:00</th>\n      <td>13.262970</td>\n      <td>14.067494</td>\n      <td>18.172633</td>\n      <td>12.550864</td>\n      <td>19.560578</td>\n      <td>40.068366</td>\n      <td>24.182053</td>\n      <td>17.020167</td>\n    </tr>\n    <tr>\n      <th>...</th>\n      <td>...</td>\n      <td>...</td>\n      <td>...</td>\n      <td>...</td>\n      <td>...</td>\n      <td>...</td>\n      <td>...</td>\n      <td>...</td>\n    </tr>\n    <tr>\n      <th>2021-07-14 16:30:00-07:00</th>\n      <td>12.897095</td>\n      <td>11.820024</td>\n      <td>16.695183</td>\n      <td>12.635667</td>\n      <td>21.589684</td>\n      <td>37.063238</td>\n      <td>20.625868</td>\n      <td>16.708823</td>\n    </tr>\n    <tr>\n      <th>2021-07-14 16:45:00-07:00</th>\n      <td>13.955811</td>\n      <td>13.969120</td>\n      <td>16.428060</td>\n      <td>13.077474</td>\n      <td>21.065238</td>\n      <td>39.272305</td>\n      <td>18.576941</td>\n      <td>16.658036</td>\n    </tr>\n    <tr>\n      <th>2021-07-14 17:00:00-07:00</th>\n      <td>12.897095</td>\n      <td>12.330766</td>\n      <td>16.971136</td>\n      <td>11.265535</td>\n      <td>21.411991</td>\n      <td>36.159257</td>\n      <td>21.577832</td>\n      <td>17.126543</td>\n    </tr>\n    <tr>\n      <th>2021-07-14 17:15:00-07:00</th>\n      <td>13.852435</td>\n      <td>13.776442</td>\n      <td>15.439906</td>\n      <td>12.808758</td>\n      <td>21.150869</td>\n      <td>35.509689</td>\n      <td>19.017750</td>\n      <td>14.575782</td>\n    </tr>\n    <tr>\n      <th>2021-07-14 17:30:00-07:00</th>\n      <td>13.955811</td>\n      <td>12.033639</td>\n      <td>18.013224</td>\n      <td>12.897095</td>\n      <td>21.954067</td>\n      <td>41.181376</td>\n      <td>19.547861</td>\n      <td>15.978116</td>\n    </tr>\n  </tbody>\n</table>\n<p>6612 rows × 8 columns</p>\n</div>"
     },
     "execution_count": 32,
     "metadata": {},
     "output_type": "execute_result"
    }
   ],
   "source": [
    "travel_time = ic.travel_time(tt_csvData)\n",
    "tt_data = travel_time.get_data()\n",
    "tt_data = tt_data[~tt_data.index.duplicated()]\n",
    "if SAVE_TABLES:\n",
    "    tt_data.to_csv('../data/travel_time/travel_time.csv')\n",
    "\n",
    "tt_data.info()\n",
    "tt_data.head(len(tt_data))"
   ],
   "metadata": {
    "collapsed": false,
    "pycharm": {
     "name": "#%%\n"
    }
   }
  },
  {
   "cell_type": "markdown",
   "source": [
    "***\n",
    "> ## __Calculating Traffic Density__\n",
    "***\n",
    "Similar road conditions exist for local 1 and 2, as well as local 3 and 4 so we assume gridsmart sensor counts can apply to both paths"
   ],
   "metadata": {
    "collapsed": false,
    "pycharm": {
     "name": "#%% md\n"
    }
   }
  },
  {
   "cell_type": "code",
   "execution_count": 33,
   "outputs": [
    {
     "ename": "SyntaxError",
     "evalue": "invalid syntax (Temp/ipykernel_18064/474273068.py, line 4)",
     "output_type": "error",
     "traceback": [
      "\u001B[1;36m  File \u001B[1;32m\"C:\\Users\\Alex\\AppData\\Local\\Temp/ipykernel_18064/474273068.py\"\u001B[1;36m, line \u001B[1;32m4\u001B[0m\n\u001B[1;33m    traffic_density['Density Local 1 (#Vehicles/mile)'] =\u001B[0m\n\u001B[1;37m                                                         ^\u001B[0m\n\u001B[1;31mSyntaxError\u001B[0m\u001B[1;31m:\u001B[0m invalid syntax\n"
     ]
    }
   ],
   "source": [
    "traffic_density = pd.merge(tt_data, gs_data, left_index=True, right_index=True)\n",
    "traffic_density = pd.merge(traffic_density, pems_data_15min, left_index=True, right_index=True)\n",
    "traffic_density = traffic_density[(traffic_density > 0).all(1)]\n",
    "traffic_density['Density Local 1 (#Vehicles/mile)'] = (\n",
    "        (traffic_density['GS-WB # of Vehicles/15 min']*4)\n",
    "        /traffic_density['Local 1 (mph)']\n",
    ")\n",
    "traffic_density['Density Local 2 (#Vehicles/mile)'] = (\n",
    "        (traffic_density['GS-WB # of Vehicles/15 min']*4)\n",
    "        /traffic_density['Local 2 (mph)']\n",
    ")\n",
    "traffic_density['Density Local 9 (#Vehicles/mile)'] = (\n",
    "        (traffic_density['GS-EB # of Vehicles/15 min']*4)\n",
    "        /traffic_density['Local 9 (mph)']\n",
    ")\n",
    "traffic_density['Density Local 10 (#Vehicles/mile)'] = (\n",
    "        (traffic_density['GS-EB # of Vehicles/15 min']*4)\n",
    "        /traffic_density['Local 10 (mph)']\n",
    ")\n",
    "\n",
    "traffic_density['Density Fwy 1 (#Vehicles/mile)'] = (\n",
    "        traffic_density['Northbound (VMT)']\n",
    "        /pems_length_miles*traffic_density['Fwy 4 (mph)']\n",
    ")\n",
    "traffic_density['Density Fwy 2 (#Vehicles/mile)'] = (\n",
    "        traffic_density['Southbound (VMT)']\n",
    "        /pems_length_miles*traffic_density['Fwy 4 (mph)']\n",
    ")\n",
    "traffic_density.rename(columns={\n",
    "    'Northbound (VMT)': 'PEMS Northbound (VMT)',\n",
    "    'Southbound (VMT)': 'PEMS Southbound (VMT)',\n",
    "}, inplace=True)\n",
    "traffic_density = traffic_density.iloc[:, -6:]\n",
    "if SAVE_TABLES:\n",
    "    traffic_density.to_csv('../data/traffic_density/traffic_density.csv')\n",
    "traffic_density.info()\n",
    "traffic_density"
   ],
   "metadata": {
    "collapsed": false,
    "pycharm": {
     "name": "#%%\n"
    }
   }
  },
  {
   "cell_type": "markdown",
   "source": [
    "***\n",
    "# __Final Dataset__\n",
    "***"
   ],
   "metadata": {
    "collapsed": false,
    "pycharm": {
     "name": "#%% md\n"
    }
   }
  },
  {
   "cell_type": "code",
   "execution_count": null,
   "outputs": [],
   "source": [
    "final_pm25_TrafficDensity = pm25_pivot.merge(openWeather_data_interp, left_index=True, right_index=True)\n",
    "print(f'Data Points: {len(final_pm25_TrafficDensity)} -Merged OpenWeather with Clarity')\n",
    "final_pm25_TrafficDensity = final_pm25_TrafficDensity.merge(carb_pm25_data_interp, left_index=True, right_index=True)\n",
    "print(f'Data Points: {len(final_pm25_TrafficDensity)} -Merged Carb')\n",
    "final_pm25_TrafficDensity = final_pm25_TrafficDensity.merge(traffic_density, left_index=True,\n",
    "                                                            right_index=True)\n",
    "print(f'Data Points: {len(final_pm25_TrafficDensity)} -Merged Travel Time')\n",
    "\n",
    "final_pm25_TrafficDensity.reset_index('datetime-America/Los_Angeles', inplace=True)\n",
    "final_pm25_TrafficDensity = dtk.df_decomposeDT(final_pm25_TrafficDensity, 0)\n",
    "final_pm25_TrafficDensity.drop(\n",
    "    columns=[\n",
    "        'timezone', 'week of year',\n",
    "    ],\n",
    "    inplace=True\n",
    ")\n",
    "final_pm25_TrafficDensity.set_index('datetime-America/Los_Angeles', inplace=True)\n",
    "final_pm25_TrafficDensity = pd.get_dummies(final_pm25_TrafficDensity, columns=['dayofweek'])\n",
    "col_vals = [\n",
    "    'Iowa PM2.5 [ug/m3]',\n",
    "    'Chicago PM2.5 [ug/m3]',\n",
    "    'Cranford PM2.5 [ug/m3]',\n",
    "    'Magnolia PM2.5 [ug/m3]',\n",
    "    'year',\n",
    "    'month',\n",
    "    'day',\n",
    "    'dayofweek_Sunday',\n",
    "    'dayofweek_Monday',\n",
    "    'dayofweek_Tuesday',\n",
    "    'dayofweek_Wednesday',\n",
    "    'dayofweek_Thursday',\n",
    "    'dayofweek_Friday',\n",
    "    'dayofweek_Saturday',\n",
    "    'temp',\n",
    "    'pressure',\n",
    "    'humidity',\n",
    "    'wind_speed',\n",
    "    'wind_deg',\n",
    "    'PM2.5 Background [ug/m3]',\n",
    "    'Density Local 1 (#Vehicles/mile)',\n",
    "    'Density Local 2 (#Vehicles/mile)',\n",
    "    'Density Local 9 (#Vehicles/mile)',\n",
    "    'Density Local 10 (#Vehicles/mile)',\n",
    "    'Density Fwy 1 (#Vehicles/mile)',\n",
    "    'Density Fwy 2 (#Vehicles/mile)',\n",
    "]\n",
    "final_pm25_TrafficDensity = final_pm25_TrafficDensity.loc[:, col_vals]\n",
    "if SAVE_TABLES:\n",
    "    final_pm25_TrafficDensity.to_csv(r'../data/complete_sets/full_pm25.csv')\n",
    "final_pm25_TrafficDensity.info()\n",
    "final_pm25_TrafficDensity"
   ],
   "metadata": {
    "collapsed": false,
    "pycharm": {
     "name": "#%%\n"
    }
   }
  },
  {
   "cell_type": "code",
   "execution_count": null,
   "outputs": [],
   "source": [
    "final_pm25_TravelTime = pm25_pivot.merge(openWeather_data_interp, left_index=True, right_index=True)\n",
    "print(f'Data Points: {len(final_pm25_TravelTime)} -Merged OpenWeather with Clarity')\n",
    "final_pm25_TravelTime = final_pm25_TravelTime.merge(carb_pm25_data_interp, left_index=True, right_index=True)\n",
    "print(f'Data Points: {len(final_pm25_TravelTime)} -Merged Carb')\n",
    "final_pm25_TravelTime = final_pm25_TravelTime.merge(tt_data, left_index=True, right_index=True)\n",
    "print(f'Data Points: {len(final_pm25_TravelTime)} -Merged Travel Time')\n",
    "final_pm25_TravelTime.reset_index('datetime-America/Los_Angeles', inplace=True)\n",
    "final_pm25_TravelTime = dtk.df_decomposeDT(final_pm25_TravelTime, 0)\n",
    "final_pm25_TravelTime.drop(\n",
    "    columns=[\n",
    "        'timezone', 'week of year',\n",
    "    ],\n",
    "    inplace=True\n",
    ")\n",
    "final_pm25_TravelTime.set_index('datetime-America/Los_Angeles', inplace=True)\n",
    "final_pm25_TravelTime = pd.get_dummies(final_pm25_TravelTime, columns=['dayofweek'])\n",
    "col_vals_2 = [\n",
    "    'Iowa PM2.5 [ug/m3]',\n",
    "    'Chicago PM2.5 [ug/m3]',\n",
    "    'Cranford PM2.5 [ug/m3]',\n",
    "    'Magnolia PM2.5 [ug/m3]',\n",
    "    'year',\n",
    "    'month',\n",
    "    'day',\n",
    "    'dayofweek_Sunday',\n",
    "    'dayofweek_Monday',\n",
    "    'dayofweek_Tuesday',\n",
    "    'dayofweek_Wednesday',\n",
    "    'dayofweek_Thursday',\n",
    "    'dayofweek_Friday',\n",
    "    'dayofweek_Saturday',\n",
    "    'temp',\n",
    "    'pressure',\n",
    "    'humidity',\n",
    "    'wind_speed',\n",
    "    'wind_deg',\n",
    "    'PM2.5 Background [ug/m3]',\n",
    "    'Local 1 (mph)',\n",
    "    'Local 2 (mph)',\n",
    "    'Local 9 (mph)',\n",
    "    'Local 10 (mph)',\n",
    "    'Fwy 1 (mph)',\n",
    "    'Fwy 4 (mph)'\n",
    "]\n",
    "final_pm25_TravelTime = final_pm25_TravelTime.loc[:, col_vals_2]\n",
    "if SAVE_TABLES:\n",
    "    final_pm25_TravelTime.to_csv('../data/complete_sets/full_pm25_TravelTime.csv')\n",
    "\n",
    "final_pm25_TravelTime.info()\n",
    "final_pm25_TravelTime"
   ],
   "metadata": {
    "collapsed": false,
    "pycharm": {
     "name": "#%%\n"
    }
   }
  },
  {
   "cell_type": "code",
   "execution_count": null,
   "outputs": [],
   "source": [
    "print(f'Starting Data Points: {len(no2_pivot)}')\n",
    "final_no2_TrafficDensity = no2_pivot.merge(openWeather_data_interp,\n",
    "                                           left_index=True, right_index=True)\n",
    "print(f'    Data Points: {len(final_no2_TrafficDensity)} - Merged OpenWeather with NO2 Data')\n",
    "final_no2_TrafficDensity = final_no2_TrafficDensity.merge(carb_pm25_data_interp, left_index=True, right_index=True)\n",
    "print(f'    Data Points: {len(final_no2_TrafficDensity)} - Merged Carb with NO2 Data')\n",
    "final_no2_TrafficDensity=final_no2_TrafficDensity.merge(traffic_density,\n",
    "                                                        left_index=True,right_index=True)\n",
    "print(f'    Data Points: {len(final_no2_TrafficDensity)} - Merged Carb Trraffic Density with NO2 Data')\n",
    "final_no2_TrafficDensity.reset_index('datetime-America/Los_Angeles',inplace=True)\n",
    "final_no2_TrafficDensity = dtk.df_decomposeDT(final_no2_TrafficDensity,0)\n",
    "final_no2_TrafficDensity.drop(\n",
    "    columns=['timezone','week of year'],\n",
    "    inplace=True\n",
    ")\n",
    "final_no2_TrafficDensity.set_index('datetime-America/Los_Angeles',inplace=True)\n",
    "final_no2_TrafficDensity = pd.get_dummies(final_no2_TrafficDensity,columns=['dayofweek'])\n",
    "\n",
    "# TODO: Get NO2 Background Data and Reorder Data"
   ],
   "metadata": {
    "collapsed": false,
    "pycharm": {
     "name": "#%%\n"
    }
   }
  },
  {
   "cell_type": "markdown",
   "source": [
    "***\n",
    "## __Split by Sensor__\n",
    "***"
   ],
   "metadata": {
    "collapsed": false,
    "pycharm": {
     "name": "#%% md\n"
    }
   }
  },
  {
   "cell_type": "code",
   "execution_count": null,
   "outputs": [],
   "source": [
    "chicago_drop = ['Cranford PM2.5 [ug/m3]', 'Iowa PM2.5 [ug/m3]', 'Magnolia PM2.5 [ug/m3]']\n",
    "chicago = final_pm25_TrafficDensity.drop(columns=chicago_drop)\n",
    "chicago_2 = final_pm25_TravelTime.drop(columns=chicago_drop)\n",
    "if SAVE_TABLES:\n",
    "    chicago.to_csv('../data/complete_sets/chicago/chicago_full_pm25.csv')\n",
    "    chicago_2.to_csv('../data/complete_sets/chicago/chicago_full_pm25_TravelTime.csv')"
   ],
   "metadata": {
    "collapsed": false,
    "pycharm": {
     "name": "#%%\n"
    }
   }
  },
  {
   "cell_type": "code",
   "execution_count": null,
   "outputs": [],
   "source": [
    "cranford_drop = ['Chicago PM2.5 [ug/m3]', 'Iowa PM2.5 [ug/m3]', 'Magnolia PM2.5 [ug/m3]']\n",
    "cranford = final_pm25_TrafficDensity.drop(columns=cranford_drop)\n",
    "cranford_2 = final_pm25_TravelTime.drop(columns=cranford_drop)\n",
    "if SAVE_TABLES:\n",
    "    cranford.to_csv('../data/complete_sets/cranford/cranford_full_pm25.csv')\n",
    "    cranford_2.to_csv('../data/complete_sets/cranford/cranford_full_pm25_TravelTime.csv')"
   ],
   "metadata": {
    "collapsed": false,
    "pycharm": {
     "name": "#%%\n"
    }
   }
  },
  {
   "cell_type": "code",
   "execution_count": null,
   "outputs": [],
   "source": [
    "iowa_drop = ['Chicago PM2.5 [ug/m3]', 'Cranford PM2.5 [ug/m3]', 'Magnolia PM2.5 [ug/m3]']\n",
    "iowa = final_pm25_TrafficDensity.drop(columns=iowa_drop)\n",
    "iowa_2 = final_pm25_TravelTime.drop(columns=iowa_drop)\n",
    "if SAVE_TABLES:\n",
    "    iowa.to_csv('../data/complete_sets/iowa/iowa_full_pm25.csv')\n",
    "    iowa_2.to_csv('../data/complete_sets/iowa/iowa_full_pm25_TravelTime.csv')"
   ],
   "metadata": {
    "collapsed": false,
    "pycharm": {
     "name": "#%%\n"
    }
   }
  },
  {
   "cell_type": "code",
   "execution_count": null,
   "outputs": [],
   "source": [
    "magnolia_drop = ['Iowa PM2.5 [ug/m3]', 'Cranford PM2.5 [ug/m3]', 'Chicago PM2.5 [ug/m3]']\n",
    "magnolia = final_pm25_TrafficDensity.drop(columns=magnolia_drop)\n",
    "magnolia_2 = final_pm25_TravelTime.drop(columns=magnolia_drop)\n",
    "if SAVE_TABLES:\n",
    "    magnolia.to_csv('../data/complete_sets/magnolia/magnolia_full_pm25.csv')\n",
    "    magnolia_2.to_csv('../data/complete_sets/magnolia/magnolia_full_pm25_TravelTime.csv')"
   ],
   "metadata": {
    "collapsed": false,
    "pycharm": {
     "name": "#%%\n"
    }
   }
  }
 ],
 "metadata": {
  "kernelspec": {
   "name": "base",
   "language": "python",
   "display_name": "base"
  },
  "language_info": {
   "codemirror_mode": {
    "name": "ipython",
    "version": 2
   },
   "file_extension": ".py",
   "mimetype": "text/x-python",
   "name": "python",
   "nbconvert_exporter": "python",
   "pygments_lexer": "ipython2",
   "version": "2.7.6"
  }
 },
 "nbformat": 4,
 "nbformat_minor": 0
}