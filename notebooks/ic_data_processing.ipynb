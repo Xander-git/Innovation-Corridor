{
 "cells": [
  {
   "cell_type": "markdown",
   "source": [
    "***\n",
    "## __Imports__\n",
    "***"
   ],
   "metadata": {
    "collapsed": false,
    "pycharm": {
     "name": "#%% md\n"
    }
   }
  },
  {
   "cell_type": "code",
   "execution_count": 1,
   "metadata": {
    "collapsed": true
   },
   "outputs": [],
   "source": [
    "# -*- coding: utf-8 -*-\n",
    "import os\n",
    "\n",
    "import pandas as pd\n",
    "\n",
    "from aqmd_pylib.aqmd_lib import data_toolkit as dtk\n",
    "from aqmd_pylib.aqmd_lib import util\n",
    "from aqmd_pylib.aqmd_lib.util import nLoop\n",
    "\n",
    "from PyScripts import InnovCorridor_CodeKit as ic"
   ]
  },
  {
   "cell_type": "markdown",
   "source": [
    "***\n",
    "## __Settings and File Paths__\n",
    "***"
   ],
   "metadata": {
    "collapsed": false,
    "pycharm": {
     "name": "#%% md\n"
    }
   }
  },
  {
   "cell_type": "code",
   "execution_count": 2,
   "outputs": [],
   "source": [
    "SAVE_TABLES = False\n",
    "SAVE_GRAPHS = False\n",
    "\n",
    "fPath_background_pm25 = r'../data/~originals/CARB/RUBIDOUX_PM25HR_PICKDATA_2021-10-31.csv'\n",
    "fPath_historicalClarity = r'../data/~originals/Clarity_Originals/historical_pm25cal_highres.csv'\n",
    "fPath_metadata = r'../data/metadata/metadata.xlsx'\n",
    "fPath_weatherData = r'..\\data\\~originals\\OpenWeather Data\\OpenWeather_September_2020_to_September_2021.csv'\n",
    "fpath_no2 = r'../data/~originals/Clarity_Originals/ucr_no2_unaveraged.csv'\n",
    "fpath_background_no2 = r'../data/~originals/CARB/NO2_PICKDATA_2021-11-30.csv'\n",
    "\n",
    "FPath_analysis = r'..\\Analysis'\n",
    "FPath_travelTime_csv = r'..\\data\\~originals\\travel_time_csv'\n",
    "FPath_clarity_originals_HighRes = r'../data/~originals/Clarity_Originals/HighRes'\n",
    "FPath_clarity_originals_hourly = r'../data/~originals/Clarity_Originals/Hourly'\n",
    "FPath_PEMS = '../data/~originals/pems_freeway/'\n",
    "FPath_GridSmart_csv = '../data/~originals/Gridsmart_originals/gridsmart_csv/'\n",
    "\n",
    "pd.set_option('display.max_columns', None)\n",
    "pd.set_option('display.width', None)\n",
    "pd.set_option('display.max_colwidth', None)"
   ],
   "metadata": {
    "collapsed": false,
    "pycharm": {
     "name": "#%%\n"
    }
   }
  },
  {
   "cell_type": "markdown",
   "source": [
    "***\n",
    "## __Metadata__\n",
    "***"
   ],
   "metadata": {
    "collapsed": false,
    "pycharm": {
     "name": "#%% md\n"
    }
   }
  },
  {
   "cell_type": "code",
   "execution_count": 3,
   "outputs": [
    {
     "data": {
      "text/plain": "   sensorID  nickname          Cross Streets   Latitude   Longitude  \\\n0  ARHF78W6  Magnolia       Magnolia & Tyler  33.911928 -117.461394   \n1  AY3HFT4R      Iowa      Iowa & University  33.975591 -117.339897   \n2  AGJ1PPLJ   Chicago   Chicago & University  33.975566 -117.348524   \n3  A4T789S6  Cranford  Cranford & University  33.975624 -117.344182   \n\n   Cardinal Relation  \n0                NaN  \n1                NaN  \n2                NaN  \n3                NaN  ",
      "text/html": "<div>\n<style scoped>\n    .dataframe tbody tr th:only-of-type {\n        vertical-align: middle;\n    }\n\n    .dataframe tbody tr th {\n        vertical-align: top;\n    }\n\n    .dataframe thead th {\n        text-align: right;\n    }\n</style>\n<table border=\"1\" class=\"dataframe\">\n  <thead>\n    <tr style=\"text-align: right;\">\n      <th></th>\n      <th>sensorID</th>\n      <th>nickname</th>\n      <th>Cross Streets</th>\n      <th>Latitude</th>\n      <th>Longitude</th>\n      <th>Cardinal Relation</th>\n    </tr>\n  </thead>\n  <tbody>\n    <tr>\n      <th>0</th>\n      <td>ARHF78W6</td>\n      <td>Magnolia</td>\n      <td>Magnolia &amp; Tyler</td>\n      <td>33.911928</td>\n      <td>-117.461394</td>\n      <td>NaN</td>\n    </tr>\n    <tr>\n      <th>1</th>\n      <td>AY3HFT4R</td>\n      <td>Iowa</td>\n      <td>Iowa &amp; University</td>\n      <td>33.975591</td>\n      <td>-117.339897</td>\n      <td>NaN</td>\n    </tr>\n    <tr>\n      <th>2</th>\n      <td>AGJ1PPLJ</td>\n      <td>Chicago</td>\n      <td>Chicago &amp; University</td>\n      <td>33.975566</td>\n      <td>-117.348524</td>\n      <td>NaN</td>\n    </tr>\n    <tr>\n      <th>3</th>\n      <td>A4T789S6</td>\n      <td>Cranford</td>\n      <td>Cranford &amp; University</td>\n      <td>33.975624</td>\n      <td>-117.344182</td>\n      <td>NaN</td>\n    </tr>\n  </tbody>\n</table>\n</div>"
     },
     "execution_count": 3,
     "metadata": {},
     "output_type": "execute_result"
    }
   ],
   "source": [
    "clarity_metadata = pd.read_excel(fPath_metadata, sheet_name='ClaritySensors', header=0)\n",
    "clarity_metadata"
   ],
   "metadata": {
    "collapsed": false,
    "pycharm": {
     "name": "#%%\n"
    }
   }
  },
  {
   "cell_type": "code",
   "execution_count": 4,
   "outputs": [
    {
     "data": {
      "text/plain": "   pathID      Name  Distance(m) Start Node  \\\n0    HEW1   Local 1          836         H6   \n1    HEW2   Local 2          893         H5   \n2    HEW3   Local 3          829         H4   \n3    HEW4   Local 4          490         H3   \n4    HEW5   Local 5          929         H2   \n5    HWE1   Local 6          931         H1   \n6    HWE2   Local 7          491         H2   \n7    HWE3   Local 8          808         H3   \n8    HWE4   Local 9          918         H4   \n9    HWE5  Local 10          836         H5   \n10   FEW1     Fwy 1         2326         F1   \n11   FWE1     Fwy 2         2508         F3   \n12   FEW2     Fwy 3         2651         F2   \n13   FWE2     Fwy 4         2450         F4   \n\n                                                        Start Addreess  \\\n0                              948 University Ave, Riverside, CA 92507   \n1                             1426 University Ave, Riverside, CA 92507   \n2                     1889 University Ave STE 109, Riverside, CA 92507   \n3                             2460 University Ave, Riverside, CA 92507   \n4                             2980 University Ave, Riverside, CA 92507   \n5   Cesar E. Chavez Memorial, 3746 University Ave, Riverside, CA 92501   \n6                             2980 University Ave, Riverside, CA 92507   \n7                             2460 University Ave, Riverside, CA 92507   \n8                     1889 University Ave STE 109, Riverside, CA 92507   \n9                             1426 University Ave, Riverside, CA 92507   \n10                    888 Martin Luther King Blvd, Riverside, CA 92507   \n11                                 3219 Spruce St, Riverside, CA 92501   \n12                         ARCO, 1360 W Blaine St, Riverside, CA 92507   \n13                            Subway, 3315 14th St, Riverside CA 92501   \n\n    Start Latitude  Start Longitude End Node  \\\n0         33.97580       -117.33385       H5   \n1         33.97570       -117.34262       H4   \n2         33.97614       -117.35254       H3   \n3         33.97574       -117.35254       H2   \n4         33.97768       -117.36593       H1   \n5         33.98211       -117.37477       H2   \n6         33.97768       -117.36593       H3   \n7         33.97574       -117.35254       H4   \n8         33.97614       -117.35254       H5   \n9         33.97570       -117.34262       H6   \n10        33.96839       -117.33035       F3   \n11        33.99191       -117.36048       F1   \n12        33.98279       -117.34147       F4   \n13        33.97471       -117.37386       F2   \n\n                                                           End Address  \\\n0                             1426 University Ave, Riverside, CA 92507   \n1                     1889 University Ave STE 109, Riverside, CA 92507   \n2                             2460 University Ave, Riverside, CA 92507   \n3                             2980 University Ave, Riverside, CA 92507   \n4   Cesar E. Chavez Memorial, 3746 University Ave, Riverside, CA 92501   \n5                             2980 University Ave, Riverside, CA 92507   \n6                             2460 University Ave, Riverside, CA 92507   \n7                     1889 University Ave STE 109, Riverside, CA 92507   \n8                             1426 University Ave, Riverside, CA 92507   \n9                              948 University Ave, Riverside, CA 92507   \n10                                 3219 Spruce St, Riverside, CA 92501   \n11                    888 Martin Luther King Blvd, Riverside, CA 92507   \n12                            Subway, 3315 14th St, Riverside CA 92501   \n13                         ARCO, 1360 W Blaine St, Riverside, CA 92507   \n\n    End Latitude  End Longitude                Path Info  Cardinal Relation  \n0       33.97570     -117.34262   WB Innovation Corridor                NaN  \n1       33.97614     -117.35254   WB Innovation Corridor                NaN  \n2       33.97574     -117.35254   WB Innovation Corridor                NaN  \n3       33.97768     -117.36593   WB Innovation Corridor                NaN  \n4       33.98211     -117.37477   WB Innovation Corridor                NaN  \n5       33.97768     -117.36593  EB Innnovation Corridor                NaN  \n6       33.97574     -117.35254  EB Innnovation Corridor                NaN  \n7       33.97614     -117.35254  EB Innnovation Corridor                NaN  \n8       33.97570     -117.34262  EB Innnovation Corridor                NaN  \n9       33.97580     -117.33385  EB Innnovation Corridor                NaN  \n10      33.99191     -117.36048                 NB I-215                NaN  \n11      33.96839     -117.33035                 91 E Fwy                NaN  \n12      33.97471            NaN                 SB I-215                NaN  \n13      33.98279     -117.34147                 91 W Fwy                NaN  ",
      "text/html": "<div>\n<style scoped>\n    .dataframe tbody tr th:only-of-type {\n        vertical-align: middle;\n    }\n\n    .dataframe tbody tr th {\n        vertical-align: top;\n    }\n\n    .dataframe thead th {\n        text-align: right;\n    }\n</style>\n<table border=\"1\" class=\"dataframe\">\n  <thead>\n    <tr style=\"text-align: right;\">\n      <th></th>\n      <th>pathID</th>\n      <th>Name</th>\n      <th>Distance(m)</th>\n      <th>Start Node</th>\n      <th>Start Addreess</th>\n      <th>Start Latitude</th>\n      <th>Start Longitude</th>\n      <th>End Node</th>\n      <th>End Address</th>\n      <th>End Latitude</th>\n      <th>End Longitude</th>\n      <th>Path Info</th>\n      <th>Cardinal Relation</th>\n    </tr>\n  </thead>\n  <tbody>\n    <tr>\n      <th>0</th>\n      <td>HEW1</td>\n      <td>Local 1</td>\n      <td>836</td>\n      <td>H6</td>\n      <td>948 University Ave, Riverside, CA 92507</td>\n      <td>33.97580</td>\n      <td>-117.33385</td>\n      <td>H5</td>\n      <td>1426 University Ave, Riverside, CA 92507</td>\n      <td>33.97570</td>\n      <td>-117.34262</td>\n      <td>WB Innovation Corridor</td>\n      <td>NaN</td>\n    </tr>\n    <tr>\n      <th>1</th>\n      <td>HEW2</td>\n      <td>Local 2</td>\n      <td>893</td>\n      <td>H5</td>\n      <td>1426 University Ave, Riverside, CA 92507</td>\n      <td>33.97570</td>\n      <td>-117.34262</td>\n      <td>H4</td>\n      <td>1889 University Ave STE 109, Riverside, CA 92507</td>\n      <td>33.97614</td>\n      <td>-117.35254</td>\n      <td>WB Innovation Corridor</td>\n      <td>NaN</td>\n    </tr>\n    <tr>\n      <th>2</th>\n      <td>HEW3</td>\n      <td>Local 3</td>\n      <td>829</td>\n      <td>H4</td>\n      <td>1889 University Ave STE 109, Riverside, CA 92507</td>\n      <td>33.97614</td>\n      <td>-117.35254</td>\n      <td>H3</td>\n      <td>2460 University Ave, Riverside, CA 92507</td>\n      <td>33.97574</td>\n      <td>-117.35254</td>\n      <td>WB Innovation Corridor</td>\n      <td>NaN</td>\n    </tr>\n    <tr>\n      <th>3</th>\n      <td>HEW4</td>\n      <td>Local 4</td>\n      <td>490</td>\n      <td>H3</td>\n      <td>2460 University Ave, Riverside, CA 92507</td>\n      <td>33.97574</td>\n      <td>-117.35254</td>\n      <td>H2</td>\n      <td>2980 University Ave, Riverside, CA 92507</td>\n      <td>33.97768</td>\n      <td>-117.36593</td>\n      <td>WB Innovation Corridor</td>\n      <td>NaN</td>\n    </tr>\n    <tr>\n      <th>4</th>\n      <td>HEW5</td>\n      <td>Local 5</td>\n      <td>929</td>\n      <td>H2</td>\n      <td>2980 University Ave, Riverside, CA 92507</td>\n      <td>33.97768</td>\n      <td>-117.36593</td>\n      <td>H1</td>\n      <td>Cesar E. Chavez Memorial, 3746 University Ave, Riverside, CA 92501</td>\n      <td>33.98211</td>\n      <td>-117.37477</td>\n      <td>WB Innovation Corridor</td>\n      <td>NaN</td>\n    </tr>\n    <tr>\n      <th>5</th>\n      <td>HWE1</td>\n      <td>Local 6</td>\n      <td>931</td>\n      <td>H1</td>\n      <td>Cesar E. Chavez Memorial, 3746 University Ave, Riverside, CA 92501</td>\n      <td>33.98211</td>\n      <td>-117.37477</td>\n      <td>H2</td>\n      <td>2980 University Ave, Riverside, CA 92507</td>\n      <td>33.97768</td>\n      <td>-117.36593</td>\n      <td>EB Innnovation Corridor</td>\n      <td>NaN</td>\n    </tr>\n    <tr>\n      <th>6</th>\n      <td>HWE2</td>\n      <td>Local 7</td>\n      <td>491</td>\n      <td>H2</td>\n      <td>2980 University Ave, Riverside, CA 92507</td>\n      <td>33.97768</td>\n      <td>-117.36593</td>\n      <td>H3</td>\n      <td>2460 University Ave, Riverside, CA 92507</td>\n      <td>33.97574</td>\n      <td>-117.35254</td>\n      <td>EB Innnovation Corridor</td>\n      <td>NaN</td>\n    </tr>\n    <tr>\n      <th>7</th>\n      <td>HWE3</td>\n      <td>Local 8</td>\n      <td>808</td>\n      <td>H3</td>\n      <td>2460 University Ave, Riverside, CA 92507</td>\n      <td>33.97574</td>\n      <td>-117.35254</td>\n      <td>H4</td>\n      <td>1889 University Ave STE 109, Riverside, CA 92507</td>\n      <td>33.97614</td>\n      <td>-117.35254</td>\n      <td>EB Innnovation Corridor</td>\n      <td>NaN</td>\n    </tr>\n    <tr>\n      <th>8</th>\n      <td>HWE4</td>\n      <td>Local 9</td>\n      <td>918</td>\n      <td>H4</td>\n      <td>1889 University Ave STE 109, Riverside, CA 92507</td>\n      <td>33.97614</td>\n      <td>-117.35254</td>\n      <td>H5</td>\n      <td>1426 University Ave, Riverside, CA 92507</td>\n      <td>33.97570</td>\n      <td>-117.34262</td>\n      <td>EB Innnovation Corridor</td>\n      <td>NaN</td>\n    </tr>\n    <tr>\n      <th>9</th>\n      <td>HWE5</td>\n      <td>Local 10</td>\n      <td>836</td>\n      <td>H5</td>\n      <td>1426 University Ave, Riverside, CA 92507</td>\n      <td>33.97570</td>\n      <td>-117.34262</td>\n      <td>H6</td>\n      <td>948 University Ave, Riverside, CA 92507</td>\n      <td>33.97580</td>\n      <td>-117.33385</td>\n      <td>EB Innnovation Corridor</td>\n      <td>NaN</td>\n    </tr>\n    <tr>\n      <th>10</th>\n      <td>FEW1</td>\n      <td>Fwy 1</td>\n      <td>2326</td>\n      <td>F1</td>\n      <td>888 Martin Luther King Blvd, Riverside, CA 92507</td>\n      <td>33.96839</td>\n      <td>-117.33035</td>\n      <td>F3</td>\n      <td>3219 Spruce St, Riverside, CA 92501</td>\n      <td>33.99191</td>\n      <td>-117.36048</td>\n      <td>NB I-215</td>\n      <td>NaN</td>\n    </tr>\n    <tr>\n      <th>11</th>\n      <td>FWE1</td>\n      <td>Fwy 2</td>\n      <td>2508</td>\n      <td>F3</td>\n      <td>3219 Spruce St, Riverside, CA 92501</td>\n      <td>33.99191</td>\n      <td>-117.36048</td>\n      <td>F1</td>\n      <td>888 Martin Luther King Blvd, Riverside, CA 92507</td>\n      <td>33.96839</td>\n      <td>-117.33035</td>\n      <td>91 E Fwy</td>\n      <td>NaN</td>\n    </tr>\n    <tr>\n      <th>12</th>\n      <td>FEW2</td>\n      <td>Fwy 3</td>\n      <td>2651</td>\n      <td>F2</td>\n      <td>ARCO, 1360 W Blaine St, Riverside, CA 92507</td>\n      <td>33.98279</td>\n      <td>-117.34147</td>\n      <td>F4</td>\n      <td>Subway, 3315 14th St, Riverside CA 92501</td>\n      <td>33.97471</td>\n      <td>NaN</td>\n      <td>SB I-215</td>\n      <td>NaN</td>\n    </tr>\n    <tr>\n      <th>13</th>\n      <td>FWE2</td>\n      <td>Fwy 4</td>\n      <td>2450</td>\n      <td>F4</td>\n      <td>Subway, 3315 14th St, Riverside CA 92501</td>\n      <td>33.97471</td>\n      <td>-117.37386</td>\n      <td>F2</td>\n      <td>ARCO, 1360 W Blaine St, Riverside, CA 92507</td>\n      <td>33.98279</td>\n      <td>-117.34147</td>\n      <td>91 W Fwy</td>\n      <td>NaN</td>\n    </tr>\n  </tbody>\n</table>\n</div>"
     },
     "execution_count": 4,
     "metadata": {},
     "output_type": "execute_result"
    }
   ],
   "source": [
    "travelPath_metadata = pd.read_excel(fPath_metadata, sheet_name='TravelPaths', header=0)\n",
    "travelPath_metadata"
   ],
   "metadata": {
    "collapsed": false,
    "pycharm": {
     "name": "#%%\n"
    }
   }
  },
  {
   "cell_type": "code",
   "execution_count": 5,
   "outputs": [
    {
     "data": {
      "text/plain": "  nodeID                                                             Address  \\\n0     H1  Cesar E. Chavez Memorial, 3746 University Ave, Riverside, CA 92501   \n1     H2                            2980 University Ave, Riverside, CA 92507   \n2     H3                            2460 University Ave, Riverside, CA 92507   \n3     H4                    1889 University Ave STE 109, Riverside, CA 92507   \n4     H5                            1426 University Ave, Riverside, CA 92507   \n5     H6                             948 University Ave, Riverside, CA 92507   \n6     F1                    888 Martin Luther King Blvd, Riverside, CA 92507   \n7     F2                         ARCO, 1360 W Blaine St, Riverside, CA 92507   \n8     F3                                 3219 Spruce St, Riverside, CA 92501   \n9     F4                            Subway, 3315 14th St, Riverside CA 92501   \n\n   Latitude  Longitude  \n0  33.98211 -117.37477  \n1  33.97768 -117.36593  \n2  33.97574 -117.35254  \n3  33.97614 -117.35254  \n4  33.97570 -117.34262  \n5  33.97580 -117.33385  \n6  33.96839 -117.33035  \n7  33.98279 -117.34147  \n8  33.99191 -117.36048  \n9  33.97471 -117.37386  ",
      "text/html": "<div>\n<style scoped>\n    .dataframe tbody tr th:only-of-type {\n        vertical-align: middle;\n    }\n\n    .dataframe tbody tr th {\n        vertical-align: top;\n    }\n\n    .dataframe thead th {\n        text-align: right;\n    }\n</style>\n<table border=\"1\" class=\"dataframe\">\n  <thead>\n    <tr style=\"text-align: right;\">\n      <th></th>\n      <th>nodeID</th>\n      <th>Address</th>\n      <th>Latitude</th>\n      <th>Longitude</th>\n    </tr>\n  </thead>\n  <tbody>\n    <tr>\n      <th>0</th>\n      <td>H1</td>\n      <td>Cesar E. Chavez Memorial, 3746 University Ave, Riverside, CA 92501</td>\n      <td>33.98211</td>\n      <td>-117.37477</td>\n    </tr>\n    <tr>\n      <th>1</th>\n      <td>H2</td>\n      <td>2980 University Ave, Riverside, CA 92507</td>\n      <td>33.97768</td>\n      <td>-117.36593</td>\n    </tr>\n    <tr>\n      <th>2</th>\n      <td>H3</td>\n      <td>2460 University Ave, Riverside, CA 92507</td>\n      <td>33.97574</td>\n      <td>-117.35254</td>\n    </tr>\n    <tr>\n      <th>3</th>\n      <td>H4</td>\n      <td>1889 University Ave STE 109, Riverside, CA 92507</td>\n      <td>33.97614</td>\n      <td>-117.35254</td>\n    </tr>\n    <tr>\n      <th>4</th>\n      <td>H5</td>\n      <td>1426 University Ave, Riverside, CA 92507</td>\n      <td>33.97570</td>\n      <td>-117.34262</td>\n    </tr>\n    <tr>\n      <th>5</th>\n      <td>H6</td>\n      <td>948 University Ave, Riverside, CA 92507</td>\n      <td>33.97580</td>\n      <td>-117.33385</td>\n    </tr>\n    <tr>\n      <th>6</th>\n      <td>F1</td>\n      <td>888 Martin Luther King Blvd, Riverside, CA 92507</td>\n      <td>33.96839</td>\n      <td>-117.33035</td>\n    </tr>\n    <tr>\n      <th>7</th>\n      <td>F2</td>\n      <td>ARCO, 1360 W Blaine St, Riverside, CA 92507</td>\n      <td>33.98279</td>\n      <td>-117.34147</td>\n    </tr>\n    <tr>\n      <th>8</th>\n      <td>F3</td>\n      <td>3219 Spruce St, Riverside, CA 92501</td>\n      <td>33.99191</td>\n      <td>-117.36048</td>\n    </tr>\n    <tr>\n      <th>9</th>\n      <td>F4</td>\n      <td>Subway, 3315 14th St, Riverside CA 92501</td>\n      <td>33.97471</td>\n      <td>-117.37386</td>\n    </tr>\n  </tbody>\n</table>\n</div>"
     },
     "execution_count": 5,
     "metadata": {},
     "output_type": "execute_result"
    }
   ],
   "source": [
    "travelNode_metadata = pd.read_excel(fPath_metadata, sheet_name='TravelNodes', header=0)\n",
    "travelNode_metadata"
   ],
   "metadata": {
    "collapsed": false,
    "pycharm": {
     "name": "#%%\n"
    }
   }
  },
  {
   "cell_type": "markdown",
   "source": [],
   "metadata": {
    "collapsed": false
   }
  },
  {
   "cell_type": "markdown",
   "source": [
    "***\n",
    "# __Background Concentration__\n",
    "Source: California Air Research Board (CARB)\n",
    "    Hourly: The hourly average of the pollutant\n",
    "    HighRes: The average concentration of the pollutant for the hour resampled and forward filled across 15 minute intervals\n",
    "***\n",
    "> ## __Background PM2.5__\n",
    "***"
   ],
   "metadata": {
    "collapsed": false,
    "pycharm": {
     "name": "#%% md\n"
    }
   }
  },
  {
   "cell_type": "code",
   "execution_count": 6,
   "outputs": [
    {
     "name": "stdout",
     "output_type": "stream",
     "text": [
      "<class 'pandas.core.frame.DataFrame'>\n",
      "DatetimeIndex: 6662 entries, 2021-01-01 00:00:00-08:00 to 2021-10-31 23:00:00-07:00\n",
      "Data columns (total 1 columns):\n",
      " #   Column                    Non-Null Count  Dtype  \n",
      "---  ------                    --------------  -----  \n",
      " 0   Background PM2.5 [ug/m3]  6662 non-null   float64\n",
      "dtypes: float64(1)\n",
      "memory usage: 104.1 KB\n"
     ]
    },
    {
     "data": {
      "text/plain": "                              Background PM2.5 [ug/m3]\ndatetime-America/Los_Angeles                          \n2021-01-01 00:00:00-08:00                          2.0\n2021-01-01 01:00:00-08:00                          1.0\n2021-01-01 02:00:00-08:00                         -2.0\n2021-01-01 03:00:00-08:00                         -1.0\n2021-01-01 04:00:00-08:00                          1.0\n...                                                ...\n2021-10-31 19:00:00-07:00                          8.0\n2021-10-31 20:00:00-07:00                         17.0\n2021-10-31 21:00:00-07:00                         19.0\n2021-10-31 22:00:00-07:00                         16.0\n2021-10-31 23:00:00-07:00                         19.0\n\n[6662 rows x 1 columns]",
      "text/html": "<div>\n<style scoped>\n    .dataframe tbody tr th:only-of-type {\n        vertical-align: middle;\n    }\n\n    .dataframe tbody tr th {\n        vertical-align: top;\n    }\n\n    .dataframe thead th {\n        text-align: right;\n    }\n</style>\n<table border=\"1\" class=\"dataframe\">\n  <thead>\n    <tr style=\"text-align: right;\">\n      <th></th>\n      <th>Background PM2.5 [ug/m3]</th>\n    </tr>\n    <tr>\n      <th>datetime-America/Los_Angeles</th>\n      <th></th>\n    </tr>\n  </thead>\n  <tbody>\n    <tr>\n      <th>2021-01-01 00:00:00-08:00</th>\n      <td>2.0</td>\n    </tr>\n    <tr>\n      <th>2021-01-01 01:00:00-08:00</th>\n      <td>1.0</td>\n    </tr>\n    <tr>\n      <th>2021-01-01 02:00:00-08:00</th>\n      <td>-2.0</td>\n    </tr>\n    <tr>\n      <th>2021-01-01 03:00:00-08:00</th>\n      <td>-1.0</td>\n    </tr>\n    <tr>\n      <th>2021-01-01 04:00:00-08:00</th>\n      <td>1.0</td>\n    </tr>\n    <tr>\n      <th>...</th>\n      <td>...</td>\n    </tr>\n    <tr>\n      <th>2021-10-31 19:00:00-07:00</th>\n      <td>8.0</td>\n    </tr>\n    <tr>\n      <th>2021-10-31 20:00:00-07:00</th>\n      <td>17.0</td>\n    </tr>\n    <tr>\n      <th>2021-10-31 21:00:00-07:00</th>\n      <td>19.0</td>\n    </tr>\n    <tr>\n      <th>2021-10-31 22:00:00-07:00</th>\n      <td>16.0</td>\n    </tr>\n    <tr>\n      <th>2021-10-31 23:00:00-07:00</th>\n      <td>19.0</td>\n    </tr>\n  </tbody>\n</table>\n<p>6662 rows × 1 columns</p>\n</div>"
     },
     "execution_count": 6,
     "metadata": {},
     "output_type": "execute_result"
    }
   ],
   "source": [
    "carb_pm25 = pd.read_csv(fPath_background_pm25)\n",
    "carb_pm25 = ic.carb_PM25(carb_pm25)\n",
    "carb_pm25_data = carb_pm25.get_data()\n",
    "if SAVE_TABLES:\n",
    "    carb_pm25_data.to_csv('../data/CARB/Rubidoux_Background_PM2.5_Hourly.csv')\n",
    "carb_pm25_data.info()\n",
    "carb_pm25_data"
   ],
   "metadata": {
    "collapsed": false,
    "pycharm": {
     "name": "#%%\n"
    }
   }
  },
  {
   "cell_type": "code",
   "execution_count": 7,
   "outputs": [
    {
     "name": "stdout",
     "output_type": "stream",
     "text": [
      "<class 'pandas.core.frame.DataFrame'>\n",
      "DatetimeIndex: 29177 entries, 2021-01-01 00:00:00-08:00 to 2021-10-31 23:00:00-07:00\n",
      "Freq: 15T\n",
      "Data columns (total 1 columns):\n",
      " #   Column                    Non-Null Count  Dtype  \n",
      "---  ------                    --------------  -----  \n",
      " 0   Background PM2.5 [ug/m3]  29177 non-null  float64\n",
      "dtypes: float64(1)\n",
      "memory usage: 455.9 KB\n"
     ]
    },
    {
     "data": {
      "text/plain": "                              Background PM2.5 [ug/m3]\ndatetime-America/Los_Angeles                          \n2021-01-01 00:00:00-08:00                          2.0\n2021-01-01 00:15:00-08:00                          2.0\n2021-01-01 00:30:00-08:00                          2.0\n2021-01-01 00:45:00-08:00                          2.0\n2021-01-01 01:00:00-08:00                          1.0\n...                                                ...\n2021-10-31 22:00:00-07:00                         16.0\n2021-10-31 22:15:00-07:00                         16.0\n2021-10-31 22:30:00-07:00                         16.0\n2021-10-31 22:45:00-07:00                         16.0\n2021-10-31 23:00:00-07:00                         19.0\n\n[29177 rows x 1 columns]",
      "text/html": "<div>\n<style scoped>\n    .dataframe tbody tr th:only-of-type {\n        vertical-align: middle;\n    }\n\n    .dataframe tbody tr th {\n        vertical-align: top;\n    }\n\n    .dataframe thead th {\n        text-align: right;\n    }\n</style>\n<table border=\"1\" class=\"dataframe\">\n  <thead>\n    <tr style=\"text-align: right;\">\n      <th></th>\n      <th>Background PM2.5 [ug/m3]</th>\n    </tr>\n    <tr>\n      <th>datetime-America/Los_Angeles</th>\n      <th></th>\n    </tr>\n  </thead>\n  <tbody>\n    <tr>\n      <th>2021-01-01 00:00:00-08:00</th>\n      <td>2.0</td>\n    </tr>\n    <tr>\n      <th>2021-01-01 00:15:00-08:00</th>\n      <td>2.0</td>\n    </tr>\n    <tr>\n      <th>2021-01-01 00:30:00-08:00</th>\n      <td>2.0</td>\n    </tr>\n    <tr>\n      <th>2021-01-01 00:45:00-08:00</th>\n      <td>2.0</td>\n    </tr>\n    <tr>\n      <th>2021-01-01 01:00:00-08:00</th>\n      <td>1.0</td>\n    </tr>\n    <tr>\n      <th>...</th>\n      <td>...</td>\n    </tr>\n    <tr>\n      <th>2021-10-31 22:00:00-07:00</th>\n      <td>16.0</td>\n    </tr>\n    <tr>\n      <th>2021-10-31 22:15:00-07:00</th>\n      <td>16.0</td>\n    </tr>\n    <tr>\n      <th>2021-10-31 22:30:00-07:00</th>\n      <td>16.0</td>\n    </tr>\n    <tr>\n      <th>2021-10-31 22:45:00-07:00</th>\n      <td>16.0</td>\n    </tr>\n    <tr>\n      <th>2021-10-31 23:00:00-07:00</th>\n      <td>19.0</td>\n    </tr>\n  </tbody>\n</table>\n<p>29177 rows × 1 columns</p>\n</div>"
     },
     "execution_count": 7,
     "metadata": {},
     "output_type": "execute_result"
    }
   ],
   "source": [
    "carb_pm25_data_interp = carb_pm25_data.resample('15T')\n",
    "carb_pm25_data_interp = carb_pm25_data_interp.ffill()\n",
    "carb_pm25_data_interp = carb_pm25_data_interp[~carb_pm25_data_interp.index.duplicated()]\n",
    "if SAVE_TABLES:\n",
    "    carb_pm25_data_interp.to_csv('../data/CARB/Rubidoux_Background_pm25_HighRes.csv')\n",
    "carb_pm25_data_interp.info()\n",
    "carb_pm25_data_interp"
   ],
   "metadata": {
    "collapsed": false,
    "pycharm": {
     "name": "#%%\n"
    }
   }
  },
  {
   "cell_type": "markdown",
   "source": [
    "***\n",
    "> ## __Background NO2__\n",
    "***"
   ],
   "metadata": {
    "collapsed": false,
    "pycharm": {
     "name": "#%% md\n"
    }
   }
  },
  {
   "cell_type": "code",
   "execution_count": 8,
   "outputs": [
    {
     "name": "stdout",
     "output_type": "stream",
     "text": [
      "<class 'pandas.core.frame.DataFrame'>\n",
      "DatetimeIndex: 7600 entries, 2021-01-01 00:00:00-08:00 to 2021-11-30 23:00:00-08:00\n",
      "Data columns (total 1 columns):\n",
      " #   Column                Non-Null Count  Dtype  \n",
      "---  ------                --------------  -----  \n",
      " 0   Background NO2 [ppb]  7600 non-null   float64\n",
      "dtypes: float64(1)\n",
      "memory usage: 118.8 KB\n"
     ]
    },
    {
     "data": {
      "text/plain": "                              Background NO2 [ppb]\ndatetime-America/Los_Angeles                      \n2021-01-01 00:00:00-08:00                      1.3\n2021-01-01 01:00:00-08:00                      1.3\n2021-01-01 02:00:00-08:00                      1.5\n2021-01-01 03:00:00-08:00                      2.0\n2021-01-01 04:00:00-08:00                      2.2\n...                                            ...\n2021-11-30 19:00:00-08:00                     13.5\n2021-11-30 20:00:00-08:00                     39.9\n2021-11-30 21:00:00-08:00                     39.3\n2021-11-30 22:00:00-08:00                     34.9\n2021-11-30 23:00:00-08:00                     34.0\n\n[7600 rows x 1 columns]",
      "text/html": "<div>\n<style scoped>\n    .dataframe tbody tr th:only-of-type {\n        vertical-align: middle;\n    }\n\n    .dataframe tbody tr th {\n        vertical-align: top;\n    }\n\n    .dataframe thead th {\n        text-align: right;\n    }\n</style>\n<table border=\"1\" class=\"dataframe\">\n  <thead>\n    <tr style=\"text-align: right;\">\n      <th></th>\n      <th>Background NO2 [ppb]</th>\n    </tr>\n    <tr>\n      <th>datetime-America/Los_Angeles</th>\n      <th></th>\n    </tr>\n  </thead>\n  <tbody>\n    <tr>\n      <th>2021-01-01 00:00:00-08:00</th>\n      <td>1.3</td>\n    </tr>\n    <tr>\n      <th>2021-01-01 01:00:00-08:00</th>\n      <td>1.3</td>\n    </tr>\n    <tr>\n      <th>2021-01-01 02:00:00-08:00</th>\n      <td>1.5</td>\n    </tr>\n    <tr>\n      <th>2021-01-01 03:00:00-08:00</th>\n      <td>2.0</td>\n    </tr>\n    <tr>\n      <th>2021-01-01 04:00:00-08:00</th>\n      <td>2.2</td>\n    </tr>\n    <tr>\n      <th>...</th>\n      <td>...</td>\n    </tr>\n    <tr>\n      <th>2021-11-30 19:00:00-08:00</th>\n      <td>13.5</td>\n    </tr>\n    <tr>\n      <th>2021-11-30 20:00:00-08:00</th>\n      <td>39.9</td>\n    </tr>\n    <tr>\n      <th>2021-11-30 21:00:00-08:00</th>\n      <td>39.3</td>\n    </tr>\n    <tr>\n      <th>2021-11-30 22:00:00-08:00</th>\n      <td>34.9</td>\n    </tr>\n    <tr>\n      <th>2021-11-30 23:00:00-08:00</th>\n      <td>34.0</td>\n    </tr>\n  </tbody>\n</table>\n<p>7600 rows × 1 columns</p>\n</div>"
     },
     "execution_count": 8,
     "metadata": {},
     "output_type": "execute_result"
    }
   ],
   "source": [
    "carb_no2 = pd.read_csv(fpath_background_no2)\n",
    "carb_no2 = ic.carb_NO2(carb_no2)\n",
    "carb_no2_data = carb_no2.get_data()\n",
    "if SAVE_TABLES:\n",
    "    carb_no2_data.to_csv('../data/CARB/Rubidoux_Background_NO2_Hourly.csv')\n",
    "carb_no2_data.info()\n",
    "carb_no2_data"
   ],
   "metadata": {
    "collapsed": false,
    "pycharm": {
     "name": "#%%\n"
    }
   }
  },
  {
   "cell_type": "code",
   "execution_count": 9,
   "outputs": [
    {
     "name": "stdout",
     "output_type": "stream",
     "text": [
      "<class 'pandas.core.frame.DataFrame'>\n",
      "DatetimeIndex: 32061 entries, 2021-01-01 00:00:00-08:00 to 2021-11-30 23:00:00-08:00\n",
      "Freq: 15T\n",
      "Data columns (total 1 columns):\n",
      " #   Column                Non-Null Count  Dtype  \n",
      "---  ------                --------------  -----  \n",
      " 0   Background NO2 [ppb]  32061 non-null  float64\n",
      "dtypes: float64(1)\n",
      "memory usage: 501.0 KB\n"
     ]
    },
    {
     "data": {
      "text/plain": "                              Background NO2 [ppb]\ndatetime-America/Los_Angeles                      \n2021-01-01 00:00:00-08:00                      1.3\n2021-01-01 00:15:00-08:00                      1.3\n2021-01-01 00:30:00-08:00                      1.3\n2021-01-01 00:45:00-08:00                      1.3\n2021-01-01 01:00:00-08:00                      1.3\n...                                            ...\n2021-11-30 22:00:00-08:00                     34.9\n2021-11-30 22:15:00-08:00                     34.9\n2021-11-30 22:30:00-08:00                     34.9\n2021-11-30 22:45:00-08:00                     34.9\n2021-11-30 23:00:00-08:00                     34.0\n\n[32061 rows x 1 columns]",
      "text/html": "<div>\n<style scoped>\n    .dataframe tbody tr th:only-of-type {\n        vertical-align: middle;\n    }\n\n    .dataframe tbody tr th {\n        vertical-align: top;\n    }\n\n    .dataframe thead th {\n        text-align: right;\n    }\n</style>\n<table border=\"1\" class=\"dataframe\">\n  <thead>\n    <tr style=\"text-align: right;\">\n      <th></th>\n      <th>Background NO2 [ppb]</th>\n    </tr>\n    <tr>\n      <th>datetime-America/Los_Angeles</th>\n      <th></th>\n    </tr>\n  </thead>\n  <tbody>\n    <tr>\n      <th>2021-01-01 00:00:00-08:00</th>\n      <td>1.3</td>\n    </tr>\n    <tr>\n      <th>2021-01-01 00:15:00-08:00</th>\n      <td>1.3</td>\n    </tr>\n    <tr>\n      <th>2021-01-01 00:30:00-08:00</th>\n      <td>1.3</td>\n    </tr>\n    <tr>\n      <th>2021-01-01 00:45:00-08:00</th>\n      <td>1.3</td>\n    </tr>\n    <tr>\n      <th>2021-01-01 01:00:00-08:00</th>\n      <td>1.3</td>\n    </tr>\n    <tr>\n      <th>...</th>\n      <td>...</td>\n    </tr>\n    <tr>\n      <th>2021-11-30 22:00:00-08:00</th>\n      <td>34.9</td>\n    </tr>\n    <tr>\n      <th>2021-11-30 22:15:00-08:00</th>\n      <td>34.9</td>\n    </tr>\n    <tr>\n      <th>2021-11-30 22:30:00-08:00</th>\n      <td>34.9</td>\n    </tr>\n    <tr>\n      <th>2021-11-30 22:45:00-08:00</th>\n      <td>34.9</td>\n    </tr>\n    <tr>\n      <th>2021-11-30 23:00:00-08:00</th>\n      <td>34.0</td>\n    </tr>\n  </tbody>\n</table>\n<p>32061 rows × 1 columns</p>\n</div>"
     },
     "execution_count": 9,
     "metadata": {},
     "output_type": "execute_result"
    }
   ],
   "source": [
    "carb_no2_data_interp = carb_no2_data.resample('15T').ffill()\n",
    "carb_no2_data_interp = carb_no2_data_interp[~carb_no2_data_interp.index.duplicated()]\n",
    "if SAVE_TABLES:\n",
    "    carb_no2_data_interp.to_csv('../data/CARB/Rubidoux_Background_NO2_HighRes.csv')\n",
    "carb_no2_data_interp.info()\n",
    "carb_no2_data_interp"
   ],
   "metadata": {
    "collapsed": false,
    "pycharm": {
     "name": "#%%\n"
    }
   }
  },
  {
   "cell_type": "markdown",
   "source": [
    "***\n",
    "# __Hyperlocals Emmissions (Clarity)__\n",
    "***\n",
    "> ### __Historical Data__\n",
    "***"
   ],
   "metadata": {
    "collapsed": false,
    "pycharm": {
     "name": "#%% md\n"
    }
   }
  },
  {
   "cell_type": "code",
   "execution_count": 10,
   "outputs": [
    {
     "name": "stdout",
     "output_type": "stream",
     "text": [
      "<class 'pandas.core.frame.DataFrame'>\n",
      "DatetimeIndex: 88847 entries, 2020-09-29 12:05:00-07:00 to 2021-06-22 23:58:00-07:00\n",
      "Data columns (total 9 columns):\n",
      " #   Column                                                          Non-Null Count  Dtype  \n",
      "---  ------                                                          --------------  -----  \n",
      " 0   Sensor Name                                                     88847 non-null  object \n",
      " 1   Intersection                                                    88847 non-null  object \n",
      " 2   Device ID                                                       88847 non-null  object \n",
      " 3   Date                                                            88847 non-null  object \n",
      " 4   PM2.5 Highest Resolution Mass Concentration Calibrated [ug/m3]  88847 non-null  float64\n",
      " 5   Rel. Humidity Internal Highest Resolution [%]                   88847 non-null  float64\n",
      " 6   Temperature Internal Highest Resolution [degC]                  88847 non-null  float64\n",
      " 7   Latitude                                                        88847 non-null  float64\n",
      " 8   Longitude                                                       88847 non-null  float64\n",
      "dtypes: float64(5), object(4)\n",
      "memory usage: 6.8+ MB\n"
     ]
    },
    {
     "data": {
      "text/plain": "                             Sensor Name           Intersection Device ID  \\\ndatetime-America/Los_Angeles                                                \n2020-09-29 12:05:00-07:00       Magnolia       Magnolia & Tyler  ARHF78W6   \n2020-09-29 13:06:00-07:00       Magnolia       Magnolia & Tyler  ARHF78W6   \n2020-09-29 13:24:00-07:00       Magnolia       Magnolia & Tyler  ARHF78W6   \n2020-09-29 13:41:00-07:00       Magnolia       Magnolia & Tyler  ARHF78W6   \n2020-09-29 13:58:00-07:00       Magnolia       Magnolia & Tyler  ARHF78W6   \n...                                  ...                    ...       ...   \n2021-06-22 23:40:00-07:00        Chicago   Chicago & University  AGJ1PPLJ   \n2021-06-22 23:44:00-07:00       Magnolia       Magnolia & Tyler  ARHF78W6   \n2021-06-22 23:50:00-07:00           Iowa      Iowa & University  AY3HFT4R   \n2021-06-22 23:57:00-07:00       Cranford  Cranford & University  A4T789S6   \n2021-06-22 23:58:00-07:00        Chicago   Chicago & University  AGJ1PPLJ   \n\n                                         Date  \\\ndatetime-America/Los_Angeles                    \n2020-09-29 12:05:00-07:00     9/29/2020 12:05   \n2020-09-29 13:06:00-07:00     9/29/2020 13:06   \n2020-09-29 13:24:00-07:00     9/29/2020 13:24   \n2020-09-29 13:41:00-07:00     9/29/2020 13:41   \n2020-09-29 13:58:00-07:00     9/29/2020 13:58   \n...                                       ...   \n2021-06-22 23:40:00-07:00     6/22/2021 23:40   \n2021-06-22 23:44:00-07:00     6/22/2021 23:44   \n2021-06-22 23:50:00-07:00     6/22/2021 23:50   \n2021-06-22 23:57:00-07:00     6/22/2021 23:57   \n2021-06-22 23:58:00-07:00     6/22/2021 23:58   \n\n                              PM2.5 Highest Resolution Mass Concentration Calibrated [ug/m3]  \\\ndatetime-America/Los_Angeles                                                                   \n2020-09-29 12:05:00-07:00                                                           3.573135   \n2020-09-29 13:06:00-07:00                                                           2.654986   \n2020-09-29 13:24:00-07:00                                                           2.318490   \n2020-09-29 13:41:00-07:00                                                           2.023389   \n2020-09-29 13:58:00-07:00                                                           1.755854   \n...                                                                                      ...   \n2021-06-22 23:40:00-07:00                                                           7.240612   \n2021-06-22 23:44:00-07:00                                                           6.212309   \n2021-06-22 23:50:00-07:00                                                           6.210450   \n2021-06-22 23:57:00-07:00                                                           6.478580   \n2021-06-22 23:58:00-07:00                                                           7.816707   \n\n                              Rel. Humidity Internal Highest Resolution [%]  \\\ndatetime-America/Los_Angeles                                                  \n2020-09-29 12:05:00-07:00                                         25.265888   \n2020-09-29 13:06:00-07:00                                         22.885481   \n2020-09-29 13:24:00-07:00                                         22.088961   \n2020-09-29 13:41:00-07:00                                         23.118944   \n2020-09-29 13:58:00-07:00                                         21.947052   \n...                                                                     ...   \n2021-06-22 23:40:00-07:00                                         52.887772   \n2021-06-22 23:44:00-07:00                                         56.778820   \n2021-06-22 23:50:00-07:00                                         52.457466   \n2021-06-22 23:57:00-07:00                                         53.345539   \n2021-06-22 23:58:00-07:00                                         53.968109   \n\n                              Temperature Internal Highest Resolution [degC]  \\\ndatetime-America/Los_Angeles                                                   \n2020-09-29 12:05:00-07:00                                          34.912262   \n2020-09-29 13:06:00-07:00                                          38.290230   \n2020-09-29 13:24:00-07:00                                          38.768219   \n2020-09-29 13:41:00-07:00                                          38.981842   \n2020-09-29 13:58:00-07:00                                          39.166092   \n...                                                                      ...   \n2021-06-22 23:40:00-07:00                                          23.197525   \n2021-06-22 23:44:00-07:00                                          22.420464   \n2021-06-22 23:50:00-07:00                                          23.152130   \n2021-06-22 23:57:00-07:00                                          22.794312   \n2021-06-22 23:58:00-07:00                                          22.730217   \n\n                               Latitude   Longitude  \ndatetime-America/Los_Angeles                         \n2020-09-29 12:05:00-07:00     33.911928 -117.461394  \n2020-09-29 13:06:00-07:00     33.911928 -117.461394  \n2020-09-29 13:24:00-07:00     33.911928 -117.461394  \n2020-09-29 13:41:00-07:00     33.911928 -117.461394  \n2020-09-29 13:58:00-07:00     33.911928 -117.461394  \n...                                 ...         ...  \n2021-06-22 23:40:00-07:00     33.975566 -117.348524  \n2021-06-22 23:44:00-07:00     33.911928 -117.461394  \n2021-06-22 23:50:00-07:00     33.975591 -117.339897  \n2021-06-22 23:57:00-07:00     33.975624 -117.344182  \n2021-06-22 23:58:00-07:00     33.975566 -117.348524  \n\n[88847 rows x 9 columns]",
      "text/html": "<div>\n<style scoped>\n    .dataframe tbody tr th:only-of-type {\n        vertical-align: middle;\n    }\n\n    .dataframe tbody tr th {\n        vertical-align: top;\n    }\n\n    .dataframe thead th {\n        text-align: right;\n    }\n</style>\n<table border=\"1\" class=\"dataframe\">\n  <thead>\n    <tr style=\"text-align: right;\">\n      <th></th>\n      <th>Sensor Name</th>\n      <th>Intersection</th>\n      <th>Device ID</th>\n      <th>Date</th>\n      <th>PM2.5 Highest Resolution Mass Concentration Calibrated [ug/m3]</th>\n      <th>Rel. Humidity Internal Highest Resolution [%]</th>\n      <th>Temperature Internal Highest Resolution [degC]</th>\n      <th>Latitude</th>\n      <th>Longitude</th>\n    </tr>\n    <tr>\n      <th>datetime-America/Los_Angeles</th>\n      <th></th>\n      <th></th>\n      <th></th>\n      <th></th>\n      <th></th>\n      <th></th>\n      <th></th>\n      <th></th>\n      <th></th>\n    </tr>\n  </thead>\n  <tbody>\n    <tr>\n      <th>2020-09-29 12:05:00-07:00</th>\n      <td>Magnolia</td>\n      <td>Magnolia &amp; Tyler</td>\n      <td>ARHF78W6</td>\n      <td>9/29/2020 12:05</td>\n      <td>3.573135</td>\n      <td>25.265888</td>\n      <td>34.912262</td>\n      <td>33.911928</td>\n      <td>-117.461394</td>\n    </tr>\n    <tr>\n      <th>2020-09-29 13:06:00-07:00</th>\n      <td>Magnolia</td>\n      <td>Magnolia &amp; Tyler</td>\n      <td>ARHF78W6</td>\n      <td>9/29/2020 13:06</td>\n      <td>2.654986</td>\n      <td>22.885481</td>\n      <td>38.290230</td>\n      <td>33.911928</td>\n      <td>-117.461394</td>\n    </tr>\n    <tr>\n      <th>2020-09-29 13:24:00-07:00</th>\n      <td>Magnolia</td>\n      <td>Magnolia &amp; Tyler</td>\n      <td>ARHF78W6</td>\n      <td>9/29/2020 13:24</td>\n      <td>2.318490</td>\n      <td>22.088961</td>\n      <td>38.768219</td>\n      <td>33.911928</td>\n      <td>-117.461394</td>\n    </tr>\n    <tr>\n      <th>2020-09-29 13:41:00-07:00</th>\n      <td>Magnolia</td>\n      <td>Magnolia &amp; Tyler</td>\n      <td>ARHF78W6</td>\n      <td>9/29/2020 13:41</td>\n      <td>2.023389</td>\n      <td>23.118944</td>\n      <td>38.981842</td>\n      <td>33.911928</td>\n      <td>-117.461394</td>\n    </tr>\n    <tr>\n      <th>2020-09-29 13:58:00-07:00</th>\n      <td>Magnolia</td>\n      <td>Magnolia &amp; Tyler</td>\n      <td>ARHF78W6</td>\n      <td>9/29/2020 13:58</td>\n      <td>1.755854</td>\n      <td>21.947052</td>\n      <td>39.166092</td>\n      <td>33.911928</td>\n      <td>-117.461394</td>\n    </tr>\n    <tr>\n      <th>...</th>\n      <td>...</td>\n      <td>...</td>\n      <td>...</td>\n      <td>...</td>\n      <td>...</td>\n      <td>...</td>\n      <td>...</td>\n      <td>...</td>\n      <td>...</td>\n    </tr>\n    <tr>\n      <th>2021-06-22 23:40:00-07:00</th>\n      <td>Chicago</td>\n      <td>Chicago &amp; University</td>\n      <td>AGJ1PPLJ</td>\n      <td>6/22/2021 23:40</td>\n      <td>7.240612</td>\n      <td>52.887772</td>\n      <td>23.197525</td>\n      <td>33.975566</td>\n      <td>-117.348524</td>\n    </tr>\n    <tr>\n      <th>2021-06-22 23:44:00-07:00</th>\n      <td>Magnolia</td>\n      <td>Magnolia &amp; Tyler</td>\n      <td>ARHF78W6</td>\n      <td>6/22/2021 23:44</td>\n      <td>6.212309</td>\n      <td>56.778820</td>\n      <td>22.420464</td>\n      <td>33.911928</td>\n      <td>-117.461394</td>\n    </tr>\n    <tr>\n      <th>2021-06-22 23:50:00-07:00</th>\n      <td>Iowa</td>\n      <td>Iowa &amp; University</td>\n      <td>AY3HFT4R</td>\n      <td>6/22/2021 23:50</td>\n      <td>6.210450</td>\n      <td>52.457466</td>\n      <td>23.152130</td>\n      <td>33.975591</td>\n      <td>-117.339897</td>\n    </tr>\n    <tr>\n      <th>2021-06-22 23:57:00-07:00</th>\n      <td>Cranford</td>\n      <td>Cranford &amp; University</td>\n      <td>A4T789S6</td>\n      <td>6/22/2021 23:57</td>\n      <td>6.478580</td>\n      <td>53.345539</td>\n      <td>22.794312</td>\n      <td>33.975624</td>\n      <td>-117.344182</td>\n    </tr>\n    <tr>\n      <th>2021-06-22 23:58:00-07:00</th>\n      <td>Chicago</td>\n      <td>Chicago &amp; University</td>\n      <td>AGJ1PPLJ</td>\n      <td>6/22/2021 23:58</td>\n      <td>7.816707</td>\n      <td>53.968109</td>\n      <td>22.730217</td>\n      <td>33.975566</td>\n      <td>-117.348524</td>\n    </tr>\n  </tbody>\n</table>\n<p>88847 rows × 9 columns</p>\n</div>"
     },
     "execution_count": 10,
     "metadata": {},
     "output_type": "execute_result"
    }
   ],
   "source": [
    "historical_clarity = pd.read_csv(fPath_historicalClarity)\n",
    "historical_clarity = ic.clarity_historical(historical_clarity)\n",
    "historical_clarity_data = historical_clarity.get_data()\n",
    "\n",
    "historical_clarity_data.info()\n",
    "historical_clarity_data"
   ],
   "metadata": {
    "collapsed": false,
    "pycharm": {
     "name": "#%%\n"
    }
   }
  },
  {
   "cell_type": "markdown",
   "source": [
    "***\n",
    "> ### __Original Clarity Data__\n",
    "***"
   ],
   "metadata": {
    "collapsed": false,
    "pycharm": {
     "name": "#%% md\n"
    }
   }
  },
  {
   "cell_type": "code",
   "execution_count": 11,
   "outputs": [
    {
     "name": "stdout",
     "output_type": "stream",
     "text": [
      "<class 'pandas.core.frame.DataFrame'>\n",
      "DatetimeIndex: 83608 entries, 2021-01-01 00:07:14.361000-08:00 to 2021-07-10 23:58:39.211000-07:00\n",
      "Data columns (total 10 columns):\n",
      " #   Column                                                          Non-Null Count  Dtype              \n",
      "---  ------                                                          --------------  -----              \n",
      " 0   Sensor Name                                                     83608 non-null  object             \n",
      " 1   Intersection                                                    83608 non-null  object             \n",
      " 2   Device ID                                                       83608 non-null  object             \n",
      " 3   datetime-UTC                                                    83608 non-null  datetime64[ns, UTC]\n",
      " 4   PM2.5 Highest Resolution Mass Concentration Calibrated [ug/m3]  63278 non-null  float64            \n",
      " 5   NO2 Highest Resolution Concentration Calibrated [ppb]           0 non-null      float64            \n",
      " 6   Temperature Internal Highest Resolution [degC]                  83608 non-null  float64            \n",
      " 7   Rel. Humidity Internal Highest Resolution [%]                   83608 non-null  float64            \n",
      " 8   Latitude                                                        83608 non-null  float64            \n",
      " 9   Longitude                                                       83608 non-null  float64            \n",
      "dtypes: datetime64[ns, UTC](1), float64(6), object(3)\n",
      "memory usage: 7.0+ MB\n"
     ]
    },
    {
     "data": {
      "text/plain": "                                 Sensor Name           Intersection Device ID  \\\ndatetime-America/Los_Angeles                                                    \n2021-01-01 00:07:14.361000-08:00        Iowa      Iowa & University  AY3HFT4R   \n2021-01-01 00:09:41.191000-08:00    Magnolia       Magnolia & Tyler  ARHF78W6   \n2021-01-01 00:11:40.746000-08:00    Cranford  Cranford & University  A4T789S6   \n2021-01-01 00:12:36.634000-08:00     Chicago   Chicago & University  AGJ1PPLJ   \n2021-01-01 00:24:25.849000-08:00        Iowa      Iowa & University  AY3HFT4R   \n...                                      ...                    ...       ...   \n2021-07-10 23:55:03.070000-07:00     Chicago   Chicago & University  AGJ1PPLJ   \n2021-07-10 23:57:16.538000-07:00    Magnolia       Magnolia & Tyler  ARHF78W6   \n2021-07-10 23:57:30.107000-07:00    Cranford  Cranford & University  A4T789S6   \n2021-07-10 23:57:39.588000-07:00        Iowa      Iowa & University  AY3HFT4R   \n2021-07-10 23:58:39.211000-07:00     Chicago   Chicago & University  AGJ1PPLJ   \n\n                                                     datetime-UTC  \\\ndatetime-America/Los_Angeles                                        \n2021-01-01 00:07:14.361000-08:00 2021-01-01 08:07:14.361000+00:00   \n2021-01-01 00:09:41.191000-08:00 2021-01-01 08:09:41.191000+00:00   \n2021-01-01 00:11:40.746000-08:00 2021-01-01 08:11:40.746000+00:00   \n2021-01-01 00:12:36.634000-08:00 2021-01-01 08:12:36.634000+00:00   \n2021-01-01 00:24:25.849000-08:00 2021-01-01 08:24:25.849000+00:00   \n...                                                           ...   \n2021-07-10 23:55:03.070000-07:00 2021-07-11 06:55:03.070000+00:00   \n2021-07-10 23:57:16.538000-07:00 2021-07-11 06:57:16.538000+00:00   \n2021-07-10 23:57:30.107000-07:00 2021-07-11 06:57:30.107000+00:00   \n2021-07-10 23:57:39.588000-07:00 2021-07-11 06:57:39.588000+00:00   \n2021-07-10 23:58:39.211000-07:00 2021-07-11 06:58:39.211000+00:00   \n\n                                  PM2.5 Highest Resolution Mass Concentration Calibrated [ug/m3]  \\\ndatetime-America/Los_Angeles                                                                       \n2021-01-01 00:07:14.361000-08:00                                                             NaN   \n2021-01-01 00:09:41.191000-08:00                                                             NaN   \n2021-01-01 00:11:40.746000-08:00                                                             NaN   \n2021-01-01 00:12:36.634000-08:00                                                             NaN   \n2021-01-01 00:24:25.849000-08:00                                                             NaN   \n...                                                                                          ...   \n2021-07-10 23:55:03.070000-07:00                                                            9.01   \n2021-07-10 23:57:16.538000-07:00                                                           10.61   \n2021-07-10 23:57:30.107000-07:00                                                            8.43   \n2021-07-10 23:57:39.588000-07:00                                                           10.53   \n2021-07-10 23:58:39.211000-07:00                                                            9.25   \n\n                                  NO2 Highest Resolution Concentration Calibrated [ppb]  \\\ndatetime-America/Los_Angeles                                                              \n2021-01-01 00:07:14.361000-08:00                                                    NaN   \n2021-01-01 00:09:41.191000-08:00                                                    NaN   \n2021-01-01 00:11:40.746000-08:00                                                    NaN   \n2021-01-01 00:12:36.634000-08:00                                                    NaN   \n2021-01-01 00:24:25.849000-08:00                                                    NaN   \n...                                                                                 ...   \n2021-07-10 23:55:03.070000-07:00                                                    NaN   \n2021-07-10 23:57:16.538000-07:00                                                    NaN   \n2021-07-10 23:57:30.107000-07:00                                                    NaN   \n2021-07-10 23:57:39.588000-07:00                                                    NaN   \n2021-07-10 23:58:39.211000-07:00                                                    NaN   \n\n                                  Temperature Internal Highest Resolution [degC]  \\\ndatetime-America/Los_Angeles                                                       \n2021-01-01 00:07:14.361000-08:00                                           15.00   \n2021-01-01 00:09:41.191000-08:00                                           15.99   \n2021-01-01 00:11:40.746000-08:00                                           15.07   \n2021-01-01 00:12:36.634000-08:00                                           15.27   \n2021-01-01 00:24:25.849000-08:00                                           14.91   \n...                                                                          ...   \n2021-07-10 23:55:03.070000-07:00                                           25.78   \n2021-07-10 23:57:16.538000-07:00                                           25.62   \n2021-07-10 23:57:30.107000-07:00                                           25.46   \n2021-07-10 23:57:39.588000-07:00                                           25.70   \n2021-07-10 23:58:39.211000-07:00                                           25.72   \n\n                                  Rel. Humidity Internal Highest Resolution [%]  \\\ndatetime-America/Los_Angeles                                                      \n2021-01-01 00:07:14.361000-08:00                                          29.89   \n2021-01-01 00:09:41.191000-08:00                                          28.41   \n2021-01-01 00:11:40.746000-08:00                                          29.28   \n2021-01-01 00:12:36.634000-08:00                                          29.02   \n2021-01-01 00:24:25.849000-08:00                                          29.69   \n...                                                                         ...   \n2021-07-10 23:55:03.070000-07:00                                          41.70   \n2021-07-10 23:57:16.538000-07:00                                          41.46   \n2021-07-10 23:57:30.107000-07:00                                          42.16   \n2021-07-10 23:57:39.588000-07:00                                          42.25   \n2021-07-10 23:58:39.211000-07:00                                          41.62   \n\n                                   Latitude   Longitude  \ndatetime-America/Los_Angeles                             \n2021-01-01 00:07:14.361000-08:00  33.975591 -117.339897  \n2021-01-01 00:09:41.191000-08:00  33.911928 -117.461394  \n2021-01-01 00:11:40.746000-08:00  33.975624 -117.344182  \n2021-01-01 00:12:36.634000-08:00  33.975566 -117.348524  \n2021-01-01 00:24:25.849000-08:00  33.975591 -117.339897  \n...                                     ...         ...  \n2021-07-10 23:55:03.070000-07:00  33.975566 -117.348524  \n2021-07-10 23:57:16.538000-07:00  33.911928 -117.461394  \n2021-07-10 23:57:30.107000-07:00  33.975624 -117.344182  \n2021-07-10 23:57:39.588000-07:00  33.975591 -117.339897  \n2021-07-10 23:58:39.211000-07:00  33.975566 -117.348524  \n\n[83608 rows x 10 columns]",
      "text/html": "<div>\n<style scoped>\n    .dataframe tbody tr th:only-of-type {\n        vertical-align: middle;\n    }\n\n    .dataframe tbody tr th {\n        vertical-align: top;\n    }\n\n    .dataframe thead th {\n        text-align: right;\n    }\n</style>\n<table border=\"1\" class=\"dataframe\">\n  <thead>\n    <tr style=\"text-align: right;\">\n      <th></th>\n      <th>Sensor Name</th>\n      <th>Intersection</th>\n      <th>Device ID</th>\n      <th>datetime-UTC</th>\n      <th>PM2.5 Highest Resolution Mass Concentration Calibrated [ug/m3]</th>\n      <th>NO2 Highest Resolution Concentration Calibrated [ppb]</th>\n      <th>Temperature Internal Highest Resolution [degC]</th>\n      <th>Rel. Humidity Internal Highest Resolution [%]</th>\n      <th>Latitude</th>\n      <th>Longitude</th>\n    </tr>\n    <tr>\n      <th>datetime-America/Los_Angeles</th>\n      <th></th>\n      <th></th>\n      <th></th>\n      <th></th>\n      <th></th>\n      <th></th>\n      <th></th>\n      <th></th>\n      <th></th>\n      <th></th>\n    </tr>\n  </thead>\n  <tbody>\n    <tr>\n      <th>2021-01-01 00:07:14.361000-08:00</th>\n      <td>Iowa</td>\n      <td>Iowa &amp; University</td>\n      <td>AY3HFT4R</td>\n      <td>2021-01-01 08:07:14.361000+00:00</td>\n      <td>NaN</td>\n      <td>NaN</td>\n      <td>15.00</td>\n      <td>29.89</td>\n      <td>33.975591</td>\n      <td>-117.339897</td>\n    </tr>\n    <tr>\n      <th>2021-01-01 00:09:41.191000-08:00</th>\n      <td>Magnolia</td>\n      <td>Magnolia &amp; Tyler</td>\n      <td>ARHF78W6</td>\n      <td>2021-01-01 08:09:41.191000+00:00</td>\n      <td>NaN</td>\n      <td>NaN</td>\n      <td>15.99</td>\n      <td>28.41</td>\n      <td>33.911928</td>\n      <td>-117.461394</td>\n    </tr>\n    <tr>\n      <th>2021-01-01 00:11:40.746000-08:00</th>\n      <td>Cranford</td>\n      <td>Cranford &amp; University</td>\n      <td>A4T789S6</td>\n      <td>2021-01-01 08:11:40.746000+00:00</td>\n      <td>NaN</td>\n      <td>NaN</td>\n      <td>15.07</td>\n      <td>29.28</td>\n      <td>33.975624</td>\n      <td>-117.344182</td>\n    </tr>\n    <tr>\n      <th>2021-01-01 00:12:36.634000-08:00</th>\n      <td>Chicago</td>\n      <td>Chicago &amp; University</td>\n      <td>AGJ1PPLJ</td>\n      <td>2021-01-01 08:12:36.634000+00:00</td>\n      <td>NaN</td>\n      <td>NaN</td>\n      <td>15.27</td>\n      <td>29.02</td>\n      <td>33.975566</td>\n      <td>-117.348524</td>\n    </tr>\n    <tr>\n      <th>2021-01-01 00:24:25.849000-08:00</th>\n      <td>Iowa</td>\n      <td>Iowa &amp; University</td>\n      <td>AY3HFT4R</td>\n      <td>2021-01-01 08:24:25.849000+00:00</td>\n      <td>NaN</td>\n      <td>NaN</td>\n      <td>14.91</td>\n      <td>29.69</td>\n      <td>33.975591</td>\n      <td>-117.339897</td>\n    </tr>\n    <tr>\n      <th>...</th>\n      <td>...</td>\n      <td>...</td>\n      <td>...</td>\n      <td>...</td>\n      <td>...</td>\n      <td>...</td>\n      <td>...</td>\n      <td>...</td>\n      <td>...</td>\n      <td>...</td>\n    </tr>\n    <tr>\n      <th>2021-07-10 23:55:03.070000-07:00</th>\n      <td>Chicago</td>\n      <td>Chicago &amp; University</td>\n      <td>AGJ1PPLJ</td>\n      <td>2021-07-11 06:55:03.070000+00:00</td>\n      <td>9.01</td>\n      <td>NaN</td>\n      <td>25.78</td>\n      <td>41.70</td>\n      <td>33.975566</td>\n      <td>-117.348524</td>\n    </tr>\n    <tr>\n      <th>2021-07-10 23:57:16.538000-07:00</th>\n      <td>Magnolia</td>\n      <td>Magnolia &amp; Tyler</td>\n      <td>ARHF78W6</td>\n      <td>2021-07-11 06:57:16.538000+00:00</td>\n      <td>10.61</td>\n      <td>NaN</td>\n      <td>25.62</td>\n      <td>41.46</td>\n      <td>33.911928</td>\n      <td>-117.461394</td>\n    </tr>\n    <tr>\n      <th>2021-07-10 23:57:30.107000-07:00</th>\n      <td>Cranford</td>\n      <td>Cranford &amp; University</td>\n      <td>A4T789S6</td>\n      <td>2021-07-11 06:57:30.107000+00:00</td>\n      <td>8.43</td>\n      <td>NaN</td>\n      <td>25.46</td>\n      <td>42.16</td>\n      <td>33.975624</td>\n      <td>-117.344182</td>\n    </tr>\n    <tr>\n      <th>2021-07-10 23:57:39.588000-07:00</th>\n      <td>Iowa</td>\n      <td>Iowa &amp; University</td>\n      <td>AY3HFT4R</td>\n      <td>2021-07-11 06:57:39.588000+00:00</td>\n      <td>10.53</td>\n      <td>NaN</td>\n      <td>25.70</td>\n      <td>42.25</td>\n      <td>33.975591</td>\n      <td>-117.339897</td>\n    </tr>\n    <tr>\n      <th>2021-07-10 23:58:39.211000-07:00</th>\n      <td>Chicago</td>\n      <td>Chicago &amp; University</td>\n      <td>AGJ1PPLJ</td>\n      <td>2021-07-11 06:58:39.211000+00:00</td>\n      <td>9.25</td>\n      <td>NaN</td>\n      <td>25.72</td>\n      <td>41.62</td>\n      <td>33.975566</td>\n      <td>-117.348524</td>\n    </tr>\n  </tbody>\n</table>\n<p>83608 rows × 10 columns</p>\n</div>"
     },
     "execution_count": 11,
     "metadata": {},
     "output_type": "execute_result"
    }
   ],
   "source": [
    "clarity_original_HighRes = util.csv_folder2table(FPath_clarity_originals_HighRes)\n",
    "clarity_HighRes = ic.clarity_original(clarity_original_HighRes)\n",
    "clarity_HighRes_data = clarity_HighRes.get_data()\n",
    "clarity_HighRes_data.info()\n",
    "clarity_HighRes_data"
   ],
   "metadata": {
    "collapsed": false,
    "pycharm": {
     "name": "#%%\n"
    }
   }
  },
  {
   "cell_type": "markdown",
   "source": [
    "***\n",
    "> ### __Clarity PM2.5 Measurements__\n",
    "***"
   ],
   "metadata": {
    "collapsed": false,
    "pycharm": {
     "name": "#%% md\n"
    }
   }
  },
  {
   "cell_type": "code",
   "execution_count": 12,
   "outputs": [
    {
     "name": "stdout",
     "output_type": "stream",
     "text": [
      "<class 'pandas.core.frame.DataFrame'>\n",
      "DatetimeIndex: 63278 entries, 2021-03-02 12:39:24.550000-08:00 to 2021-07-10 23:58:39.211000-07:00\n",
      "Data columns (total 8 columns):\n",
      " #   Column                                                          Non-Null Count  Dtype  \n",
      "---  ------                                                          --------------  -----  \n",
      " 0   Sensor Name                                                     63278 non-null  object \n",
      " 1   Intersection                                                    63278 non-null  object \n",
      " 2   Device ID                                                       63278 non-null  object \n",
      " 3   PM2.5 Highest Resolution Mass Concentration Calibrated [ug/m3]  63278 non-null  float64\n",
      " 4   Temperature Internal Highest Resolution [degC]                  63278 non-null  float64\n",
      " 5   Rel. Humidity Internal Highest Resolution [%]                   63278 non-null  float64\n",
      " 6   Latitude                                                        63278 non-null  float64\n",
      " 7   Longitude                                                       63278 non-null  float64\n",
      "dtypes: float64(5), object(3)\n",
      "memory usage: 4.3+ MB\n"
     ]
    },
    {
     "data": {
      "text/plain": "                                 Sensor Name           Intersection Device ID  \\\ndatetime-America/Los_Angeles                                                    \n2021-03-02 12:39:24.550000-08:00    Cranford  Cranford & University  A4T789S6   \n2021-03-02 12:42:19.270000-08:00    Magnolia       Magnolia & Tyler  ARHF78W6   \n2021-03-02 12:47:51.159000-08:00        Iowa      Iowa & University  AY3HFT4R   \n2021-03-02 12:50:54.283000-08:00     Chicago   Chicago & University  AGJ1PPLJ   \n2021-03-02 12:56:17.661000-08:00    Cranford  Cranford & University  A4T789S6   \n...                                      ...                    ...       ...   \n2021-07-10 23:55:03.070000-07:00     Chicago   Chicago & University  AGJ1PPLJ   \n2021-07-10 23:57:16.538000-07:00    Magnolia       Magnolia & Tyler  ARHF78W6   \n2021-07-10 23:57:30.107000-07:00    Cranford  Cranford & University  A4T789S6   \n2021-07-10 23:57:39.588000-07:00        Iowa      Iowa & University  AY3HFT4R   \n2021-07-10 23:58:39.211000-07:00     Chicago   Chicago & University  AGJ1PPLJ   \n\n                                  PM2.5 Highest Resolution Mass Concentration Calibrated [ug/m3]  \\\ndatetime-America/Los_Angeles                                                                       \n2021-03-02 12:39:24.550000-08:00                                                           11.81   \n2021-03-02 12:42:19.270000-08:00                                                            7.67   \n2021-03-02 12:47:51.159000-08:00                                                            7.81   \n2021-03-02 12:50:54.283000-08:00                                                            8.84   \n2021-03-02 12:56:17.661000-08:00                                                           16.63   \n...                                                                                          ...   \n2021-07-10 23:55:03.070000-07:00                                                            9.01   \n2021-07-10 23:57:16.538000-07:00                                                           10.61   \n2021-07-10 23:57:30.107000-07:00                                                            8.43   \n2021-07-10 23:57:39.588000-07:00                                                           10.53   \n2021-07-10 23:58:39.211000-07:00                                                            9.25   \n\n                                  Temperature Internal Highest Resolution [degC]  \\\ndatetime-America/Los_Angeles                                                       \n2021-03-02 12:39:24.550000-08:00                                           26.84   \n2021-03-02 12:42:19.270000-08:00                                           27.60   \n2021-03-02 12:47:51.159000-08:00                                           26.31   \n2021-03-02 12:50:54.283000-08:00                                           25.72   \n2021-03-02 12:56:17.661000-08:00                                           26.95   \n...                                                                          ...   \n2021-07-10 23:55:03.070000-07:00                                           25.78   \n2021-07-10 23:57:16.538000-07:00                                           25.62   \n2021-07-10 23:57:30.107000-07:00                                           25.46   \n2021-07-10 23:57:39.588000-07:00                                           25.70   \n2021-07-10 23:58:39.211000-07:00                                           25.72   \n\n                                  Rel. Humidity Internal Highest Resolution [%]  \\\ndatetime-America/Los_Angeles                                                      \n2021-03-02 12:39:24.550000-08:00                                           9.31   \n2021-03-02 12:42:19.270000-08:00                                           7.05   \n2021-03-02 12:47:51.159000-08:00                                           7.96   \n2021-03-02 12:50:54.283000-08:00                                           7.94   \n2021-03-02 12:56:17.661000-08:00                                           8.66   \n...                                                                         ...   \n2021-07-10 23:55:03.070000-07:00                                          41.70   \n2021-07-10 23:57:16.538000-07:00                                          41.46   \n2021-07-10 23:57:30.107000-07:00                                          42.16   \n2021-07-10 23:57:39.588000-07:00                                          42.25   \n2021-07-10 23:58:39.211000-07:00                                          41.62   \n\n                                   Latitude   Longitude  \ndatetime-America/Los_Angeles                             \n2021-03-02 12:39:24.550000-08:00  33.975624 -117.344182  \n2021-03-02 12:42:19.270000-08:00  33.911928 -117.461394  \n2021-03-02 12:47:51.159000-08:00  33.975591 -117.339897  \n2021-03-02 12:50:54.283000-08:00  33.975566 -117.348524  \n2021-03-02 12:56:17.661000-08:00  33.975624 -117.344182  \n...                                     ...         ...  \n2021-07-10 23:55:03.070000-07:00  33.975566 -117.348524  \n2021-07-10 23:57:16.538000-07:00  33.911928 -117.461394  \n2021-07-10 23:57:30.107000-07:00  33.975624 -117.344182  \n2021-07-10 23:57:39.588000-07:00  33.975591 -117.339897  \n2021-07-10 23:58:39.211000-07:00  33.975566 -117.348524  \n\n[63278 rows x 8 columns]",
      "text/html": "<div>\n<style scoped>\n    .dataframe tbody tr th:only-of-type {\n        vertical-align: middle;\n    }\n\n    .dataframe tbody tr th {\n        vertical-align: top;\n    }\n\n    .dataframe thead th {\n        text-align: right;\n    }\n</style>\n<table border=\"1\" class=\"dataframe\">\n  <thead>\n    <tr style=\"text-align: right;\">\n      <th></th>\n      <th>Sensor Name</th>\n      <th>Intersection</th>\n      <th>Device ID</th>\n      <th>PM2.5 Highest Resolution Mass Concentration Calibrated [ug/m3]</th>\n      <th>Temperature Internal Highest Resolution [degC]</th>\n      <th>Rel. Humidity Internal Highest Resolution [%]</th>\n      <th>Latitude</th>\n      <th>Longitude</th>\n    </tr>\n    <tr>\n      <th>datetime-America/Los_Angeles</th>\n      <th></th>\n      <th></th>\n      <th></th>\n      <th></th>\n      <th></th>\n      <th></th>\n      <th></th>\n      <th></th>\n    </tr>\n  </thead>\n  <tbody>\n    <tr>\n      <th>2021-03-02 12:39:24.550000-08:00</th>\n      <td>Cranford</td>\n      <td>Cranford &amp; University</td>\n      <td>A4T789S6</td>\n      <td>11.81</td>\n      <td>26.84</td>\n      <td>9.31</td>\n      <td>33.975624</td>\n      <td>-117.344182</td>\n    </tr>\n    <tr>\n      <th>2021-03-02 12:42:19.270000-08:00</th>\n      <td>Magnolia</td>\n      <td>Magnolia &amp; Tyler</td>\n      <td>ARHF78W6</td>\n      <td>7.67</td>\n      <td>27.60</td>\n      <td>7.05</td>\n      <td>33.911928</td>\n      <td>-117.461394</td>\n    </tr>\n    <tr>\n      <th>2021-03-02 12:47:51.159000-08:00</th>\n      <td>Iowa</td>\n      <td>Iowa &amp; University</td>\n      <td>AY3HFT4R</td>\n      <td>7.81</td>\n      <td>26.31</td>\n      <td>7.96</td>\n      <td>33.975591</td>\n      <td>-117.339897</td>\n    </tr>\n    <tr>\n      <th>2021-03-02 12:50:54.283000-08:00</th>\n      <td>Chicago</td>\n      <td>Chicago &amp; University</td>\n      <td>AGJ1PPLJ</td>\n      <td>8.84</td>\n      <td>25.72</td>\n      <td>7.94</td>\n      <td>33.975566</td>\n      <td>-117.348524</td>\n    </tr>\n    <tr>\n      <th>2021-03-02 12:56:17.661000-08:00</th>\n      <td>Cranford</td>\n      <td>Cranford &amp; University</td>\n      <td>A4T789S6</td>\n      <td>16.63</td>\n      <td>26.95</td>\n      <td>8.66</td>\n      <td>33.975624</td>\n      <td>-117.344182</td>\n    </tr>\n    <tr>\n      <th>...</th>\n      <td>...</td>\n      <td>...</td>\n      <td>...</td>\n      <td>...</td>\n      <td>...</td>\n      <td>...</td>\n      <td>...</td>\n      <td>...</td>\n    </tr>\n    <tr>\n      <th>2021-07-10 23:55:03.070000-07:00</th>\n      <td>Chicago</td>\n      <td>Chicago &amp; University</td>\n      <td>AGJ1PPLJ</td>\n      <td>9.01</td>\n      <td>25.78</td>\n      <td>41.70</td>\n      <td>33.975566</td>\n      <td>-117.348524</td>\n    </tr>\n    <tr>\n      <th>2021-07-10 23:57:16.538000-07:00</th>\n      <td>Magnolia</td>\n      <td>Magnolia &amp; Tyler</td>\n      <td>ARHF78W6</td>\n      <td>10.61</td>\n      <td>25.62</td>\n      <td>41.46</td>\n      <td>33.911928</td>\n      <td>-117.461394</td>\n    </tr>\n    <tr>\n      <th>2021-07-10 23:57:30.107000-07:00</th>\n      <td>Cranford</td>\n      <td>Cranford &amp; University</td>\n      <td>A4T789S6</td>\n      <td>8.43</td>\n      <td>25.46</td>\n      <td>42.16</td>\n      <td>33.975624</td>\n      <td>-117.344182</td>\n    </tr>\n    <tr>\n      <th>2021-07-10 23:57:39.588000-07:00</th>\n      <td>Iowa</td>\n      <td>Iowa &amp; University</td>\n      <td>AY3HFT4R</td>\n      <td>10.53</td>\n      <td>25.70</td>\n      <td>42.25</td>\n      <td>33.975591</td>\n      <td>-117.339897</td>\n    </tr>\n    <tr>\n      <th>2021-07-10 23:58:39.211000-07:00</th>\n      <td>Chicago</td>\n      <td>Chicago &amp; University</td>\n      <td>AGJ1PPLJ</td>\n      <td>9.25</td>\n      <td>25.72</td>\n      <td>41.62</td>\n      <td>33.975566</td>\n      <td>-117.348524</td>\n    </tr>\n  </tbody>\n</table>\n<p>63278 rows × 8 columns</p>\n</div>"
     },
     "execution_count": 12,
     "metadata": {},
     "output_type": "execute_result"
    }
   ],
   "source": [
    "clarity_HighRes_pm25 = clarity_HighRes.get_PM25()\n",
    "clarity_HighRes_pm25.info()\n",
    "clarity_HighRes_pm25"
   ],
   "metadata": {
    "collapsed": false,
    "pycharm": {
     "name": "#%%\n"
    }
   }
  },
  {
   "cell_type": "code",
   "execution_count": 13,
   "outputs": [
    {
     "name": "stdout",
     "output_type": "stream",
     "text": [
      "<class 'pandas.core.frame.DataFrame'>\n",
      "DatetimeIndex: 88847 entries, 2020-09-29 12:05:00-07:00 to 2021-06-22 23:58:00-07:00\n",
      "Data columns (total 8 columns):\n",
      " #   Column                                                          Non-Null Count  Dtype  \n",
      "---  ------                                                          --------------  -----  \n",
      " 0   Sensor Name                                                     88847 non-null  object \n",
      " 1   Intersection                                                    88847 non-null  object \n",
      " 2   Device ID                                                       88847 non-null  object \n",
      " 3   PM2.5 Highest Resolution Mass Concentration Calibrated [ug/m3]  88847 non-null  float64\n",
      " 4   Temperature Internal Highest Resolution [degC]                  88847 non-null  float64\n",
      " 5   Rel. Humidity Internal Highest Resolution [%]                   88847 non-null  float64\n",
      " 6   Latitude                                                        88847 non-null  float64\n",
      " 7   Longitude                                                       88847 non-null  float64\n",
      "dtypes: float64(5), object(3)\n",
      "memory usage: 6.1+ MB\n"
     ]
    },
    {
     "data": {
      "text/plain": "                             Sensor Name           Intersection Device ID  \\\ndatetime-America/Los_Angeles                                                \n2020-09-29 12:05:00-07:00       Magnolia       Magnolia & Tyler  ARHF78W6   \n2020-09-29 13:06:00-07:00       Magnolia       Magnolia & Tyler  ARHF78W6   \n2020-09-29 13:24:00-07:00       Magnolia       Magnolia & Tyler  ARHF78W6   \n2020-09-29 13:41:00-07:00       Magnolia       Magnolia & Tyler  ARHF78W6   \n2020-09-29 13:58:00-07:00       Magnolia       Magnolia & Tyler  ARHF78W6   \n...                                  ...                    ...       ...   \n2021-06-22 23:40:00-07:00        Chicago   Chicago & University  AGJ1PPLJ   \n2021-06-22 23:44:00-07:00       Magnolia       Magnolia & Tyler  ARHF78W6   \n2021-06-22 23:50:00-07:00           Iowa      Iowa & University  AY3HFT4R   \n2021-06-22 23:57:00-07:00       Cranford  Cranford & University  A4T789S6   \n2021-06-22 23:58:00-07:00        Chicago   Chicago & University  AGJ1PPLJ   \n\n                              PM2.5 Highest Resolution Mass Concentration Calibrated [ug/m3]  \\\ndatetime-America/Los_Angeles                                                                   \n2020-09-29 12:05:00-07:00                                                           3.573135   \n2020-09-29 13:06:00-07:00                                                           2.654986   \n2020-09-29 13:24:00-07:00                                                           2.318490   \n2020-09-29 13:41:00-07:00                                                           2.023389   \n2020-09-29 13:58:00-07:00                                                           1.755854   \n...                                                                                      ...   \n2021-06-22 23:40:00-07:00                                                           7.240612   \n2021-06-22 23:44:00-07:00                                                           6.212309   \n2021-06-22 23:50:00-07:00                                                           6.210450   \n2021-06-22 23:57:00-07:00                                                           6.478580   \n2021-06-22 23:58:00-07:00                                                           7.816707   \n\n                              Temperature Internal Highest Resolution [degC]  \\\ndatetime-America/Los_Angeles                                                   \n2020-09-29 12:05:00-07:00                                          34.912262   \n2020-09-29 13:06:00-07:00                                          38.290230   \n2020-09-29 13:24:00-07:00                                          38.768219   \n2020-09-29 13:41:00-07:00                                          38.981842   \n2020-09-29 13:58:00-07:00                                          39.166092   \n...                                                                      ...   \n2021-06-22 23:40:00-07:00                                          23.197525   \n2021-06-22 23:44:00-07:00                                          22.420464   \n2021-06-22 23:50:00-07:00                                          23.152130   \n2021-06-22 23:57:00-07:00                                          22.794312   \n2021-06-22 23:58:00-07:00                                          22.730217   \n\n                              Rel. Humidity Internal Highest Resolution [%]  \\\ndatetime-America/Los_Angeles                                                  \n2020-09-29 12:05:00-07:00                                         25.265888   \n2020-09-29 13:06:00-07:00                                         22.885481   \n2020-09-29 13:24:00-07:00                                         22.088961   \n2020-09-29 13:41:00-07:00                                         23.118944   \n2020-09-29 13:58:00-07:00                                         21.947052   \n...                                                                     ...   \n2021-06-22 23:40:00-07:00                                         52.887772   \n2021-06-22 23:44:00-07:00                                         56.778820   \n2021-06-22 23:50:00-07:00                                         52.457466   \n2021-06-22 23:57:00-07:00                                         53.345539   \n2021-06-22 23:58:00-07:00                                         53.968109   \n\n                               Latitude   Longitude  \ndatetime-America/Los_Angeles                         \n2020-09-29 12:05:00-07:00     33.911928 -117.461394  \n2020-09-29 13:06:00-07:00     33.911928 -117.461394  \n2020-09-29 13:24:00-07:00     33.911928 -117.461394  \n2020-09-29 13:41:00-07:00     33.911928 -117.461394  \n2020-09-29 13:58:00-07:00     33.911928 -117.461394  \n...                                 ...         ...  \n2021-06-22 23:40:00-07:00     33.975566 -117.348524  \n2021-06-22 23:44:00-07:00     33.911928 -117.461394  \n2021-06-22 23:50:00-07:00     33.975591 -117.339897  \n2021-06-22 23:57:00-07:00     33.975624 -117.344182  \n2021-06-22 23:58:00-07:00     33.975566 -117.348524  \n\n[88847 rows x 8 columns]",
      "text/html": "<div>\n<style scoped>\n    .dataframe tbody tr th:only-of-type {\n        vertical-align: middle;\n    }\n\n    .dataframe tbody tr th {\n        vertical-align: top;\n    }\n\n    .dataframe thead th {\n        text-align: right;\n    }\n</style>\n<table border=\"1\" class=\"dataframe\">\n  <thead>\n    <tr style=\"text-align: right;\">\n      <th></th>\n      <th>Sensor Name</th>\n      <th>Intersection</th>\n      <th>Device ID</th>\n      <th>PM2.5 Highest Resolution Mass Concentration Calibrated [ug/m3]</th>\n      <th>Temperature Internal Highest Resolution [degC]</th>\n      <th>Rel. Humidity Internal Highest Resolution [%]</th>\n      <th>Latitude</th>\n      <th>Longitude</th>\n    </tr>\n    <tr>\n      <th>datetime-America/Los_Angeles</th>\n      <th></th>\n      <th></th>\n      <th></th>\n      <th></th>\n      <th></th>\n      <th></th>\n      <th></th>\n      <th></th>\n    </tr>\n  </thead>\n  <tbody>\n    <tr>\n      <th>2020-09-29 12:05:00-07:00</th>\n      <td>Magnolia</td>\n      <td>Magnolia &amp; Tyler</td>\n      <td>ARHF78W6</td>\n      <td>3.573135</td>\n      <td>34.912262</td>\n      <td>25.265888</td>\n      <td>33.911928</td>\n      <td>-117.461394</td>\n    </tr>\n    <tr>\n      <th>2020-09-29 13:06:00-07:00</th>\n      <td>Magnolia</td>\n      <td>Magnolia &amp; Tyler</td>\n      <td>ARHF78W6</td>\n      <td>2.654986</td>\n      <td>38.290230</td>\n      <td>22.885481</td>\n      <td>33.911928</td>\n      <td>-117.461394</td>\n    </tr>\n    <tr>\n      <th>2020-09-29 13:24:00-07:00</th>\n      <td>Magnolia</td>\n      <td>Magnolia &amp; Tyler</td>\n      <td>ARHF78W6</td>\n      <td>2.318490</td>\n      <td>38.768219</td>\n      <td>22.088961</td>\n      <td>33.911928</td>\n      <td>-117.461394</td>\n    </tr>\n    <tr>\n      <th>2020-09-29 13:41:00-07:00</th>\n      <td>Magnolia</td>\n      <td>Magnolia &amp; Tyler</td>\n      <td>ARHF78W6</td>\n      <td>2.023389</td>\n      <td>38.981842</td>\n      <td>23.118944</td>\n      <td>33.911928</td>\n      <td>-117.461394</td>\n    </tr>\n    <tr>\n      <th>2020-09-29 13:58:00-07:00</th>\n      <td>Magnolia</td>\n      <td>Magnolia &amp; Tyler</td>\n      <td>ARHF78W6</td>\n      <td>1.755854</td>\n      <td>39.166092</td>\n      <td>21.947052</td>\n      <td>33.911928</td>\n      <td>-117.461394</td>\n    </tr>\n    <tr>\n      <th>...</th>\n      <td>...</td>\n      <td>...</td>\n      <td>...</td>\n      <td>...</td>\n      <td>...</td>\n      <td>...</td>\n      <td>...</td>\n      <td>...</td>\n    </tr>\n    <tr>\n      <th>2021-06-22 23:40:00-07:00</th>\n      <td>Chicago</td>\n      <td>Chicago &amp; University</td>\n      <td>AGJ1PPLJ</td>\n      <td>7.240612</td>\n      <td>23.197525</td>\n      <td>52.887772</td>\n      <td>33.975566</td>\n      <td>-117.348524</td>\n    </tr>\n    <tr>\n      <th>2021-06-22 23:44:00-07:00</th>\n      <td>Magnolia</td>\n      <td>Magnolia &amp; Tyler</td>\n      <td>ARHF78W6</td>\n      <td>6.212309</td>\n      <td>22.420464</td>\n      <td>56.778820</td>\n      <td>33.911928</td>\n      <td>-117.461394</td>\n    </tr>\n    <tr>\n      <th>2021-06-22 23:50:00-07:00</th>\n      <td>Iowa</td>\n      <td>Iowa &amp; University</td>\n      <td>AY3HFT4R</td>\n      <td>6.210450</td>\n      <td>23.152130</td>\n      <td>52.457466</td>\n      <td>33.975591</td>\n      <td>-117.339897</td>\n    </tr>\n    <tr>\n      <th>2021-06-22 23:57:00-07:00</th>\n      <td>Cranford</td>\n      <td>Cranford &amp; University</td>\n      <td>A4T789S6</td>\n      <td>6.478580</td>\n      <td>22.794312</td>\n      <td>53.345539</td>\n      <td>33.975624</td>\n      <td>-117.344182</td>\n    </tr>\n    <tr>\n      <th>2021-06-22 23:58:00-07:00</th>\n      <td>Chicago</td>\n      <td>Chicago &amp; University</td>\n      <td>AGJ1PPLJ</td>\n      <td>7.816707</td>\n      <td>22.730217</td>\n      <td>53.968109</td>\n      <td>33.975566</td>\n      <td>-117.348524</td>\n    </tr>\n  </tbody>\n</table>\n<p>88847 rows × 8 columns</p>\n</div>"
     },
     "execution_count": 13,
     "metadata": {},
     "output_type": "execute_result"
    }
   ],
   "source": [
    "clarity_historical_pm25 = historical_clarity.get_PM25()\n",
    "clarity_historical_pm25.info()\n",
    "clarity_historical_pm25"
   ],
   "metadata": {
    "collapsed": false,
    "pycharm": {
     "name": "#%%\n"
    }
   }
  },
  {
   "cell_type": "code",
   "execution_count": 14,
   "outputs": [
    {
     "data": {
      "text/plain": "Sensor Name                       Chicago PM2.5 [ug/m3]  \\\ndatetime-America/Los_Angeles                              \n2020-09-29 12:05:00-07:00                           NaN   \n2020-09-29 13:06:00-07:00                           NaN   \n2020-09-29 13:24:00-07:00                           NaN   \n2020-09-29 13:41:00-07:00                           NaN   \n2020-09-29 13:58:00-07:00                           NaN   \n...                                                 ...   \n2021-07-10 23:55:03.070000-07:00                   9.01   \n2021-07-10 23:57:16.538000-07:00                    NaN   \n2021-07-10 23:57:30.107000-07:00                    NaN   \n2021-07-10 23:57:39.588000-07:00                    NaN   \n2021-07-10 23:58:39.211000-07:00                   9.25   \n\nSensor Name                       Cranford PM2.5 [ug/m3]  Iowa PM2.5 [ug/m3]  \\\ndatetime-America/Los_Angeles                                                   \n2020-09-29 12:05:00-07:00                            NaN                 NaN   \n2020-09-29 13:06:00-07:00                            NaN                 NaN   \n2020-09-29 13:24:00-07:00                            NaN                 NaN   \n2020-09-29 13:41:00-07:00                            NaN                 NaN   \n2020-09-29 13:58:00-07:00                            NaN                 NaN   \n...                                                  ...                 ...   \n2021-07-10 23:55:03.070000-07:00                     NaN                 NaN   \n2021-07-10 23:57:16.538000-07:00                     NaN                 NaN   \n2021-07-10 23:57:30.107000-07:00                    8.43                 NaN   \n2021-07-10 23:57:39.588000-07:00                     NaN               10.53   \n2021-07-10 23:58:39.211000-07:00                     NaN                 NaN   \n\nSensor Name                       Magnolia PM2.5 [ug/m3]  \ndatetime-America/Los_Angeles                              \n2020-09-29 12:05:00-07:00                       3.573135  \n2020-09-29 13:06:00-07:00                       2.654986  \n2020-09-29 13:24:00-07:00                       2.318490  \n2020-09-29 13:41:00-07:00                       2.023389  \n2020-09-29 13:58:00-07:00                       1.755854  \n...                                                  ...  \n2021-07-10 23:55:03.070000-07:00                     NaN  \n2021-07-10 23:57:16.538000-07:00               10.610000  \n2021-07-10 23:57:30.107000-07:00                     NaN  \n2021-07-10 23:57:39.588000-07:00                     NaN  \n2021-07-10 23:58:39.211000-07:00                     NaN  \n\n[144679 rows x 4 columns]",
      "text/html": "<div>\n<style scoped>\n    .dataframe tbody tr th:only-of-type {\n        vertical-align: middle;\n    }\n\n    .dataframe tbody tr th {\n        vertical-align: top;\n    }\n\n    .dataframe thead th {\n        text-align: right;\n    }\n</style>\n<table border=\"1\" class=\"dataframe\">\n  <thead>\n    <tr style=\"text-align: right;\">\n      <th>Sensor Name</th>\n      <th>Chicago PM2.5 [ug/m3]</th>\n      <th>Cranford PM2.5 [ug/m3]</th>\n      <th>Iowa PM2.5 [ug/m3]</th>\n      <th>Magnolia PM2.5 [ug/m3]</th>\n    </tr>\n    <tr>\n      <th>datetime-America/Los_Angeles</th>\n      <th></th>\n      <th></th>\n      <th></th>\n      <th></th>\n    </tr>\n  </thead>\n  <tbody>\n    <tr>\n      <th>2020-09-29 12:05:00-07:00</th>\n      <td>NaN</td>\n      <td>NaN</td>\n      <td>NaN</td>\n      <td>3.573135</td>\n    </tr>\n    <tr>\n      <th>2020-09-29 13:06:00-07:00</th>\n      <td>NaN</td>\n      <td>NaN</td>\n      <td>NaN</td>\n      <td>2.654986</td>\n    </tr>\n    <tr>\n      <th>2020-09-29 13:24:00-07:00</th>\n      <td>NaN</td>\n      <td>NaN</td>\n      <td>NaN</td>\n      <td>2.318490</td>\n    </tr>\n    <tr>\n      <th>2020-09-29 13:41:00-07:00</th>\n      <td>NaN</td>\n      <td>NaN</td>\n      <td>NaN</td>\n      <td>2.023389</td>\n    </tr>\n    <tr>\n      <th>2020-09-29 13:58:00-07:00</th>\n      <td>NaN</td>\n      <td>NaN</td>\n      <td>NaN</td>\n      <td>1.755854</td>\n    </tr>\n    <tr>\n      <th>...</th>\n      <td>...</td>\n      <td>...</td>\n      <td>...</td>\n      <td>...</td>\n    </tr>\n    <tr>\n      <th>2021-07-10 23:55:03.070000-07:00</th>\n      <td>9.01</td>\n      <td>NaN</td>\n      <td>NaN</td>\n      <td>NaN</td>\n    </tr>\n    <tr>\n      <th>2021-07-10 23:57:16.538000-07:00</th>\n      <td>NaN</td>\n      <td>NaN</td>\n      <td>NaN</td>\n      <td>10.610000</td>\n    </tr>\n    <tr>\n      <th>2021-07-10 23:57:30.107000-07:00</th>\n      <td>NaN</td>\n      <td>8.43</td>\n      <td>NaN</td>\n      <td>NaN</td>\n    </tr>\n    <tr>\n      <th>2021-07-10 23:57:39.588000-07:00</th>\n      <td>NaN</td>\n      <td>NaN</td>\n      <td>10.53</td>\n      <td>NaN</td>\n    </tr>\n    <tr>\n      <th>2021-07-10 23:58:39.211000-07:00</th>\n      <td>9.25</td>\n      <td>NaN</td>\n      <td>NaN</td>\n      <td>NaN</td>\n    </tr>\n  </tbody>\n</table>\n<p>144679 rows × 4 columns</p>\n</div>"
     },
     "execution_count": 14,
     "metadata": {},
     "output_type": "execute_result"
    }
   ],
   "source": [
    "clarity_pm25 = pd.concat([clarity_historical_pm25, clarity_HighRes_pm25], sort=True)\n",
    "clarity_pm25_pivot = pd.pivot(clarity_pm25.reset_index(), index='datetime-America/Los_Angeles',\n",
    "                              values='PM2.5 Highest Resolution Mass Concentration Calibrated [ug/m3]',\n",
    "                              columns='Sensor Name')\n",
    "if SAVE_TABLES:\n",
    "    clarity_pm25_pivot.to_csv('../data/clarity_data/pm25_Hourly.csv')\n",
    "clarity_pm25_pivot.rename(columns=lambda x: x + f' PM2.5 [ug/m3]', inplace=True)\n",
    "clarity_pm25_pivot"
   ],
   "metadata": {
    "collapsed": false,
    "pycharm": {
     "name": "#%%\n"
    }
   }
  },
  {
   "cell_type": "markdown",
   "source": [
    "***\n",
    "> ### __Clarity PM2.5 Resampling__\n",
    "***"
   ],
   "metadata": {
    "collapsed": false,
    "pycharm": {
     "name": "#%% md\n"
    }
   }
  },
  {
   "cell_type": "code",
   "execution_count": 15,
   "outputs": [
    {
     "name": "stdout",
     "output_type": "stream",
     "text": [
      "<class 'pandas.core.frame.DataFrame'>\n",
      "DatetimeIndex: 25505 entries, 2020-09-30 05:15:00-07:00 to 2021-06-22 21:15:00-07:00\n",
      "Freq: 15T\n",
      "Data columns (total 4 columns):\n",
      " #   Column                  Non-Null Count  Dtype  \n",
      "---  ------                  --------------  -----  \n",
      " 0   Chicago PM2.5 [ug/m3]   25505 non-null  float64\n",
      " 1   Cranford PM2.5 [ug/m3]  25505 non-null  float64\n",
      " 2   Iowa PM2.5 [ug/m3]      25505 non-null  float64\n",
      " 3   Magnolia PM2.5 [ug/m3]  25505 non-null  float64\n",
      "dtypes: float64(4)\n",
      "memory usage: 996.3 KB\n"
     ]
    },
    {
     "data": {
      "text/plain": "Sensor Name                   Chicago PM2.5 [ug/m3]  Cranford PM2.5 [ug/m3]  \\\ndatetime-America/Los_Angeles                                                  \n2020-09-30 05:15:00-07:00                  7.236761               10.467560   \n2020-09-30 05:30:00-07:00                  7.399722               10.613835   \n2020-09-30 05:45:00-07:00                  7.581021               10.769737   \n2020-09-30 06:00:00-07:00                  7.780169               10.935291   \n2020-09-30 06:15:00-07:00                  7.996672               11.110053   \n...                                             ...                     ...   \n2021-06-22 20:15:00-07:00                  6.869979                6.232989   \n2021-06-22 20:30:00-07:00                  6.889317                6.143695   \n2021-06-22 20:45:00-07:00                  6.898994                6.091687   \n2021-06-22 21:00:00-07:00                  6.892677                6.079960   \n2021-06-22 21:15:00-07:00                  6.864037                6.111510   \n\nSensor Name                   Iowa PM2.5 [ug/m3]  Magnolia PM2.5 [ug/m3]  \ndatetime-America/Los_Angeles                                              \n2020-09-30 05:15:00-07:00              12.949262               10.601163  \n2020-09-30 05:30:00-07:00              12.446988               10.765489  \n2020-09-30 05:45:00-07:00              12.029491               10.932227  \n2020-09-30 06:00:00-07:00              11.690902               11.100720  \n2020-09-30 06:15:00-07:00              11.425349               11.270312  \n...                                          ...                     ...  \n2021-06-22 20:15:00-07:00               6.948963                7.900897  \n2021-06-22 20:30:00-07:00               6.761457                7.840708  \n2021-06-22 20:45:00-07:00               6.581780                7.732686  \n2021-06-22 21:00:00-07:00               6.413283                7.571443  \n2021-06-22 21:15:00-07:00               6.259318                7.351591  \n\n[25505 rows x 4 columns]",
      "text/html": "<div>\n<style scoped>\n    .dataframe tbody tr th:only-of-type {\n        vertical-align: middle;\n    }\n\n    .dataframe tbody tr th {\n        vertical-align: top;\n    }\n\n    .dataframe thead th {\n        text-align: right;\n    }\n</style>\n<table border=\"1\" class=\"dataframe\">\n  <thead>\n    <tr style=\"text-align: right;\">\n      <th>Sensor Name</th>\n      <th>Chicago PM2.5 [ug/m3]</th>\n      <th>Cranford PM2.5 [ug/m3]</th>\n      <th>Iowa PM2.5 [ug/m3]</th>\n      <th>Magnolia PM2.5 [ug/m3]</th>\n    </tr>\n    <tr>\n      <th>datetime-America/Los_Angeles</th>\n      <th></th>\n      <th></th>\n      <th></th>\n      <th></th>\n    </tr>\n  </thead>\n  <tbody>\n    <tr>\n      <th>2020-09-30 05:15:00-07:00</th>\n      <td>7.236761</td>\n      <td>10.467560</td>\n      <td>12.949262</td>\n      <td>10.601163</td>\n    </tr>\n    <tr>\n      <th>2020-09-30 05:30:00-07:00</th>\n      <td>7.399722</td>\n      <td>10.613835</td>\n      <td>12.446988</td>\n      <td>10.765489</td>\n    </tr>\n    <tr>\n      <th>2020-09-30 05:45:00-07:00</th>\n      <td>7.581021</td>\n      <td>10.769737</td>\n      <td>12.029491</td>\n      <td>10.932227</td>\n    </tr>\n    <tr>\n      <th>2020-09-30 06:00:00-07:00</th>\n      <td>7.780169</td>\n      <td>10.935291</td>\n      <td>11.690902</td>\n      <td>11.100720</td>\n    </tr>\n    <tr>\n      <th>2020-09-30 06:15:00-07:00</th>\n      <td>7.996672</td>\n      <td>11.110053</td>\n      <td>11.425349</td>\n      <td>11.270312</td>\n    </tr>\n    <tr>\n      <th>...</th>\n      <td>...</td>\n      <td>...</td>\n      <td>...</td>\n      <td>...</td>\n    </tr>\n    <tr>\n      <th>2021-06-22 20:15:00-07:00</th>\n      <td>6.869979</td>\n      <td>6.232989</td>\n      <td>6.948963</td>\n      <td>7.900897</td>\n    </tr>\n    <tr>\n      <th>2021-06-22 20:30:00-07:00</th>\n      <td>6.889317</td>\n      <td>6.143695</td>\n      <td>6.761457</td>\n      <td>7.840708</td>\n    </tr>\n    <tr>\n      <th>2021-06-22 20:45:00-07:00</th>\n      <td>6.898994</td>\n      <td>6.091687</td>\n      <td>6.581780</td>\n      <td>7.732686</td>\n    </tr>\n    <tr>\n      <th>2021-06-22 21:00:00-07:00</th>\n      <td>6.892677</td>\n      <td>6.079960</td>\n      <td>6.413283</td>\n      <td>7.571443</td>\n    </tr>\n    <tr>\n      <th>2021-06-22 21:15:00-07:00</th>\n      <td>6.864037</td>\n      <td>6.111510</td>\n      <td>6.259318</td>\n      <td>7.351591</td>\n    </tr>\n  </tbody>\n</table>\n<p>25505 rows × 4 columns</p>\n</div>"
     },
     "execution_count": 15,
     "metadata": {},
     "output_type": "execute_result"
    }
   ],
   "source": [
    "\n",
    "clarity_pm25_interp = clarity_pm25_pivot.resample(\n",
    "    '15T').interpolate('cubic').dropna()\n",
    "if SAVE_TABLES:\n",
    "    clarity_pm25_interp.to_csv('../data/clarity_data/pm25_HighRes.csv')\n",
    "clarity_pm25_interp.info()\n",
    "clarity_pm25_interp"
   ],
   "metadata": {
    "collapsed": false,
    "pycharm": {
     "name": "#%%\n"
    }
   }
  },
  {
   "cell_type": "code",
   "execution_count": 16,
   "outputs": [
    {
     "data": {
      "text/plain": "Sensor Name                   Chicago PM2.5 [ug/m3]  Cranford PM2.5 [ug/m3]  \\\ndatetime-America/Los_Angeles                                                  \n2020-09-30 05:00:00-07:00                 22.217504               31.851132   \n2020-09-30 06:00:00-07:00                 32.486659               44.824336   \n2020-09-30 07:00:00-07:00                 36.726757               48.010764   \n2020-09-30 08:00:00-07:00                 41.896480               51.629579   \n2020-09-30 09:00:00-07:00                 47.506506               55.566698   \n...                                             ...                     ...   \n2021-06-22 17:00:00-07:00                 31.820847               35.808417   \n2021-06-22 18:00:00-07:00                 28.332710               31.185440   \n2021-06-22 19:00:00-07:00                 27.317495               27.243216   \n2021-06-22 20:00:00-07:00                 27.505599               24.824947   \n2021-06-22 21:00:00-07:00                 13.756714               12.191470   \n\nSensor Name                   Iowa PM2.5 [ug/m3]  Magnolia PM2.5 [ug/m3]  \ndatetime-America/Los_Angeles                                              \n2020-09-30 05:00:00-07:00              37.425742               32.298879  \n2020-09-30 06:00:00-07:00              45.433091               45.421543  \n2020-09-30 07:00:00-07:00              44.009098               48.111598  \n2020-09-30 08:00:00-07:00              45.193180               50.640859  \n2020-09-30 09:00:00-07:00              47.491486               52.837350  \n...                                          ...                     ...  \n2021-06-22 17:00:00-07:00              34.252036               27.638758  \n2021-06-22 18:00:00-07:00              33.013936               29.480512  \n2021-06-22 19:00:00-07:00              30.455774               31.191621  \n2021-06-22 20:00:00-07:00              27.433145               31.392932  \n2021-06-22 21:00:00-07:00              12.672601               14.923034  \n\n[6377 rows x 4 columns]",
      "text/html": "<div>\n<style scoped>\n    .dataframe tbody tr th:only-of-type {\n        vertical-align: middle;\n    }\n\n    .dataframe tbody tr th {\n        vertical-align: top;\n    }\n\n    .dataframe thead th {\n        text-align: right;\n    }\n</style>\n<table border=\"1\" class=\"dataframe\">\n  <thead>\n    <tr style=\"text-align: right;\">\n      <th>Sensor Name</th>\n      <th>Chicago PM2.5 [ug/m3]</th>\n      <th>Cranford PM2.5 [ug/m3]</th>\n      <th>Iowa PM2.5 [ug/m3]</th>\n      <th>Magnolia PM2.5 [ug/m3]</th>\n    </tr>\n    <tr>\n      <th>datetime-America/Los_Angeles</th>\n      <th></th>\n      <th></th>\n      <th></th>\n      <th></th>\n    </tr>\n  </thead>\n  <tbody>\n    <tr>\n      <th>2020-09-30 05:00:00-07:00</th>\n      <td>22.217504</td>\n      <td>31.851132</td>\n      <td>37.425742</td>\n      <td>32.298879</td>\n    </tr>\n    <tr>\n      <th>2020-09-30 06:00:00-07:00</th>\n      <td>32.486659</td>\n      <td>44.824336</td>\n      <td>45.433091</td>\n      <td>45.421543</td>\n    </tr>\n    <tr>\n      <th>2020-09-30 07:00:00-07:00</th>\n      <td>36.726757</td>\n      <td>48.010764</td>\n      <td>44.009098</td>\n      <td>48.111598</td>\n    </tr>\n    <tr>\n      <th>2020-09-30 08:00:00-07:00</th>\n      <td>41.896480</td>\n      <td>51.629579</td>\n      <td>45.193180</td>\n      <td>50.640859</td>\n    </tr>\n    <tr>\n      <th>2020-09-30 09:00:00-07:00</th>\n      <td>47.506506</td>\n      <td>55.566698</td>\n      <td>47.491486</td>\n      <td>52.837350</td>\n    </tr>\n    <tr>\n      <th>...</th>\n      <td>...</td>\n      <td>...</td>\n      <td>...</td>\n      <td>...</td>\n    </tr>\n    <tr>\n      <th>2021-06-22 17:00:00-07:00</th>\n      <td>31.820847</td>\n      <td>35.808417</td>\n      <td>34.252036</td>\n      <td>27.638758</td>\n    </tr>\n    <tr>\n      <th>2021-06-22 18:00:00-07:00</th>\n      <td>28.332710</td>\n      <td>31.185440</td>\n      <td>33.013936</td>\n      <td>29.480512</td>\n    </tr>\n    <tr>\n      <th>2021-06-22 19:00:00-07:00</th>\n      <td>27.317495</td>\n      <td>27.243216</td>\n      <td>30.455774</td>\n      <td>31.191621</td>\n    </tr>\n    <tr>\n      <th>2021-06-22 20:00:00-07:00</th>\n      <td>27.505599</td>\n      <td>24.824947</td>\n      <td>27.433145</td>\n      <td>31.392932</td>\n    </tr>\n    <tr>\n      <th>2021-06-22 21:00:00-07:00</th>\n      <td>13.756714</td>\n      <td>12.191470</td>\n      <td>12.672601</td>\n      <td>14.923034</td>\n    </tr>\n  </tbody>\n</table>\n<p>6377 rows × 4 columns</p>\n</div>"
     },
     "execution_count": 16,
     "metadata": {},
     "output_type": "execute_result"
    }
   ],
   "source": [
    "clarity_pm25_hourly = clarity_pm25_interp.resample('H').sum()\n",
    "if SAVE_TABLES:\n",
    "    clarity_pm25_hourly.to_csv('../data/clarity_data/pm25_Hourly.csv')\n",
    "clarity_pm25_hourly"
   ],
   "metadata": {
    "collapsed": false,
    "pycharm": {
     "name": "#%%\n"
    }
   }
  },
  {
   "cell_type": "markdown",
   "source": [
    "***\n",
    "> ## __NO2 Data__\n",
    "***"
   ],
   "metadata": {
    "collapsed": false,
    "pycharm": {
     "name": "#%% md\n"
    }
   }
  },
  {
   "cell_type": "code",
   "execution_count": null,
   "outputs": [],
   "source": [
    "historical_clarity_no2 = pd.read_csv(fpath_no2)\n",
    "historical_clarity_no2.info()\n",
    "historical_clarity_no2"
   ],
   "metadata": {
    "collapsed": false,
    "pycharm": {
     "name": "#%%\n",
     "is_executing": true
    }
   }
  },
  {
   "cell_type": "code",
   "execution_count": null,
   "outputs": [],
   "source": [
    "historical_clarity_no2 = ic.historical_no2(historical_clarity_no2)\n",
    "clarity_no2_data = historical_clarity_no2.get_data()\n",
    "clarity_no2_data"
   ],
   "metadata": {
    "collapsed": false,
    "pycharm": {
     "name": "#%%\n",
     "is_executing": true
    }
   }
  },
  {
   "cell_type": "markdown",
   "source": [
    "***\n",
    ">> ### __Interpolating NO2 Data__\n",
    "Method: Resampling to 15 Minute intervals with linear interpolation\n",
    "***"
   ],
   "metadata": {
    "collapsed": false,
    "pycharm": {
     "name": "#%% md\n"
    }
   }
  },
  {
   "cell_type": "code",
   "execution_count": null,
   "outputs": [],
   "source": [
    "no2_pivot = pd.pivot_table(clarity_no2_data, values='Nitrogen Dioxide [ppb]', index='datetime-America/Los_Angeles',\n",
    "                           columns='Sensor Name')\n",
    "no2_pivot = no2_pivot.resample('15T').interpolate('cubic').dropna()\n",
    "no2_pivot.rename(columns=lambda x: x + ' NO2 [ppb]', inplace=True)\n",
    "if SAVE_TABLES:\n",
    "    no2_pivot.to_csv('../date/clarity_data/no2_HighRes.csv')\n",
    "no2_pivot"
   ],
   "metadata": {
    "collapsed": false,
    "pycharm": {
     "name": "#%%\n",
     "is_executing": true
    }
   }
  },
  {
   "cell_type": "code",
   "execution_count": null,
   "outputs": [],
   "source": [
    "no2_hourly = no2_pivot.resample('H').sum()\n",
    "if SAVE_TABLES:\n",
    "    no2_hourly.to_csv('../data/clarity_data/no2_Hourly.csv')\n",
    "no2_hourly"
   ],
   "metadata": {
    "collapsed": false,
    "pycharm": {
     "name": "#%%\n",
     "is_executing": true
    }
   }
  },
  {
   "cell_type": "markdown",
   "source": [
    "***\n",
    "# __Meteorological Data__\n",
    "***\n",
    "> ## __Weather Data__\n",
    "***"
   ],
   "metadata": {
    "collapsed": false,
    "pycharm": {
     "name": "#%% md\n"
    }
   }
  },
  {
   "cell_type": "code",
   "execution_count": null,
   "outputs": [],
   "source": [
    "openWeather = pd.read_csv(fPath_weatherData)\n",
    "\n",
    "openWeather = ic.OpenWeather(openWeather)\n",
    "openWeather_hourly = openWeather.get_data()\n",
    "if SAVE_TABLES:\n",
    "    openWeather_hourly.to_csv('../data/weather_data/OpenWeather_Hourly.csv')\n",
    "openWeather_hourly.info()\n",
    "openWeather_hourly"
   ],
   "metadata": {
    "collapsed": false,
    "pycharm": {
     "name": "#%%\n",
     "is_executing": true
    }
   }
  },
  {
   "cell_type": "code",
   "execution_count": null,
   "outputs": [],
   "source": [
    "openWeather_data_HighRes = openWeather_hourly[~openWeather_hourly.index.duplicated()].resample('15T').ffill()\n",
    "openWeather_data_HighRes = openWeather_data_HighRes[~openWeather_data_HighRes.index.duplicated()]\n",
    "openWeather_data_HighRes.rename(columns={'temp'      : 'Temperature [degC]',\n",
    "                                         'pressure'  : 'Pressure [mbar]',\n",
    "                                         'humidity'  : 'Humidity [%]',\n",
    "                                         'wind_deg'  : 'Wind Direction [degrees]',\n",
    "                                         'wind_speed': 'Wind Speed [mph]'}, inplace=True)\n",
    "if SAVE_TABLES:\n",
    "    openWeather_data_HighRes.to_csv('../data/weather_data/OpenWeather_HighRes.csv')\n",
    "\n",
    "openWeather_data_HighRes.info()\n",
    "openWeather_data_HighRes"
   ],
   "metadata": {
    "collapsed": false,
    "pycharm": {
     "name": "#%%\n",
     "is_executing": true
    }
   }
  },
  {
   "cell_type": "markdown",
   "source": [
    "***\n",
    "# __Traffic Density__\n",
    "***\n",
    "$$v:\\text{average speed }(\\frac{miles}{hour})$$\n",
    "$$k:\\text{density }(\\frac{\\text{# of vehicles}}{miles})$$\n",
    "$$q=kv:\\text{Traffic Flow }(\\frac{\\text{# of vehicles}}{hour})$$\n",
    "Rearranging for k gives us :\n",
    "$$k = \\frac{q}{v}$$\n"
   ],
   "metadata": {
    "collapsed": false
   }
  },
  {
   "cell_type": "code",
   "execution_count": null,
   "outputs": [],
   "source": [
    "miles_per_meter = 0.0006213712\n",
    "path_length_m = {\n",
    "    'Local 1' : 836,\n",
    "    'Local 2' : 893,\n",
    "    'Local 9' : 918,\n",
    "    'Local 10': 836,\n",
    "    'Fwy 1'   : 2326,\n",
    "    'Fwy 2'   : 2508,\n",
    "    'Fwy 3'   : 2651,\n",
    "    'Fwy 4'   : 2450\n",
    "}"
   ],
   "metadata": {
    "collapsed": false,
    "pycharm": {
     "name": "#%%\n",
     "is_executing": true
    }
   }
  },
  {
   "cell_type": "markdown",
   "source": [
    "***\n",
    "> ## __GridSmart Data__\n",
    "***"
   ],
   "metadata": {
    "collapsed": false
   }
  },
  {
   "cell_type": "code",
   "execution_count": null,
   "outputs": [],
   "source": [
    "gs_files = os.listdir(FPath_GridSmart_csv)\n",
    "for i in nLoop(gs_files):\n",
    "    gs_files[i] = os.path.join(FPath_GridSmart_csv, gs_files[i])\n",
    "full_table = pd.read_csv(gs_files[0])\n",
    "gridsmart = ic.GridSmart_csv(full_table)\n",
    "\n",
    "for i in range(1, len(gs_files)):\n",
    "    table = pd.read_csv(gs_files[i])\n",
    "    gridsmart.add_data(table)\n",
    "\n",
    "gs_data = gridsmart.get_data()\n",
    "gs_data.info()\n",
    "gs_data"
   ],
   "metadata": {
    "collapsed": false,
    "pycharm": {
     "name": "#%%\n",
     "is_executing": true
    }
   }
  },
  {
   "cell_type": "code",
   "execution_count": null,
   "outputs": [],
   "source": [
    "gs_data.rename(columns={\n",
    "    'Northbound': 'GS-NB # of Vehicles/15 min',\n",
    "    'Eastbound' : 'GS-EB # of Vehicles/15 min',\n",
    "    'Southbound': 'GS-SB # of Vehicles/15 min',\n",
    "    'Westbound' : 'GS-WB # of Vehicles/15 min'\n",
    "}, inplace=True)\n",
    "if SAVE_TABLES:\n",
    "    gs_data.to_csv('../data/gridsmart/gridsmart_processed_HighRes.csv')\n",
    "gs_data.info()\n",
    "gs_data"
   ],
   "metadata": {
    "collapsed": false,
    "pycharm": {
     "name": "#%%\n",
     "is_executing": true
    }
   }
  },
  {
   "cell_type": "code",
   "execution_count": null,
   "outputs": [],
   "source": [
    "gs_data_hourly = gs_data.resample('H').sum()\n",
    "gs_data_hourly.rename(inplace=True, columns={\n",
    "    'GS-EB # of Vehicles/15 min': 'GS-WB # of Vehicles/Hr',\n",
    "    'GS-WB # of Vehicles/15 min': 'GS-WB # of Vehicles/Hr'\n",
    "})\n",
    "gs_data_hourly"
   ],
   "metadata": {
    "collapsed": false,
    "pycharm": {
     "name": "#%%\n",
     "is_executing": true
    }
   }
  },
  {
   "cell_type": "markdown",
   "source": [
    "***\n",
    "> ## __PEMS Freeway Data__\n",
    "***\n",
    "PEMS Data gives Vehicle Miles Traveled (VMT) which is flow times the length traveled.\n",
    "$$VMT = qL$$\n",
    "\n",
    "Rearranging gives us,\n",
    "$$q=\\frac{VMY}{L}$$\n",
    "$$k=\\frac{VMT}{L*v}$$\n",
    "\n",
    "PEMS freeway data is the aggregated sum of VMT for the hour. Upscaling resamples that sum and spaces it over 15 minutes intervals.\n",
    "\n"
   ],
   "metadata": {
    "collapsed": false,
    "pycharm": {
     "name": "#%% md\n"
    }
   }
  },
  {
   "cell_type": "code",
   "execution_count": null,
   "outputs": [],
   "source": [
    "pems_length_miles = 5.3  # miles"
   ],
   "metadata": {
    "collapsed": false,
    "pycharm": {
     "name": "#%%\n",
     "is_executing": true
    }
   }
  },
  {
   "cell_type": "code",
   "execution_count": null,
   "outputs": [],
   "source": [
    "pems_north = util.excel_folder2table(FPath_PEMS + \"/I215_northbound/\", 'Report Data', axis=1)\n",
    "pems_north = pems_north.iloc[:, ~pems_north.columns.duplicated()]\n",
    "pems_south = util.excel_folder2table(FPath_PEMS + \"/I215_southbound/\", 'Report Data', axis=1)\n",
    "pems_south = pems_south.iloc[:, ~pems_south.columns.duplicated()]\n",
    "pems = ic.PEMS(pems_north, pems_south)\n",
    "pems_data = pems.get_data()\n",
    "pems_data.info()\n",
    "pems_data"
   ],
   "metadata": {
    "collapsed": false,
    "pycharm": {
     "name": "#%%\n",
     "is_executing": true
    }
   }
  },
  {
   "cell_type": "code",
   "execution_count": null,
   "outputs": [],
   "source": [
    "pems_data_15min = pems_data/4\n",
    "pems_data_15min = pems_data_15min.resample('15T').ffill()\n",
    "if SAVE_TABLES:\n",
    "    pems_data_15min.to_csv('../data/pems/PEMS_I215_VMT_HighRes.csv')\n",
    "pems_data_15min.info()\n",
    "pems_data_15min"
   ],
   "metadata": {
    "collapsed": false,
    "pycharm": {
     "name": "#%%\n",
     "is_executing": true
    }
   }
  },
  {
   "cell_type": "markdown",
   "source": [
    "***\n",
    "> ## __Travel Time__\n",
    "***"
   ],
   "metadata": {
    "collapsed": false
   }
  },
  {
   "cell_type": "code",
   "execution_count": null,
   "outputs": [],
   "source": [
    "tt_file_list = os.listdir(FPath_travelTime_csv)\n",
    "for i in util.nLoop(tt_file_list):\n",
    "    tt_file_list[i] = FPath_travelTime_csv + \"\\\\\" + tt_file_list[i]\n",
    "tt_csvData = ic.readTravelTimeCSV(tt_file_list[0])\n",
    "for fpath in range(1, len(tt_file_list)):\n",
    "    temp = ic.readTravelTimeCSV(tt_file_list[fpath])\n",
    "    tt_csvData = pd.concat([tt_csvData, temp], axis=0)\n",
    "tt_csvData.info()\n",
    "tt_csvData"
   ],
   "metadata": {
    "collapsed": false,
    "pycharm": {
     "name": "#%%\n",
     "is_executing": true
    }
   }
  },
  {
   "cell_type": "code",
   "execution_count": null,
   "outputs": [],
   "source": [
    "travel_time = ic.travel_time(tt_csvData)\n",
    "tt_data = travel_time.get_data()\n",
    "tt_data = tt_data[~tt_data.index.duplicated()]\n",
    "if SAVE_TABLES:\n",
    "    tt_data.to_csv('../data/travel_time/travelTime_HighRes.csv')\n",
    "\n",
    "tt_data.info()\n",
    "tt_data.head(len(tt_data))"
   ],
   "metadata": {
    "collapsed": false,
    "pycharm": {
     "name": "#%%\n",
     "is_executing": true
    }
   }
  },
  {
   "cell_type": "markdown",
   "source": [
    "***\n",
    "> ## __Calculating Traffic Density__\n",
    "***\n",
    "Similar road conditions exist for local 1 and 2, as well as local 3 and 4 so we assume gridsmart sensor counts can apply to both paths"
   ],
   "metadata": {
    "collapsed": false,
    "pycharm": {
     "name": "#%% md\n"
    }
   }
  },
  {
   "cell_type": "code",
   "execution_count": null,
   "outputs": [],
   "source": [
    "traffic_density = pd.merge(tt_data, gs_data, left_index=True, right_index=True)\n",
    "traffic_density = pd.merge(traffic_density, pems_data_15min, left_index=True, right_index=True)\n",
    "traffic_density = traffic_density[(traffic_density > 0).all(1)]\n",
    "traffic_density['Density Local 1 (#Vehicles/mile)'] = (\n",
    "        (traffic_density['GS-WB # of Vehicles/15 min']*4)\n",
    "        /traffic_density['Local 1 (mph)']\n",
    ")\n",
    "traffic_density['Density Local 2 (#Vehicles/mile)'] = (\n",
    "        (traffic_density['GS-WB # of Vehicles/15 min']*4)\n",
    "        /traffic_density['Local 2 (mph)']\n",
    ")\n",
    "traffic_density['Density Local 9 (#Vehicles/mile)'] = (\n",
    "        (traffic_density['GS-EB # of Vehicles/15 min']*4)\n",
    "        /traffic_density['Local 9 (mph)']\n",
    ")\n",
    "traffic_density['Density Local 10 (#Vehicles/mile)'] = (\n",
    "        (traffic_density['GS-EB # of Vehicles/15 min']*4)\n",
    "        /traffic_density['Local 10 (mph)']\n",
    ")\n",
    "\n",
    "traffic_density['Density Fwy 1 (#Vehicles/mile)'] = (\n",
    "        traffic_density['Northbound (VMT)']\n",
    "        /pems_length_miles*traffic_density['Fwy 4 (mph)']\n",
    ")\n",
    "traffic_density['Density Fwy 4 (#Vehicles/mile)'] = (\n",
    "        traffic_density['Southbound (VMT)']\n",
    "        /pems_length_miles*traffic_density['Fwy 4 (mph)']\n",
    ")\n",
    "traffic_density.rename(columns={\n",
    "    'Northbound (VMT)': 'PEMS Northbound (VMT)',\n",
    "    'Southbound (VMT)': 'PEMS Southbound (VMT)',\n",
    "}, inplace=True)\n",
    "traffic_density = traffic_density.iloc[:, -6:]\n",
    "if SAVE_TABLES:\n",
    "    traffic_density.to_csv('../data/traffic_density/traffic_density_HighRes.csv')\n",
    "traffic_density.info()\n",
    "traffic_density"
   ],
   "metadata": {
    "collapsed": false,
    "pycharm": {
     "name": "#%%\n",
     "is_executing": true
    }
   }
  },
  {
   "cell_type": "markdown",
   "source": [
    "***\n",
    "# __Final Dataset__\n",
    "***\n",
    "> ## __PM2.5 Datasets__\n",
    "***"
   ],
   "metadata": {
    "collapsed": false,
    "pycharm": {
     "name": "#%% md\n"
    }
   }
  },
  {
   "cell_type": "code",
   "execution_count": null,
   "outputs": [],
   "source": [
    "TRAFFIC_DENSITY_FEATS = [\n",
    "    'Density Local 1 (#Vehicles/mile)',\n",
    "    'Density Local 2 (#Vehicles/mile)',\n",
    "    'Density Local 9 (#Vehicles/mile)',\n",
    "    'Density Local 10 (#Vehicles/mile)',\n",
    "    'Density Fwy 1 (#Vehicles/mile)',\n",
    "    'Density Fwy 4 (#Vehicles/mile)'\n",
    "]\n",
    "TRAVEL_TIME_FEATS = [\n",
    "    'Local 1 (mph)',\n",
    "    'Local 2 (mph)',\n",
    "    'Local 9 (mph)',\n",
    "    'Local 10 (mph)',\n",
    "    'Fwy 1 (mph)',\n",
    "    'Fwy 4 (mph)'\n",
    "]\n",
    "METEOROLOGICAL_FEATS = [\n",
    "    'Temperature [degC]',\n",
    "    'Pressure [mbar]',\n",
    "    'Humidity [%]',\n",
    "    'Wind Speed [mph]',\n",
    "    'Wind Direction [degrees]'\n",
    "]\n",
    "BACKGROUND_PM25_FEAT = ['Background PM2.5 [ug/m3]']\n",
    "BACKROUND_NO2_FEAT = ['Background NO2 [ppb]']\n",
    "DT_FEATS = [\n",
    "    'year',\n",
    "    'month',\n",
    "    'day',\n",
    "    'dayofweek_Sunday',\n",
    "    'dayofweek_Monday',\n",
    "    'dayofweek_Tuesday',\n",
    "    'dayofweek_Wednesday',\n",
    "    'dayofweek_Thursday',\n",
    "    'dayofweek_Friday',\n",
    "    'dayofweek_Saturday'\n",
    "]\n",
    "PM25_FEATURES = [\n",
    "    'Iowa PM2.5 [ug/m3]',\n",
    "    'Chicago PM2.5 [ug/m3]',\n",
    "    'Cranford PM2.5 [ug/m3]',\n",
    "    'Magnolia PM2.5 [ug/m3]'\n",
    "]\n",
    "NO2_FEATURES = [\n",
    "    'Iowa NO2 [ppb]',\n",
    "    'Chicago NO2 [ppb]',\n",
    "    'Cranford NO2 [ppb]',\n",
    "    'Magnolia NO2 [ppb]'\n",
    "]"
   ],
   "metadata": {
    "collapsed": false,
    "pycharm": {
     "name": "#%%\n",
     "is_executing": true
    }
   }
  },
  {
   "cell_type": "code",
   "execution_count": 34,
   "outputs": [
    {
     "name": "stdout",
     "output_type": "stream",
     "text": [
      "Data Points: 63278 -> 0 -Merged OpenWeather with Clarity\n",
      "Data Points: -> 0 -Merged Carb\n",
      "Data Points: 0 -Merged Travel Time\n"
     ]
    },
    {
     "ename": "AttributeError",
     "evalue": "module 'aqmd_pylib.aqmd_lib.data_toolkit' has no attribute 'df_indexMerge'",
     "output_type": "error",
     "traceback": [
      "\u001B[1;31m---------------------------------------------------------------------------\u001B[0m",
      "\u001B[1;31mAttributeError\u001B[0m                            Traceback (most recent call last)",
      "\u001B[1;32m~\\AppData\\Local\\Temp/ipykernel_26944/526957745.py\u001B[0m in \u001B[0;36m<module>\u001B[1;34m\u001B[0m\n\u001B[0;32m      7\u001B[0m                                                                 right_index=True)\n\u001B[0;32m      8\u001B[0m \u001B[0mprint\u001B[0m\u001B[1;33m(\u001B[0m\u001B[1;34mf'Data Points: {len(final_pm25_tDensity_HighRes)} -Merged Travel Time'\u001B[0m\u001B[1;33m)\u001B[0m\u001B[1;33m\u001B[0m\u001B[1;33m\u001B[0m\u001B[0m\n\u001B[1;32m----> 9\u001B[1;33m \u001B[0mfinal_pm25_tDensity_HighRes\u001B[0m\u001B[1;33m=\u001B[0m\u001B[0mdtk\u001B[0m\u001B[1;33m.\u001B[0m\u001B[0mdf_indexMerge\u001B[0m\u001B[1;33m(\u001B[0m\u001B[1;33m[\u001B[0m\u001B[0mclarity_HighRes_pm25\u001B[0m\u001B[1;33m,\u001B[0m\u001B[0mopenWeather\u001B[0m\u001B[1;33m,\u001B[0m\u001B[0mcarb_pm25_data_interp\u001B[0m\u001B[1;33m,\u001B[0m\u001B[0mtraffic_density\u001B[0m\u001B[1;33m]\u001B[0m\u001B[1;33m,\u001B[0m\u001B[0mverbose\u001B[0m\u001B[1;33m=\u001B[0m\u001B[1;32mTrue\u001B[0m\u001B[1;33m)\u001B[0m\u001B[1;33m\u001B[0m\u001B[1;33m\u001B[0m\u001B[0m\n\u001B[0m\u001B[0;32m     10\u001B[0m \u001B[0mfinal_pm25_tDensity_HighRes\u001B[0m\u001B[1;33m.\u001B[0m\u001B[0mreset_index\u001B[0m\u001B[1;33m(\u001B[0m\u001B[1;34m'datetime-America/Los_Angeles'\u001B[0m\u001B[1;33m,\u001B[0m \u001B[0minplace\u001B[0m\u001B[1;33m=\u001B[0m\u001B[1;32mTrue\u001B[0m\u001B[1;33m)\u001B[0m\u001B[1;33m\u001B[0m\u001B[1;33m\u001B[0m\u001B[0m\n\u001B[0;32m     11\u001B[0m \u001B[0mfinal_pm25_tDensity_HighRes\u001B[0m \u001B[1;33m=\u001B[0m \u001B[0mdtk\u001B[0m\u001B[1;33m.\u001B[0m\u001B[0mdf_decomposeDT\u001B[0m\u001B[1;33m(\u001B[0m\u001B[0mfinal_pm25_tDensity_HighRes\u001B[0m\u001B[1;33m,\u001B[0m \u001B[1;36m0\u001B[0m\u001B[1;33m)\u001B[0m\u001B[1;33m\u001B[0m\u001B[1;33m\u001B[0m\u001B[0m\n",
      "\u001B[1;31mAttributeError\u001B[0m: module 'aqmd_pylib.aqmd_lib.data_toolkit' has no attribute 'df_indexMerge'"
     ]
    }
   ],
   "source": [
    "final_pm25_tDensity_HighRes = clarity_HighRes_pm25.merge(openWeather_data_HighRes, left_index=True, right_index=True)\n",
    "print(\n",
    "    f'Data Points: {len(clarity_HighRes_pm25)} -> {len(final_pm25_tDensity_HighRes)} -Merged OpenWeather with Clarity')\n",
    "final_pm25_tDensity_HighRes = final_pm25_tDensity_HighRes.merge(carb_pm25_data_interp, left_index=True,\n",
    "                                                                right_index=True)\n",
    "print(f'Data Points: -> {len(final_pm25_tDensity_HighRes)} -Merged Carb')\n",
    "final_pm25_tDensity_HighRes = final_pm25_tDensity_HighRes.merge(traffic_density, left_index=True,\n",
    "                                                                right_index=True)\n",
    "print(f'Data Points: {len(final_pm25_tDensity_HighRes)} -Merged Travel Time')\n",
    "final_pm25_tDensity_HighRes = dtk.df_indexMerge(\n",
    "    [clarity_HighRes_pm25, openWeather, carb_pm25_data_interp, traffic_density], verbose=True)\n",
    "final_pm25_tDensity_HighRes.reset_index('datetime-America/Los_Angeles', inplace=True)\n",
    "final_pm25_tDensity_HighRes = dtk.df_decomposeDT(final_pm25_tDensity_HighRes, 0)\n",
    "final_pm25_tDensity_HighRes.set_index('datetime-America/Los_Angeles', inplace=True)\n",
    "final_pm25_tDensity_HighRes = pd.get_dummies(final_pm25_tDensity_HighRes, columns=['dayofweek'])\n",
    "pm25_TrafficDensity_col_vals = PM25_FEATURES + DT_FEATS + BACKGROUND_PM25_FEAT + METEOROLOGICAL_FEATS + TRAFFIC_DENSITY_FEATS\n",
    "final_pm25_tDensity_HighRes = final_pm25_tDensity_HighRes.loc[:, pm25_TrafficDensity_col_vals]\n",
    "if SAVE_TABLES:\n",
    "    final_pm25_tDensity_HighRes.to_csv(r'../data/complete_sets/full_pm25_TrafficDensity.csv')\n",
    "final_pm25_tDensity_HighRes.info()\n",
    "final_pm25_tDensity_HighRes"
   ],
   "metadata": {
    "collapsed": false,
    "pycharm": {
     "name": "#%%\n"
    }
   }
  },
  {
   "cell_type": "code",
   "execution_count": null,
   "outputs": [],
   "source": [
    "final_pm25_TravelTime = pm25_pivot.merge(openWeather_data_HighRes, left_index=True, right_index=True)\n",
    "print(f'Data Points: {len(final_pm25_TravelTime)} -Merged OpenWeather with Clarity')\n",
    "final_pm25_TravelTime = final_pm25_TravelTime.merge(carb_pm25_data_interp, left_index=True, right_index=True)\n",
    "print(f'Data Points: {len(final_pm25_TravelTime)} -Merged Carb')\n",
    "final_pm25_TravelTime = final_pm25_TravelTime.merge(tt_data, left_index=True, right_index=True)\n",
    "print(f'Data Points: {len(final_pm25_TravelTime)} -Merged Travel Time')\n",
    "final_pm25_TravelTime.reset_index('datetime-America/Los_Angeles', inplace=True)\n",
    "final_pm25_TravelTime = dtk.df_decomposeDT(final_pm25_TravelTime, 0)\n",
    "final_pm25_TravelTime.drop(\n",
    "    columns=[\n",
    "        'timezone', 'week of year',\n",
    "    ],\n",
    "    inplace=True\n",
    ")\n",
    "final_pm25_TravelTime.set_index('datetime-America/Los_Angeles', inplace=True)\n",
    "final_pm25_TravelTime = pd.get_dummies(final_pm25_TravelTime, columns=['dayofweek'])\n",
    "pm25_TravelTime_col_vals = [\n",
    "    'Iowa PM2.5 [ug/m3]',\n",
    "    'Chicago PM2.5 [ug/m3]',\n",
    "    'Cranford PM2.5 [ug/m3]',\n",
    "    'Magnolia PM2.5 [ug/m3]',\n",
    "    'year',\n",
    "    'month',\n",
    "    'day',\n",
    "    'dayofweek_Sunday',\n",
    "    'dayofweek_Monday',\n",
    "    'dayofweek_Tuesday',\n",
    "    'dayofweek_Wednesday',\n",
    "    'dayofweek_Thursday',\n",
    "    'dayofweek_Friday',\n",
    "    'dayofweek_Saturday',\n",
    "    'Temperature [degC]',\n",
    "    'Pressure [mbar]',\n",
    "    'Humidity [%]',\n",
    "    'Wind Speed [mph]',\n",
    "    'Wind Direction [degrees]',\n",
    "    'Background PM2.5 [ug/m3]',\n",
    "\n",
    "]\n",
    "final_pm25_TravelTime = final_pm25_TravelTime.loc[:, pm25_TravelTime_col_vals]\n",
    "if SAVE_TABLES:\n",
    "    final_pm25_TravelTime.to_csv('../data/complete_sets/full_pm25_TravelTime.csv')\n",
    "\n",
    "final_pm25_TravelTime.info()\n",
    "final_pm25_TravelTime"
   ],
   "metadata": {
    "collapsed": false,
    "pycharm": {
     "name": "#%%\n"
    }
   }
  },
  {
   "cell_type": "markdown",
   "source": [
    "***\n",
    "> ## __NO2 Datasets__\n",
    "***"
   ],
   "metadata": {
    "collapsed": false,
    "pycharm": {
     "name": "#%% md\n"
    }
   }
  },
  {
   "cell_type": "code",
   "execution_count": null,
   "outputs": [],
   "source": [
    "print(f'Starting Data Points: {len(no2_pivot)}')\n",
    "final_no2_TrafficDensity = no2_pivot.merge(openWeather_data_HighRes,\n",
    "                                           left_index=True, right_index=True)\n",
    "print(f'    Data Points: {len(final_no2_TrafficDensity)} - Merged OpenWeather with NO2 Data')\n",
    "final_no2_TrafficDensity = final_no2_TrafficDensity.merge(carb_no2_data_interp, left_index=True, right_index=True)\n",
    "print(f'    Data Points: {len(final_no2_TrafficDensity)} - Merged Carb with NO2 Data')\n",
    "final_no2_TrafficDensity = final_no2_TrafficDensity.merge(traffic_density,\n",
    "                                                          left_index=True, right_index=True)\n",
    "print(f'    Data Points: {len(final_no2_TrafficDensity)} - Merged Carb Trraffic Density with NO2 Data')\n",
    "final_no2_TrafficDensity.reset_index('datetime-America/Los_Angeles', inplace=True)\n",
    "final_no2_TrafficDensity = dtk.df_decomposeDT(final_no2_TrafficDensity, 0)\n",
    "final_no2_TrafficDensity.drop(\n",
    "    columns=['timezone', 'week of year'],\n",
    "    inplace=True\n",
    ")\n",
    "final_no2_TrafficDensity.set_index('datetime-America/Los_Angeles', inplace=True)\n",
    "final_no2_TrafficDensity = pd.get_dummies(final_no2_TrafficDensity, columns=['dayofweek'])\n",
    "no2_TrafficDensity_col_vals = [\n",
    "    'Iowa NO2 [ppb]',\n",
    "    'Chicago NO2 [ppb]',\n",
    "    'Cranford NO2 [ppb]',\n",
    "    'Magnolia NO2 [ppb]',\n",
    "    'year',\n",
    "    'month',\n",
    "    'day',\n",
    "    'dayofweek_Sunday',\n",
    "    'dayofweek_Monday',\n",
    "    'dayofweek_Tuesday',\n",
    "    'dayofweek_Wednesday',\n",
    "    'dayofweek_Thursday',\n",
    "    'dayofweek_Friday',\n",
    "    'dayofweek_Saturday',\n",
    "    'Temperature [degC]',\n",
    "    'Pressure [mbar]',\n",
    "    'Humidity [%]',\n",
    "    'Wind Speed [mph]',\n",
    "    'Wind Direction [degrees]',\n",
    "    'Background NO2 [ppb]',\n",
    "    'Density Local 1 (#Vehicles/mile)',\n",
    "    'Density Local 2 (#Vehicles/mile)',\n",
    "    'Density Local 9 (#Vehicles/mile)',\n",
    "    'Density Local 10 (#Vehicles/mile)',\n",
    "    'Density Fwy 1 (#Vehicles/mile)',\n",
    "    'Density Fwy 4 (#Vehicles/mile)',\n",
    "]\n",
    "final_no2_TrafficDensity = final_no2_TrafficDensity.loc[:, no2_TrafficDensity_col_vals]\n",
    "if SAVE_TABLES:\n",
    "    final_no2_TrafficDensity.to_csv(r'../data/complete_sets/full_NO2_TrafficDensity.csv')\n",
    "final_no2_TrafficDensity.info()\n",
    "final_no2_TrafficDensity"
   ],
   "metadata": {
    "collapsed": false,
    "pycharm": {
     "name": "#%%\n"
    }
   }
  },
  {
   "cell_type": "markdown",
   "source": [
    "***\n",
    "## __Split by Sensor__\n",
    "***"
   ],
   "metadata": {
    "collapsed": false,
    "pycharm": {
     "name": "#%% md\n"
    }
   }
  },
  {
   "cell_type": "code",
   "execution_count": null,
   "outputs": [],
   "source": [
    "chicago_drop_pm25 = ['Cranford PM2.5 [ug/m3]', 'Iowa PM2.5 [ug/m3]', 'Magnolia PM2.5 [ug/m3]']\n",
    "chicago_drop_no2 = ['Cranford NO2 [ppb]', 'Iowa NO2 [ppb]', 'Magnolia NO2 [ppb]']\n",
    "chicago_pm25_TrafficDensity = final_pm25_tDensity_HighRes.drop(columns=chicago_drop_pm25)\n",
    "chicago_pm25_TravelTime = final_pm25_TravelTime.drop(columns=chicago_drop_pm25)\n",
    "chicago_no2_TrafficDensity = final_no2_TrafficDensity.drop(columns=chicago_drop_no2)\n",
    "if SAVE_TABLES:\n",
    "    chicago_pm25_TrafficDensity.to_csv('../data/complete_sets/chicago/chicago_full_pm25_TrafficDensity.csv')\n",
    "    chicago_pm25_TravelTime.to_csv('../data/complete_sets/chicago/chicago_full_pm25_TravelTime.csv')\n",
    "    chicago_no2_TrafficDensity.to_csv('../data/complete_sets/chicago/chicago_full_NO2_TrafficDensity.csv')"
   ],
   "metadata": {
    "collapsed": false,
    "pycharm": {
     "name": "#%%\n"
    }
   }
  },
  {
   "cell_type": "code",
   "execution_count": null,
   "outputs": [],
   "source": [
    "cranford_drop_pm25 = ['Chicago PM2.5 [ug/m3]', 'Iowa PM2.5 [ug/m3]', 'Magnolia PM2.5 [ug/m3]']\n",
    "cranford_drop_no2 = ['Chicago NO2 [ppb]', 'Iowa NO2 [ppb]', 'Magnolia NO2 [ppb]']\n",
    "cranford_pm25_TrafficDensity = final_pm25_tDensity_HighRes.drop(columns=cranford_drop_pm25)\n",
    "cranford_pm25_TravelTime = final_pm25_TravelTime.drop(columns=cranford_drop_pm25)\n",
    "cranford_NO2_TrafficDensity = final_no2_TrafficDensity.drop(columns=cranford_drop_no2)\n",
    "if SAVE_TABLES:\n",
    "    cranford_pm25_TrafficDensity.to_csv('../data/complete_sets/cranford/cranford_full_pm25_TrafficDensity.csv')\n",
    "    cranford_pm25_TravelTime.to_csv('../data/complete_sets/cranford/cranford_full_pm25_TravelTime.csv')\n",
    "    cranford_NO2_TrafficDensity.to_csv('../data/complete_sets/cranford/cranford_full_NO2_TrafficDensity.csv')"
   ],
   "metadata": {
    "collapsed": false,
    "pycharm": {
     "name": "#%%\n"
    }
   }
  },
  {
   "cell_type": "code",
   "execution_count": null,
   "outputs": [],
   "source": [
    "iowa_drop_pm25 = ['Chicago PM2.5 [ug/m3]', 'Cranford PM2.5 [ug/m3]', 'Magnolia PM2.5 [ug/m3]']\n",
    "iowa_drop_no2 = ['Chicago NO2 [ppb]', 'Cranford NO2 [ppb]', 'Magnolia NO2 [ppb]']\n",
    "iowa_pm25_TrafficDensity = final_pm25_tDensity_HighRes.drop(columns=iowa_drop_pm25)\n",
    "iowa_pm25_TravelTime = final_pm25_TravelTime.drop(columns=iowa_drop_pm25)\n",
    "iowa_no2_TrafficDensity = final_no2_TrafficDensity.drop(columns=iowa_drop_no2)\n",
    "if SAVE_TABLES:\n",
    "    iowa_pm25_TrafficDensity.to_csv('../data/complete_sets/iowa/iowa_full_pm25_TrafficDensity.csv')\n",
    "    iowa_pm25_TravelTime.to_csv('../data/complete_sets/iowa/iowa_full_pm25_TravelTime.csv')\n",
    "    iowa_no2_TrafficDensity.to_csv('../data/complete_sets/iowa/iowa_full_NO2_TrafficDensity.csv')"
   ],
   "metadata": {
    "collapsed": false,
    "pycharm": {
     "name": "#%%\n"
    }
   }
  },
  {
   "cell_type": "code",
   "execution_count": null,
   "outputs": [],
   "source": [
    "magnolia_drop_pm25 = ['Iowa PM2.5 [ug/m3]', 'Cranford PM2.5 [ug/m3]', 'Chicago PM2.5 [ug/m3]']\n",
    "magnolia_drop_no2 = ['Iowa NO2 [ppb]', 'Cranford NO2 [ppb]', 'Chicago NO2 [ppb]']\n",
    "magnolia_pm25_TrafficDensity = final_pm25_tDensity_HighRes.drop(columns=magnolia_drop_pm25)\n",
    "magnolia_pm25_TravelTime = final_pm25_TravelTime.drop(columns=magnolia_drop_pm25)\n",
    "magnolia_no2_TrafficDensity = final_no2_TrafficDensity.drop(columns=magnolia_drop_no2)\n",
    "if SAVE_TABLES:\n",
    "    magnolia_pm25_TrafficDensity.to_csv('../data/complete_sets/magnolia/magnolia_full_pm25_TrafficDensity.csv')\n",
    "    magnolia_pm25_TravelTime.to_csv('../data/complete_sets/magnolia/magnolia_full_pm25_TravelTime.csv')\n",
    "    magnolia_no2_TrafficDensity.to_csv('../data/complete_sets/magnolia/magnolia_full_NO2_TrafficDensity.csv')"
   ],
   "metadata": {
    "collapsed": false,
    "pycharm": {
     "name": "#%%\n"
    }
   }
  }
 ],
 "metadata": {
  "kernelspec": {
   "name": "base",
   "language": "python",
   "display_name": "base"
  },
  "language_info": {
   "codemirror_mode": {
    "name": "ipython",
    "version": 2
   },
   "file_extension": ".py",
   "mimetype": "text/x-python",
   "name": "python",
   "nbconvert_exporter": "python",
   "pygments_lexer": "ipython2",
   "version": "2.7.6"
  }
 },
 "nbformat": 4,
 "nbformat_minor": 0
}